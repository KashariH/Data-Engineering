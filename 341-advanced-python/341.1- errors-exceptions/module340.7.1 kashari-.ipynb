{
 "cells": [
  {
   "cell_type": "markdown",
   "metadata": {},
   "source": [
    "# Lesson 341.1 Practice"
   ]
  },
  {
   "cell_type": "markdown",
   "metadata": {},
   "source": [
    "## GLAB 341.1- The \"try\" & \"except\" block to handling exceptions "
   ]
  },
  {
   "cell_type": "code",
   "execution_count": null,
   "metadata": {},
   "outputs": [],
   "source": [
    "#                                                                    Notes/Comments\n",
    "# Basic Exception Handling: Code within the (try block) is monitored for errors. If an error (exception) occurs, the code within the except block is executed, preventing the program from crashing.\n",
    "\n",
    "# Handling Specific Exceptions: Instead of catching all exceptions (like ValueError and ZeroDivisionError) using multiple except blocks. This allows for tailored error messages and more robust code.\n",
    "\n",
    "# User Input and Error Handling: The provided examples illustrate how to handle potential errors arising from user input, such as when a user enters invalid data types or attempts to divide by zero.\n",
    "\n",
    "# Python uses try and except keywords to handle exceptions. Both keywords are followed by indented blocks. \n",
    "\n",
    "# For example, try:\n",
    "            # statements in try block\n",
    "# For example, executed: \n",
    "            # executed when error in try block\n"
   ]
  },
  {
   "cell_type": "code",
   "execution_count": null,
   "metadata": {},
   "outputs": [
    {
     "ename": "ZeroDivisionError",
     "evalue": "division by zero",
     "output_type": "error",
     "traceback": [
      "\u001b[1;31m---------------------------------------------------------------------------\u001b[0m",
      "\u001b[1;31mZeroDivisionError\u001b[0m                         Traceback (most recent call last)",
      "Cell \u001b[1;32mIn[1], line 3\u001b[0m\n\u001b[0;32m      1\u001b[0m a \u001b[38;5;241m=\u001b[39m \u001b[38;5;241m10\u001b[39m \n\u001b[0;32m      2\u001b[0m b \u001b[38;5;241m=\u001b[39m \u001b[38;5;241m0\u001b[39m \n\u001b[1;32m----> 3\u001b[0m c \u001b[38;5;241m=\u001b[39m a \u001b[38;5;241m/\u001b[39m b \n\u001b[0;32m      4\u001b[0m \u001b[38;5;28mprint\u001b[39m(\u001b[38;5;124m\"\u001b[39m\u001b[38;5;124ma/b = \u001b[39m\u001b[38;5;132;01m%d\u001b[39;00m\u001b[38;5;124m\"\u001b[39m \u001b[38;5;241m%\u001b[39m c)\n",
      "\u001b[1;31mZeroDivisionError\u001b[0m: division by zero"
     ]
    }
   ],
   "source": [
    "#If we divide any number by zero, try block will throw ZeroDivisionError for example, \n",
    "\n",
    "a = 10 \n",
    "b = 0 \n",
    "c = a / b \n",
    "print(\"a/b = %d\" % c) "
   ]
  },
  {
   "cell_type": "code",
   "execution_count": null,
   "metadata": {},
   "outputs": [
    {
     "ename": "ZeroDivisionError",
     "evalue": "division by zero",
     "output_type": "error",
     "traceback": [
      "\u001b[1;31m---------------------------------------------------------------------------\u001b[0m",
      "\u001b[1;31mZeroDivisionError\u001b[0m                         Traceback (most recent call last)",
      "Cell \u001b[1;32mIn[6], line 3\u001b[0m\n\u001b[0;32m      1\u001b[0m a \u001b[38;5;241m=\u001b[39m \u001b[38;5;241m8\u001b[39m \n\u001b[0;32m      2\u001b[0m b \u001b[38;5;241m=\u001b[39m \u001b[38;5;241m0\u001b[39m \n\u001b[1;32m----> 3\u001b[0m c \u001b[38;5;241m=\u001b[39m a\u001b[38;5;241m/\u001b[39mb \n\u001b[0;32m      4\u001b[0m \u001b[38;5;28mprint\u001b[39m(\u001b[38;5;124m\"\u001b[39m\u001b[38;5;124ma/b = \u001b[39m\u001b[38;5;132;01m%d\u001b[39;00m\u001b[38;5;124m\"\u001b[39m \u001b[38;5;241m%\u001b[39m c)\n",
      "\u001b[1;31mZeroDivisionError\u001b[0m: division by zero"
     ]
    }
   ],
   "source": [
    "# Here's my example\n",
    "a = 8 \n",
    "b = 0 \n",
    "c = a/b \n",
    "print(\"a/b = %d\" % c)"
   ]
  },
  {
   "cell_type": "code",
   "execution_count": null,
   "metadata": {},
   "outputs": [
    {
     "name": "stdout",
     "output_type": "stream",
     "text": [
      "Can't divide with zero. Provide different number\n"
     ]
    }
   ],
   "source": [
    "# We can handle the above exception using the try…except block. See the following code.\n",
    "try: \n",
    "    a = 10 \n",
    "    b = 0 \n",
    "    print(\"Can't divide with zero. Provide different number\") \n",
    "    c = a/b \n",
    "    print(\"The answer of a divide by b:\", c) \n",
    "except: "
   ]
  },
  {
   "cell_type": "code",
   "execution_count": null,
   "metadata": {},
   "outputs": [
    {
     "name": "stdout",
     "output_type": "stream",
     "text": [
      "Can't divide with zero. Provide different number\n"
     ]
    }
   ],
   "source": [
    "# Here's my example \n",
    "try: \n",
    "    a = 8 \n",
    "    b = 0 \n",
    "    c = a/b\n",
    "except:\n",
    "    print(\"Can't divide with zero. Provide different number\")"
   ]
  },
  {
   "cell_type": "code",
   "execution_count": null,
   "metadata": {},
   "outputs": [],
   "source": [
    "# Using class with iterator functions #\n",
    "class Recipes: \n",
    "    def __init__(self,Recipes): \n",
    "        self.Recipes = Recipes\n",
    "        self.index = 0 \n",
    "    def __iter__(self): \n",
    "        return self \n",
    "    def __next__(self): \n",
    "        if self.index >= len(self.Recipes):\n",
    "            raise StopIteration\n",
    "        current_recipe= self.recipes[self.index]\n",
    "        self.index += 1\n",
    "        return current_recipe\n",
    "    \n",
    "\n",
    "# To add a recipe\n",
    "def add_recipe(sel,recipes):\n",
    "    self.recipes.append(recipes) "
   ]
  },
  {
   "cell_type": "markdown",
   "metadata": {},
   "source": []
  },
  {
   "cell_type": "code",
   "execution_count": null,
   "metadata": {},
   "outputs": [],
   "source": []
  }
 ],
 "metadata": {
  "kernelspec": {
   "display_name": "base",
   "language": "python",
   "name": "python3"
  },
  "language_info": {
   "codemirror_mode": {
    "name": "ipython",
    "version": 3
   },
   "file_extension": ".py",
   "mimetype": "text/x-python",
   "name": "python",
   "nbconvert_exporter": "python",
   "pygments_lexer": "ipython3",
   "version": "3.12.7"
  }
 },
 "nbformat": 4,
 "nbformat_minor": 2
}
