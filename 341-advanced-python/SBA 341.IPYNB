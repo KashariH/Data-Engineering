{
 "cells": [
  {
   "cell_type": "markdown",
   "id": "c74a859d",
   "metadata": {},
   "source": [
    "# Kashari Hutchins Advanced Python Programming SBA 341"
   ]
  },
  {
   "cell_type": "code",
   "execution_count": null,
   "id": "017e0d49",
   "metadata": {},
   "outputs": [],
   "source": [
    "\"\"\"Requirement Statement:\n",
    "Complete the lambda function inside lambdaMap(arr).\n",
    "Remove all negative numbers (keep 0 and positive numbers).\n",
    "Double the remaining numbers.\n",
    "Do not modify the function signature or use explicit loops.\n",
    "Provided Python Script (Example Usage):\n",
    "def lambdaMap(arr):\n",
    "    ans = map(# Complete the lambda function here, arr)\n",
    "    return ans\n",
    "\n",
    "\n",
    "# Test cases\n",
    "test = [-3, -2, -1, 0, 1, 2, 3, 4, 5]\n",
    "ans = lambdaMap(test)\n",
    "print(ans)  # Expected Output: [0, 2, 4, 6, 8, 10]\"\"\"\n",
    "\n"
   ]
  },
  {
   "cell_type": "markdown",
   "id": "82bb667b",
   "metadata": {},
   "source": [
    "### Task One requires completing a lambda function to remove negative numbers from a list and double the remaining numbers.\n"
   ]
  },
  {
   "cell_type": "code",
   "execution_count": 40,
   "id": "18cda74e",
   "metadata": {},
   "outputs": [
    {
     "name": "stdout",
     "output_type": "stream",
     "text": [
      "[2, 4, 12]\n"
     ]
    }
   ],
   "source": [
    "arr = [-1, 1, 2, -2, 6] # This is my list \n",
    "\n",
    "result = list(filter(lambda x: x > 0, map(lambda x: x * 2, arr))) # This is my code combing the functions \n",
    " \n",
    "\n",
    "print(result)\n",
    "\n"
   ]
  },
  {
   "cell_type": "markdown",
   "id": "a87b06e5",
   "metadata": {},
   "source": [
    "### Task Two involves writing a regular expression to match strings that start and end with the same character ('a' or 'b').\n"
   ]
  },
  {
   "cell_type": "code",
   "execution_count": 43,
   "id": "24bb6d53",
   "metadata": {},
   "outputs": [
    {
     "name": "stdout",
     "output_type": "stream",
     "text": [
      "matched:  acb\n",
      "matched:  ab\n",
      "matched:  a123b\n",
      "Did not match:ba\n"
     ]
    }
   ],
   "source": [
    "import re \n",
    "pattern = r'^a.*b$'\n",
    "test_strings = ['acb', 'ab', 'a123b', 'ba']\n",
    "for s in test_strings: \n",
    "    if re.match(pattern, s): \n",
    "        print(f\"matched:  {s}\")\n",
    "    else: \n",
    "        print(f\"Did not match:{s}\")"
   ]
  },
  {
   "cell_type": "markdown",
   "id": "a8bbe938",
   "metadata": {},
   "source": [
    "### Task Three requires implementing a Python iterator class to iterate over words in a list of sentences.\n"
   ]
  },
  {
   "cell_type": "code",
   "execution_count": 49,
   "id": "0064e36c",
   "metadata": {},
   "outputs": [
    {
     "name": "stdout",
     "output_type": "stream",
     "text": [
      "Hi, You look great today!\n",
      "Thank you! You look amazing as always!\n"
     ]
    }
   ],
   "source": [
    "class WordIterator:\n",
    "    def __init__(self, sentences_list): \n",
    "        self.words = []\n",
    "        for sentence in sentences_list: \n",
    "            self.words.extend(sentence.sp)\n",
    "            self.index = 0 \n",
    "            def __iter__(self): \n",
    "                return self\n",
    "            def __next__(self): \n",
    "                if self.index < len(self.words): \n",
    "                    word = self.words[self.index] \n",
    "                    self.index +=1 \n",
    "                    return word \n",
    "                else: \n",
    "                    raise StopIteration \n",
    "                \n",
    "sentences_list = [\"Hi, You look great today!\", \"Thank you! You look amazing as always!\"]\n",
    "for sentence in sentences_list: \n",
    "    print(sentence)"
   ]
  }
 ],
 "metadata": {
  "kernelspec": {
   "display_name": "base",
   "language": "python",
   "name": "python3"
  },
  "language_info": {
   "codemirror_mode": {
    "name": "ipython",
    "version": 3
   },
   "file_extension": ".py",
   "mimetype": "text/x-python",
   "name": "python",
   "nbconvert_exporter": "python",
   "pygments_lexer": "ipython3",
   "version": "3.12.7"
  }
 },
 "nbformat": 4,
 "nbformat_minor": 5
}
