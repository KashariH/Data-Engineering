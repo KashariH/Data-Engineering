{
 "cells": [
  {
   "cell_type": "markdown",
   "metadata": {},
   "source": [
    "# Task 1 "
   ]
  },
  {
   "cell_type": "code",
   "execution_count": null,
   "metadata": {},
   "outputs": [
    {
     "name": "stdout",
     "output_type": "stream",
     "text": [
      "155\n",
      "21\n",
      "5896\n"
     ]
    }
   ],
   "source": [
    "# The Mighty Calculator \n",
    "\n",
    "def add_numbers(a, b):\n",
    "    return a + b \n",
    "\n",
    "def subtract_numbers(a, b ):\n",
    "    return a - b \n",
    "\n",
    "def mulitply_numbers(a, b):\n",
    "    return a * b \n",
    "\n",
    "\n",
    "# This is my code\n",
    "\n",
    "# I am creating an f function of  88 & 67. \n",
    "\n",
    "def add_numbers(a = 88, b = 67):\n",
    "     return a + b \n",
    "\n",
    "add_numbers(88, 67)\n",
    "print(88 + 67)\n",
    "\n",
    "# I am subtracting an f function of 88 - 67. \n",
    "\n",
    "def subtract_numbers(a = 88, b = 67):\n",
    "    return a - b \n",
    "    print(a, b)\n",
    "\n",
    "subtract_numbers(88,67)\n",
    "print(88 - 67)\n",
    "\n",
    "# I am multiplying 88 * 67.\n",
    "\n",
    "def mulitply_numbers(a , b ):\n",
    "    \n",
    "    return a * b \n",
    "    print(a, b)\n",
    "\n",
    "mulitply_numbers(88,67)\n",
    "print(88 * 67)\n",
    "\n",
    "\n"
   ]
  },
  {
   "cell_type": "markdown",
   "metadata": {},
   "source": [
    "# Summary"
   ]
  },
  {
   "cell_type": "markdown",
   "metadata": {},
   "source": [
    "#### What I learned is how you can specify what expression you want to use and without the extra steps making it flexible for the programmer. "
   ]
  }
 ],
 "metadata": {
  "kernelspec": {
   "display_name": "base",
   "language": "python",
   "name": "python3"
  },
  "language_info": {
   "codemirror_mode": {
    "name": "ipython",
    "version": 3
   },
   "file_extension": ".py",
   "mimetype": "text/x-python",
   "name": "python",
   "nbconvert_exporter": "python",
   "pygments_lexer": "ipython3",
   "version": "3.12.7"
  }
 },
 "nbformat": 4,
 "nbformat_minor": 2
}
