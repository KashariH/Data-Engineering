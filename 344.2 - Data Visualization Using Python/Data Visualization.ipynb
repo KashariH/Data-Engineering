{
 "cells": [
  {
   "cell_type": "markdown",
   "id": "202cff7f",
   "metadata": {},
   "source": [
    "### `Data Visualization With Python Notes`"
   ]
  },
  {
   "cell_type": "markdown",
   "id": "486da14f",
   "metadata": {},
   "source": [
    "#### Matplotlib is a widely used python library for creating various charts and plots. "
   ]
  },
  {
   "cell_type": "markdown",
   "id": "c93dbbcb",
   "metadata": {},
   "source": [
    "#### By leveraging Matplotlib, you can transform your data into compelling visualizations that inform, engage, and empower effective communication. "
   ]
  },
  {
   "cell_type": "markdown",
   "id": "b2c5bde8",
   "metadata": {},
   "source": [
    "#### Matplotlib creates publication quality plots, Makes interactive figures that can zoom, pan, and update. Customizes visual style and layout. Exports to many file formats. Embeds in JupyterLab & Graphical User Interfaces. Uses a rich array of third-party packages built on Matplotlib"
   ]
  }
 ],
 "metadata": {
  "language_info": {
   "name": "python"
  }
 },
 "nbformat": 4,
 "nbformat_minor": 5
}
