{
 "cells": [
  {
   "cell_type": "markdown",
   "id": "209673da",
   "metadata": {},
   "source": [
    "# `Python Pandas & Data Analytics Notes`"
   ]
  },
  {
   "cell_type": "markdown",
   "id": "64d22bb5",
   "metadata": {},
   "source": [
    "### Python Analytical base libraries "
   ]
  },
  {
   "cell_type": "markdown",
   "id": "53892a76",
   "metadata": {},
   "source": [
    "#### Data Cleaning & Transformation (Use Pandas) "
   ]
  },
  {
   "cell_type": "markdown",
   "id": "d2ba24b6",
   "metadata": {},
   "source": [
    "#### Numerical Analysis & Statistical Computation (NumPy) "
   ]
  },
  {
   "cell_type": "markdown",
   "id": "f9526be2",
   "metadata": {},
   "source": [
    "#### Data Visualization (Matplotlib) "
   ]
  },
  {
   "cell_type": "markdown",
   "id": "06ea5e51",
   "metadata": {},
   "source": [
    "### `Overview Of Pandas`"
   ]
  },
  {
   "cell_type": "markdown",
   "id": "4d14510c",
   "metadata": {},
   "source": [
    "#### Pandas is a Python library used for working with data sets. It has functions for analyzing, cleaning, exploring and manipulating data. "
   ]
  },
  {
   "cell_type": "markdown",
   "id": "fd603e54",
   "metadata": {},
   "source": [
    "#### Pandas provides fast, flexible, and expressive data structures designed to make working with \"relational\" or \"labeled\" data both easy and intuitive. Pandas stands for \"Panel Data\" "
   ]
  },
  {
   "cell_type": "markdown",
   "id": "aba5dacb",
   "metadata": {},
   "source": [
    "#### Pandas can give you a correlation between two or more columns. The average value. The min value. The max value. "
   ]
  },
  {
   "cell_type": "markdown",
   "id": "a5ba3934",
   "metadata": {},
   "source": [
    "#### Pandas is the most important python package for data analysis, with capabilities such as checking data types and extracting correlations between data fields. "
   ]
  },
  {
   "cell_type": "markdown",
   "id": "89372e91",
   "metadata": {},
   "source": [
    "#### Pandas is good for tabular data with heterogeneously typed columns, as in an SQL table or Excel spreadsheet. "
   ]
  },
  {
   "cell_type": "markdown",
   "id": "d1361e76",
   "metadata": {},
   "source": [
    "#### Pandas allows for loading various data file types, including CSV, Excel, and JSON into dataframes, which can then be manipulated and transformed. "
   ]
  },
  {
   "cell_type": "markdown",
   "id": "027bc3a0",
   "metadata": {},
   "source": [
    "#### Pandas offer ordered and unordered (not necessarily fixed-frequency) time series data. The data need not be labeled at all to be placed into a pandas data structure. "
   ]
  },
  {
   "cell_type": "code",
   "execution_count": null,
   "id": "ee22c9a5",
   "metadata": {},
   "outputs": [],
   "source": [
    "import pandas  # Imported into my application "
   ]
  },
  {
   "cell_type": "code",
   "execution_count": 3,
   "id": "3923aaee",
   "metadata": {},
   "outputs": [
    {
     "name": "stdout",
     "output_type": "stream",
     "text": [
      "    cars  passings\n",
      "0    BWM         3\n",
      "1  Volvo         7\n",
      "2   Ford         2\n"
     ]
    }
   ],
   "source": [
    "import pandas \n",
    "\n",
    "mydataset = {\n",
    "    'cars': [\"BWM\", \"Volvo\", \"Ford\"], \n",
    "    'passings': [3, 7, 2]\n",
    "}\n",
    "\n",
    "myvar = pandas.DataFrame(mydataset) \n",
    "print(myvar) "
   ]
  },
  {
   "cell_type": "markdown",
   "id": "b0461ce9",
   "metadata": {},
   "source": [
    "#### A Pandas Series is like a column in a table. It is a one-dimensional array holding data of any type. "
   ]
  },
  {
   "cell_type": "code",
   "execution_count": null,
   "id": "d333d70a",
   "metadata": {},
   "outputs": [
    {
     "name": "stdout",
     "output_type": "stream",
     "text": [
      "0    1\n",
      "1    7\n",
      "2    2\n",
      "dtype: int64\n"
     ]
    }
   ],
   "source": [
    "import pandas as pd # Imported pandas as pd\n",
    "\n",
    "a = [1, 7, 2]  # Created a table\n",
    "\n",
    "myvar = pd.Series(a) # Printed the Series in the table as well as the dtype. \n",
    "print(myvar) "
   ]
  },
  {
   "cell_type": "markdown",
   "id": "3d5a25c1",
   "metadata": {},
   "source": [
    "#### Labels: If nothing is else is specified, the values are labeled with their index number. First value has index 0, second value has index 1 etc. The label can be used to access a specified value. "
   ]
  },
  {
   "cell_type": "code",
   "execution_count": null,
   "id": "d2120b3a",
   "metadata": {},
   "outputs": [
    {
     "name": "stdout",
     "output_type": "stream",
     "text": [
      "1\n"
     ]
    }
   ],
   "source": [
    "# Return the first value of the series\n",
    "\n",
    "print(myvar[0]) # Will return the first value of the series"
   ]
  },
  {
   "cell_type": "markdown",
   "id": "2b3ec134",
   "metadata": {},
   "source": [
    "#### Create Labels with the index arguments, you can name your own labels. "
   ]
  },
  {
   "cell_type": "code",
   "execution_count": null,
   "id": "731c9665",
   "metadata": {},
   "outputs": [
    {
     "name": "stdout",
     "output_type": "stream",
     "text": [
      "x    1\n",
      "y    7\n",
      "z    2\n",
      "dtype: int64\n"
     ]
    }
   ],
   "source": [
    "import pandas as pd \n",
    "\n",
    "a = [1, 7, 2] \n",
    "\n",
    "myvar = pd.Series(a, index = [\"x\", \"y\", \"z\"]) # Created labels with the index arguments \n",
    "\n",
    "print(myvar) "
   ]
  },
  {
   "cell_type": "markdown",
   "id": "0e786ba2",
   "metadata": {},
   "source": [
    "#### You can access an item by referring to the label "
   ]
  },
  {
   "cell_type": "code",
   "execution_count": 8,
   "id": "2c1405d9",
   "metadata": {},
   "outputs": [
    {
     "name": "stdout",
     "output_type": "stream",
     "text": [
      "7\n"
     ]
    }
   ],
   "source": [
    "print(myvar[\"y\"]) #  Returning the value of y"
   ]
  },
  {
   "cell_type": "markdown",
   "id": "c865def6",
   "metadata": {},
   "source": [
    "#### Key/Value Objects as Series. You can also use a key/value object, like a dictionary, when creating a Series. "
   ]
  },
  {
   "cell_type": "code",
   "execution_count": null,
   "id": "f97b4b66",
   "metadata": {},
   "outputs": [
    {
     "name": "stdout",
     "output_type": "stream",
     "text": [
      "day1    420\n",
      "day2    380\n",
      "day3    390\n",
      "dtype: int64\n"
     ]
    }
   ],
   "source": [
    "import pandas as pd \n",
    "\n",
    "calories = {\"day1\": 420, \"day2\": 380, \"day3\": 390} # Created a simple Pandas Series from a dictionary \n",
    "\n",
    "myvar = pd.Series(calories) \n",
    "\n",
    "print(myvar) "
   ]
  },
  {
   "cell_type": "markdown",
   "id": "a969f4dd",
   "metadata": {},
   "source": [
    "#### To select only some of the items in the dict, use the index argument and specify only the items you want to include in the series."
   ]
  },
  {
   "cell_type": "code",
   "execution_count": 3,
   "id": "0a357dc8",
   "metadata": {},
   "outputs": [
    {
     "name": "stdout",
     "output_type": "stream",
     "text": [
      "day1    420\n",
      "day2    380\n",
      "dtype: int64\n"
     ]
    }
   ],
   "source": [
    "import pandas as pd \n",
    "\n",
    "calories = {\"day1\": 420, \"day2\": 380, \"day3\": 390} \n",
    "\n",
    "myvar = pd.Series(calories, index = [\"day1\", \"day2\"]) # Created a series using only data from \"day1\" & \"day2\" \n",
    "\n",
    "print(myvar) "
   ]
  },
  {
   "cell_type": "markdown",
   "id": "74272c4a",
   "metadata": {},
   "source": [
    "#### Data sets in Pandas are usually multi-dimensional tables, called DataFrames. Series is like a column, a DataFrame is the whole table. "
   ]
  },
  {
   "cell_type": "code",
   "execution_count": null,
   "id": "d5ac958d",
   "metadata": {},
   "outputs": [
    {
     "name": "stdout",
     "output_type": "stream",
     "text": [
      "   calories  duration\n",
      "0       420        50\n",
      "1       380        40\n",
      "2       390        45\n"
     ]
    }
   ],
   "source": [
    "import pandas as pd \n",
    "\n",
    "data = { \n",
    "    \"calories\": [420, 380, 390], # Created a DataFrame from two series\n",
    "    \"duration\": [50, 40, 45] \n",
    "}\n",
    "\n",
    "myvar = pd.DataFrame(data) \n",
    "\n",
    "print(myvar) "
   ]
  }
 ],
 "metadata": {
  "kernelspec": {
   "display_name": "Python 3",
   "language": "python",
   "name": "python3"
  },
  "language_info": {
   "codemirror_mode": {
    "name": "ipython",
    "version": 3
   },
   "file_extension": ".py",
   "mimetype": "text/x-python",
   "name": "python",
   "nbconvert_exporter": "python",
   "pygments_lexer": "ipython3",
   "version": "3.12.0"
  }
 },
 "nbformat": 4,
 "nbformat_minor": 5
}
