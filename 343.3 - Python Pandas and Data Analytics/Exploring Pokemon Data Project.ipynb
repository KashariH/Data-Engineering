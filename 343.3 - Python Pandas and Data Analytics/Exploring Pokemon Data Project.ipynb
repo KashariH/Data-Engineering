{
 "cells": [
  {
   "cell_type": "markdown",
   "id": "d737a871",
   "metadata": {},
   "source": [
    "#### `Anderson's Python Data Analysis Project: Exploring Pokemon Data` "
   ]
  },
  {
   "cell_type": "markdown",
   "id": "2b73c043",
   "metadata": {},
   "source": [
    "##### This project will walk through the process of data analysis using Python and the Pandas library with data from a publicly available Pokemon API. "
   ]
  },
  {
   "cell_type": "markdown",
   "id": "89dc7c29",
   "metadata": {},
   "source": [
    "##### Objective: To fetch, clean, analyze, and manipulate Pokemon data using Python and Pandas "
   ]
  },
  {
   "cell_type": "markdown",
   "id": "6975ec61",
   "metadata": {},
   "source": [
    "##### Functional Requirements fetch pokemon data from the API. Extract relevant attributes (id, name, base_experience, height, weight, types). \n",
    "##### Perform data cleaning and transformation. \n",
    "##### Conduct statistical analysis (describe (), groupby(), nlargest()). "
   ]
  },
  {
   "cell_type": "markdown",
   "id": "f3be5c5e",
   "metadata": {},
   "source": [
    "##### Merge additional pokemon data. \n",
    "##### Simulate large datasets processing \n",
    "##### Apply one-hot encoding for pokemon types. \n",
    "##### Compute cumulative experience. "
   ]
  },
  {
   "cell_type": "markdown",
   "id": "96a39638",
   "metadata": {},
   "source": [
    "##### Efficient API calls with batch processing \n",
    "##### Optimized Pandas operations for large datasets \n",
    "##### Summary statistics for pokemon attributes \n",
    "##### Average weight by Pokemon type \n",
    "##### Top 5 heaviest pokemon \n",
    "##### Combined dataset size "
   ]
  },
  {
   "cell_type": "markdown",
   "id": "d8f9e1a5",
   "metadata": {},
   "source": [
    "##### Large dataset simulation \n",
    "##### Cumulative experience calculations "
   ]
  },
  {
   "cell_type": "markdown",
   "id": "d8054e7c",
   "metadata": {},
   "source": [
    "##### Part 1 - Exploring Pokemon Data"
   ]
  },
  {
   "cell_type": "code",
   "execution_count": null,
   "id": "2b1470a5",
   "metadata": {},
   "outputs": [
    {
     "name": "stdout",
     "output_type": "stream",
     "text": [
      "bulbasaur\n"
     ]
    }
   ],
   "source": [
    "import requests # Import the requests library to make HTTP requests\n",
    "import pandas as pd # Import the pandas library to handle data manipulation and analysis\n",
    "import json # Import the json library to handle JSON data \n",
    "\n",
    "\n",
    "# Send a GET request to the API \n",
    "response = requests.get(\"https://pokeapi.co/api/v2/pokemon?limit=151\") \n",
    "\n",
    "# Parses the JSON response and extracts the list of pokemon \n",
    "data = response.json() \n",
    "\n",
    "# Create a list to store the pokemon data \n",
    "pokemon_list = data ['results'] \n",
    "\n",
    "new_data = [] # Create a new list to store the pokemon data\n",
    "\n",
    "for pokemon in pokemon_list:  # Iterate through the pokemon list\n",
    "\n",
    "    # For each pokemon, fetch its details using the URL provided in the API response \n",
    "    poke_response = requests.get(pokemon['url']) # Fetch the pokemon details \n",
    "    poke_data = poke_response.json() # Extract the pokemon data\n",
    "    new_data.append(poke_data) # Append the pokemon data to the new_data list \n",
    "\n",
    "print(new_data[0]['name']) # Print the name of the first pokemon in the new_data list \n"
   ]
  },
  {
   "cell_type": "markdown",
   "id": "d2af34c2",
   "metadata": {},
   "source": [
    "##### Part 2 - Exploring Pokemon Data"
   ]
  },
  {
   "cell_type": "code",
   "execution_count": null,
   "id": "dfd478b9",
   "metadata": {},
   "outputs": [],
   "source": [
    "## Data Cleaning & Reprocessing.\n",
    "\n",
    "df = pd.DataFrame(new_data) # Create a Pandas DataFrame from the new_data list \n",
    "df = df[['name', 'height', 'weight', 'types']] # Select specific columns from the DataFrame\n",
    "df['types'] = df['types'].apply(lambda x: [type['type']['name'] for type in x]) # Extract the types from the JSON data \n",
    "\n",
    "## Advanced Data Manipulation: Merging, Concatenating, and Reshaping Data. \n",
    "\n",
    "stats = pd.json_normalize(new_data, 'stats', ['name']) # Normalize the JSON data and create a DataFrame \n",
    "df = pd.concat([df, stats], axis=1) # Using Concatenate to merge the stats DataFrame with the main DataFrame \n",
    "\n",
    "print(df.describe()) # Print the summary statistics for the DataFrame "
   ]
  },
  {
   "cell_type": "markdown",
   "id": "40a6a907",
   "metadata": {},
   "source": []
  }
 ],
 "metadata": {
  "kernelspec": {
   "display_name": "Python 3",
   "language": "python",
   "name": "python3"
  },
  "language_info": {
   "codemirror_mode": {
    "name": "ipython",
    "version": 3
   },
   "file_extension": ".py",
   "mimetype": "text/x-python",
   "name": "python",
   "nbconvert_exporter": "python",
   "pygments_lexer": "ipython3",
   "version": "3.12.0"
  }
 },
 "nbformat": 4,
 "nbformat_minor": 5
}
