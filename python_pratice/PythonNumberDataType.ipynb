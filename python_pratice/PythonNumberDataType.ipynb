{
 "cells": [
  {
   "cell_type": "markdown",
   "metadata": {},
   "source": [
    "## Section 1"
   ]
  },
  {
   "cell_type": "code",
   "execution_count": 18,
   "metadata": {},
   "outputs": [
    {
     "name": "stdout",
     "output_type": "stream",
     "text": [
      "118\n"
     ]
    }
   ],
   "source": [
    "t = 33 # Initialize the value of t \n",
    "b = 85 # Initialize the value of b \n",
    "result = t + b\n",
    "print(result)\n"
   ]
  },
  {
   "cell_type": "markdown",
   "metadata": {},
   "source": [
    "## Section 2 "
   ]
  },
  {
   "cell_type": "code",
   "execution_count": 17,
   "metadata": {},
   "outputs": [
    {
     "name": "stdout",
     "output_type": "stream",
     "text": [
      "103.12\n"
     ]
    }
   ],
   "source": [
    "k = 4.12 # Initialize the value of k\n",
    "h = 99.0 # Initialize the value of h \n",
    "result = k + h\n",
    "print(result)"
   ]
  },
  {
   "cell_type": "markdown",
   "metadata": {},
   "source": [
    "## Section 3"
   ]
  },
  {
   "cell_type": "code",
   "execution_count": 15,
   "metadata": {},
   "outputs": [
    {
     "name": "stdout",
     "output_type": "stream",
     "text": [
      "38.51\n"
     ]
    }
   ],
   "source": [
    "k = 33 # Initialize the value of k \n",
    "m = 5.51 # Initialize the value of m \n",
    "result = k + m \n",
    "print(result)\n",
    "\n"
   ]
  },
  {
   "cell_type": "markdown",
   "metadata": {},
   "source": [
    " ## Section 4 "
   ]
  },
  {
   "cell_type": "code",
   "execution_count": 16,
   "metadata": {},
   "outputs": [
    {
     "name": "stdout",
     "output_type": "stream",
     "text": [
      "1.3134328358208955\n"
     ]
    }
   ],
   "source": [
    "p = 88 #Initialize the value of p \n",
    "i = 67 #Initialize the value of i \n",
    "result = p / i \n",
    "print(result)\n"
   ]
  },
  {
   "cell_type": "markdown",
   "metadata": {},
   "source": [
    "## Section 5"
   ]
  },
  {
   "cell_type": "code",
   "execution_count": 19,
   "metadata": {},
   "outputs": [
    {
     "name": "stdout",
     "output_type": "stream",
     "text": [
      "4.672131147540984\n"
     ]
    }
   ],
   "source": [
    "o = 5.7 # Initialize the value of o \n",
    "a = 1.22 # Initialize the value of a \n",
    "result = o / a \n",
    "print(result)"
   ]
  },
  {
   "cell_type": "markdown",
   "metadata": {},
   "source": [
    "## Section 6 "
   ]
  },
  {
   "cell_type": "code",
   "execution_count": null,
   "metadata": {},
   "outputs": [],
   "source": [
    "coffee = 2.99 \n",
    "cappuccino = 2.69\n",
    "espresso = 1.00\n",
    "green_tea = 1.59\n"
   ]
  },
  {
   "cell_type": "markdown",
   "metadata": {},
   "source": [
    "## Section 7"
   ]
  },
  {
   "cell_type": "code",
   "execution_count": null,
   "metadata": {},
   "outputs": [
    {
     "name": "stdout",
     "output_type": "stream",
     "text": [
      "946.83\n",
      "1041.5130000000001\n"
     ]
    }
   ],
   "source": [
    "subtotal =  (coffee *3)+(cappuccino*4)+(espresso*2)\n",
    "print(subtotal)\n",
    "sales_tax = .10 \n",
    "totalsale = (subtotal* sales_tax) + (subtotal)\n",
    "print(totalsale)\n"
   ]
  },
  {
   "cell_type": "markdown",
   "metadata": {},
   "source": [
    "## Section 8"
   ]
  },
  {
   "cell_type": "code",
   "execution_count": 8,
   "metadata": {},
   "outputs": [
    {
     "name": "stdout",
     "output_type": "stream",
     "text": [
      "12462.66\n"
     ]
    }
   ],
   "source": [
    "radius = 63 \n",
    "circle = 3.14 * radius**2 \n",
    "print (circle) "
   ]
  },
  {
   "cell_type": "markdown",
   "metadata": {},
   "source": [
    "# kashari glab-340.4.2-Random Module"
   ]
  },
  {
   "cell_type": "code",
   "execution_count": null,
   "metadata": {},
   "outputs": [],
   "source": [
    "# The random.random() method returns a random float number between 0.0 and 1.0. The function does not need any arguments. \n",
    "# Example: random()\n",
    "# import random // #print(random.random())\n",
    "#The random.randrange() method returns a randomly selected element from the range created by the start, stop and step arguments. The value of start is 0 by default. Similarly, the value of step is 1 by default.\n",
    "# The random.choice() method returns a randomly selected element from a non-empty sequence. An empty sequence as an argument raises an IndexError.\n",
    "# The random.sample() function chooses a sample/multiple items from a Python list, set, or dictionary. It returns a list of unique items chosen randomly from the list, sequence, or set.\n",
    "\n",
    "\n"
   ]
  },
  {
   "cell_type": "code",
   "execution_count": 11,
   "metadata": {},
   "outputs": [
    {
     "name": "stdout",
     "output_type": "stream",
     "text": [
      "74\n",
      "65\n"
     ]
    }
   ],
   "source": [
    "import random\n",
    "print(random.randint(1, 100))\n",
    "print(random.randint(1, 100))"
   ]
  },
  {
   "cell_type": "code",
   "execution_count": 12,
   "metadata": {},
   "outputs": [
    {
     "name": "stdout",
     "output_type": "stream",
     "text": [
      "6\n",
      "5\n",
      "80\n"
     ]
    }
   ],
   "source": [
    "import random \n",
    "\n",
    "print(random.randrange(1, 10))\n",
    "print(random.randrange(1, 10, 2))\n",
    "print(random.randrange(0, 101, 10))\n",
    "\n"
   ]
  },
  {
   "cell_type": "code",
   "execution_count": 14,
   "metadata": {},
   "outputs": [
    {
     "name": "stdout",
     "output_type": "stream",
     "text": [
      "e\n",
      "Saratoga\n",
      "The Mountain Valley\n"
     ]
    }
   ],
   "source": [
    "import random \n",
    "\n",
    "print(random.choice('water'))\n",
    "print(random.choice([\"Zephyrhills\", \"The Mountain Valley\", \"Saratoga\"]))\n",
    "print(random.choice((\"Zephyrhills\", \"The Mountain Valley\", \"Saratoga\")))"
   ]
  },
  {
   "cell_type": "code",
   "execution_count": 15,
   "metadata": {},
   "outputs": [
    {
     "name": "stdout",
     "output_type": "stream",
     "text": [
      "[2, 222, 2222]\n"
     ]
    }
   ],
   "source": [
    "import random\n",
    "# population can be any sequence, such as a list, set, or string, from which you want to select a k-length number.\n",
    "# k:is the number of random items you want to select from the sequence. k must be less than the size of the specified list.\n",
    "\n",
    "aList = [2,222,2222,22222,222222,2222222,22222222,22222222222]\n",
    "sampled_list = random.sample(aList, 3)\n",
    "print(sampled_list)\n",
    "\n"
   ]
  },
  {
   "cell_type": "markdown",
   "metadata": {},
   "source": [
    "## GLAB 340.4.1 LOOP"
   ]
  },
  {
   "cell_type": "code",
   "execution_count": 3,
   "metadata": {},
   "outputs": [
    {
     "name": "stdout",
     "output_type": "stream",
     "text": [
      "The sum of the first 10 natural numbers is: 55\n"
     ]
    }
   ],
   "source": [
    "# Input: Take the value of 'n' from the user\n",
    "n = (\"10\")\n",
    "# Initialize a variable to store the sum \n",
    "sum_of_natural_numbers = 0 \n",
    "\n",
    "#Calculate the sum of the first 'n' natural numbers \n",
    "for i in range(1, 10 + 1): \n",
    "    sum_of_natural_numbers += i \n",
    "\n",
    "# Display the sum \n",
    "print(f\"The sum of the first {10} natural numbers is: {sum_of_natural_numbers}\")"
   ]
  },
  {
   "cell_type": "code",
   "execution_count": 9,
   "metadata": {},
   "outputs": [
    {
     "name": "stdout",
     "output_type": "stream",
     "text": [
      "30 is not a palindrome number.\n"
     ]
    }
   ],
   "source": [
    "# Input: Take a number from the user\n",
    "number = int(input(\"Enter a number:\"))\n",
    "\n",
    "\n",
    "# Convert the number to a string for easier comparison\n",
    "num_str = str(number)\n",
    "\n",
    "\n",
    "# Reverse the string\n",
    "reversed_str = num_str[::-1]\n",
    "\n",
    "\n",
    "# Check if the original number and its reverse are the same\n",
    "if num_str == reversed_str:\n",
    "    print(f\"{number} is a palindrome number.\")\n",
    "else:\n",
    "    print(f\"{number} is not a palindrome number.\")\n",
    "\n"
   ]
  },
  {
   "cell_type": "code",
   "execution_count": null,
   "metadata": {},
   "outputs": [],
   "source": []
  },
  {
   "cell_type": "markdown",
   "metadata": {},
   "source": [
    "## kashari_basicstring.py"
   ]
  },
  {
   "cell_type": "code",
   "execution_count": 12,
   "metadata": {},
   "outputs": [
    {
     "name": "stdout",
     "output_type": "stream",
     "text": [
      "Everything is an Object in python!!!\n",
      "EVERYTHING IS AN OBJECT IN PYTHON!!!\n",
      "everything is an object in python!!!\n",
      "Everything is an object in python!!!\n"
     ]
    }
   ],
   "source": [
    "stringy = \"Everything is an Object in python!!!\"\n",
    "print(stringy)\n",
    "print(stringy.upper())\n",
    "print(stringy.lower())\n",
    "print(stringy.capitalize())\n"
   ]
  },
  {
   "cell_type": "code",
   "execution_count": 13,
   "metadata": {},
   "outputs": [
    {
     "name": "stdout",
     "output_type": "stream",
     "text": [
      "gary michaelson\n"
     ]
    }
   ],
   "source": [
    "first_name= \"gary\"\n",
    "last_name=\"michaelson\"\n",
    "full_name= f\"{first_name} {last_name}\"\n",
    "\n",
    "print(full_name)"
   ]
  },
  {
   "cell_type": "code",
   "execution_count": 14,
   "metadata": {},
   "outputs": [
    {
     "name": "stdout",
     "output_type": "stream",
     "text": [
      "Hello, Gary Michaelson\n"
     ]
    }
   ],
   "source": [
    "print(f\"Hello, {full_name.title()}\")\n"
   ]
  },
  {
   "cell_type": "code",
   "execution_count": 15,
   "metadata": {},
   "outputs": [
    {
     "name": "stdout",
     "output_type": "stream",
     "text": [
      "reindeer games\n",
      "reindeer games\n",
      "reindeer games\n"
     ]
    }
   ],
   "source": [
    "phrase= \"reindeer games\"\n",
    "\n",
    "print(phrase.rstrip())\n",
    "print(phrase.lstrip())\n",
    "print(phrase.strip())"
   ]
  },
  {
   "cell_type": "code",
   "execution_count": null,
   "metadata": {},
   "outputs": [],
   "source": [
    "Famous= \"Valerie\""
   ]
  },
  {
   "cell_type": "code",
   "execution_count": 2,
   "metadata": {},
   "outputs": [],
   "source": [
    "age = int(input( \"Enter your age:\")) \n",
    "\n",
    "if age >= 18: \n",
    "    print(\"you are now signed up !\")\n",
    "    "
   ]
  },
  {
   "cell_type": "markdown",
   "metadata": {},
   "source": [
    "# Python lists, sets, and tuples"
   ]
  },
  {
   "cell_type": "markdown",
   "metadata": {},
   "source": [
    "#### Collection = single \"variable\" used to store multiple values. \n",
    "\n",
    "### `List` = [] ordered and changeable. Duplicates OK (Cannot be used as a key for a dict)\n",
    "### `Set` = {} unordered and immutable, but add/remove OK. No duplicates \n",
    "### `Tuple` = () ordered and unchangeable. Duplicates OK. FASTER than lists (Can be used as a key for a dict)"
   ]
  },
  {
   "cell_type": "code",
   "execution_count": 15,
   "metadata": {},
   "outputs": [
    {
     "name": "stdout",
     "output_type": "stream",
     "text": [
      "['CAT', 'DOG', 'WHALE', 'CAT']\n",
      "{'DOG', 'CAT', 'WHALE'}\n",
      "whale\n",
      "['whale', 'dog', 'cat', 'whale']\n"
     ]
    }
   ],
   "source": [
    "animal = [\"CAT\", \"DOG\", \"WHALE\", \"CAT\"]\n",
    "print(animal)\n",
    "\n",
    "animal = set(animal)\n",
    "print(animal)\n",
    "\n",
    "\n",
    "\n",
    "animal = \"whale\"\n",
    "print(animal)\n",
    "\n",
    "animals = [\"whale\", \"dog\", \"cat\", \"whale\"]\n",
    "print(animals)\n",
    "\n",
    "\n"
   ]
  },
  {
   "cell_type": "markdown",
   "metadata": {},
   "source": [
    "# Data Types"
   ]
  },
  {
   "cell_type": "markdown",
   "metadata": {},
   "source": [
    "#### `Homogeneous data` : All items are the same/uniform. (In a list all the numbers are integers since all the numbers are one type (Integers), so it is homogeneous data).\n",
    "#### `Heterogeneous data`: All the items/elements in the list are of different types. (String, Integer, & Float) So it is a heterogeneous data type. \n"
   ]
  },
  {
   "cell_type": "markdown",
   "metadata": {},
   "source": [
    "# Dictionaries"
   ]
  },
  {
   "cell_type": "markdown",
   "metadata": {},
   "source": [
    "#### `What is a dictionary?`: A collection of key-value pairs. (Real-world dictionary when you look up a word (The KEY) to find its meaning (The VALUE)). \n",
    "#### `Dictionaries` let you store and organize pairs of data. "
   ]
  },
  {
   "cell_type": "code",
   "execution_count": 18,
   "metadata": {},
   "outputs": [],
   "source": [
    "# Creating a dictionary\n",
    "student ={ \"name\": \"John\",  #key: \"name\", value: \"john\"  \n",
    "           \"age\": \"16\",     #key: \"age\", value: \"16\"\n",
    "           \"grade\": \"10th\" } #key: \"grade\", value: \"10th\"\n",
    "\n"
   ]
  },
  {
   "cell_type": "markdown",
   "metadata": {},
   "source": [
    "# Kashari_pythondictionary.py"
   ]
  },
  {
   "cell_type": "code",
   "execution_count": 19,
   "metadata": {},
   "outputs": [
    {
     "name": "stdout",
     "output_type": "stream",
     "text": [
      "The IP address of the Domain Name Server server is 8.8.8.8/n\n"
     ]
    }
   ],
   "source": [
    "# The network() function accepts a dictionary \"servers\" as a parameter. \n",
    "def network(servers): \n",
    "\n",
    "    # A string variable is initialized to hold the \"result\" \n",
    "    result= \"\"  \n",
    "\n",
    "    # For each \"hostname\" (key) and \"IP address\" (value) in the \"server\" dictionary items... \n",
    "    for hostname, IP_address in servers.items(): \n",
    "        \n",
    "        # A string identifying the hostname and IP address for each server is added\n",
    "        # to the \"result\" variable. The string .format() function and is used to plug\n",
    "        # the hostname and IP_address variables into the designated {} placeholders \n",
    "        # within the string. \n",
    "        result += \"The IP address of the {} server is {}\" .format(hostname, IP_address) + \"/n\" \n",
    "\n",
    "        # Return the \"result\" variable string. \n",
    "        return result \n",
    "    \n",
    "    #Call the \"network\" function with the dictionary.\n",
    "print(network({\n",
    "    \"Domain Name Server\": \"8.8.8.8\", \n",
    "    \"Gateway Server\": \"192.168.1.1\", \n",
    "    \"Print Server\": \"192.168.1.33\", \n",
    "    \"Mail Server\": \"192.168.1.190\"\n",
    "}))\n",
    "\n",
    "# Should print:\n",
    "# The IP address of the Domain Name Server server is 8.8.8.8\n",
    "# The IP address of the Gateway Server server is 192.168.1.1\n",
    "# The IP address of the Print Server server is 192.168.1.33\n",
    "# The IP address of the Mail Server server is 192.168.1.190\n"
   ]
  },
  {
   "cell_type": "code",
   "execution_count": 1,
   "metadata": {},
   "outputs": [],
   "source": [
    "ai_models = {\n",
    "\n",
    "    \"neural net\": \"elon musk likes this one\", \n",
    "    \"number recog\": \"useful for finding matches to numbers\", \n",
    "    \n",
    "}"
   ]
  },
  {
   "cell_type": "code",
   "execution_count": 2,
   "metadata": {},
   "outputs": [
    {
     "data": {
      "text/plain": [
       "{'neural net': 'elon musk likes this one',\n",
       " 'number recog': 'useful for finding matches to numbers'}"
      ]
     },
     "execution_count": 2,
     "metadata": {},
     "output_type": "execute_result"
    }
   ],
   "source": [
    "ai_models "
   ]
  }
 ],
 "metadata": {
  "kernelspec": {
   "display_name": "base",
   "language": "python",
   "name": "python3"
  },
  "language_info": {
   "codemirror_mode": {
    "name": "ipython",
    "version": 3
   },
   "file_extension": ".py",
   "mimetype": "text/x-python",
   "name": "python",
   "nbconvert_exporter": "python",
   "pygments_lexer": "ipython3",
   "version": "3.12.7"
  }
 },
 "nbformat": 4,
 "nbformat_minor": 2
}
