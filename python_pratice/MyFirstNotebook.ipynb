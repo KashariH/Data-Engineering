{
 "cells": [
  {
   "cell_type": "code",
   "execution_count": 3,
   "metadata": {
    "vscode": {
     "languageId": "bat"
    }
   },
   "outputs": [],
   "source": [
    "# My First Notebook \n"
   ]
  },
  {
   "cell_type": "code",
   "execution_count": 4,
   "metadata": {},
   "outputs": [
    {
     "name": "stdout",
     "output_type": "stream",
     "text": [
      "Hello World!\n"
     ]
    }
   ],
   "source": [
    "print (\"Hello World!\")"
   ]
  },
  {
   "cell_type": "markdown",
   "metadata": {},
   "source": [
    "# Product Analysis ]"
   ]
  },
  {
   "cell_type": "code",
   "execution_count": 5,
   "metadata": {},
   "outputs": [],
   "source": [
    "import pandas as pd"
   ]
  },
  {
   "cell_type": "markdown",
   "metadata": {},
   "source": [
    "# Section 1"
   ]
  },
  {
   "cell_type": "markdown",
   "metadata": {},
   "source": [
    "---"
   ]
  },
  {
   "cell_type": "code",
   "execution_count": 10,
   "metadata": {},
   "outputs": [
    {
     "name": "stdout",
     "output_type": "stream",
     "text": [
      "Addition of two numbers: 38\n"
     ]
    }
   ],
   "source": [
    "a = 32  # Initalize the value of a \n",
    "b = 6   # Initalize the value of b\n",
    "print('Addition of two numbers:' ,a+b)"
   ]
  },
  {
   "cell_type": "markdown",
   "metadata": {},
   "source": [
    "## Section 2"
   ]
  },
  {
   "cell_type": "markdown",
   "metadata": {},
   "source": [
    "---\n"
   ]
  },
  {
   "cell_type": "code",
   "execution_count": 11,
   "metadata": {},
   "outputs": [
    {
     "name": "stdout",
     "output_type": "stream",
     "text": [
      "Subtraction of two numbers: 26\n",
      "Multiplication of two numbers: 192\n",
      "Division of two numbers 5.333333333333333\n",
      "Reminder of two numbers: 2\n",
      "Exponent of two number: 1073741824\n",
      "Floor division of two numbers: 5\n",
      "Result of MultipleOperators is: 2.5\n"
     ]
    }
   ],
   "source": [
    "print('Subtraction of two numbers:' ,a-b)\n",
    "print('Multiplication of two numbers:' ,a*b) \n",
    "print('Division of two numbers' ,a/b)\n",
    "print('Reminder of two numbers:' ,a%b)\n",
    "print('Exponent of two number:' ,a**b)\n",
    "print('Floor division of two numbers:' ,a//b)\n",
    "MultipleOperators = 1 + 2 * 3 / 4.0 \n",
    "print(\"Result of MultipleOperators is:\" ,MultipleOperators) "
   ]
  },
  {
   "cell_type": "markdown",
   "metadata": {},
   "source": [
    "---"
   ]
  },
  {
   "cell_type": "markdown",
   "metadata": {},
   "source": [
    "## Section 3"
   ]
  },
  {
   "cell_type": "code",
   "execution_count": 12,
   "metadata": {},
   "outputs": [
    {
     "name": "stdout",
     "output_type": "stream",
     "text": [
      "a=b: False\n",
      "a+=b: 38\n",
      "a-=b: 26\n",
      "a*=b: 192\n",
      "a%=b: 2\n",
      "a**=b: 1073741824\n",
      "j is :  10\n",
      "j is :  5\n",
      "k is :  5\n",
      "j is :  10\n",
      "k is :  10\n"
     ]
    }
   ],
   "source": [
    "a = 32  # Initialize the value of a  \n",
    "b = 6   # Initialize the value of b \n",
    "print('a=b:', a==b) # \n",
    "print('a+=b:', a+b) # shorthand of a = a + b \n",
    "print('a-=b:', a-b) # shorthand of a = a - b\n",
    "print('a*=b:', a*b) # shorthand of a = a ** b \n",
    "print('a%=b:', a%b) # shorthand of a = a % b \n",
    "print('a**=b:', a**b) # shorthand of a= a/ b  \n",
    "\n",
    "j = 10 # j gets the value 10. \n",
    "print(\"j is : \" , j)\n",
    "j = 5 # j gets the value 5. The previous value is overwritten. \n",
    "k = j # k gets the value 5. \n",
    "print(\"j is : \" , j)\n",
    "print(\"k is : \" , k)\n",
    "\n",
    "k = j = 10; # (k= (j=10))\n",
    "print(\"j is : \" , j )\n",
    "print(\"k is : \" , k)"
   ]
  },
  {
   "cell_type": "markdown",
   "metadata": {},
   "source": [
    "---"
   ]
  },
  {
   "cell_type": "markdown",
   "metadata": {},
   "source": [
    "## Section 4"
   ]
  },
  {
   "cell_type": "code",
   "execution_count": 15,
   "metadata": {},
   "outputs": [
    {
     "name": "stdout",
     "output_type": "stream",
     "text": [
      "Two numbers are equal or not: False\n",
      "Two numbers are not equal or not: True\n",
      "s is less than or equal to g: True\n",
      "s is greater than or equal to g: False\n",
      "s is greater g: False\n",
      "s is less than g: True\n"
     ]
    }
   ],
   "source": [
    "s = 4 # Initialize the value of s \n",
    "g = 8 # Initialize the value of g \n",
    "\n",
    "print('Two numbers are equal or not:' ,s==g) \n",
    "print('Two numbers are not equal or not:' ,s!=g)\n",
    "print('s is less than or equal to g:' ,s<=g) \n",
    "print('s is greater than or equal to g:' ,s>=g)\n",
    "print('s is greater g:' ,s>g)\n",
    "print('s is less than g:' ,s<g) "
   ]
  },
  {
   "cell_type": "markdown",
   "metadata": {},
   "source": [
    "List Of Reptiles: `Snakes`, `Alligators`, `Crocodiles`, `Breaded Dragon`, & `Sea Turtle` "
   ]
  },
  {
   "cell_type": "markdown",
   "metadata": {},
   "source": [
    "## Section 5"
   ]
  },
  {
   "cell_type": "code",
   "execution_count": 17,
   "metadata": {},
   "outputs": [
    {
     "name": "stdout",
     "output_type": "stream",
     "text": [
      "True\n",
      "True\n",
      "True\n",
      "False\n"
     ]
    }
   ],
   "source": [
    "m = 'Hello World' \n",
    "n = {8:'s', 9:'g'}\n",
    "# check if 'H' is present in string m \n",
    "print('H' in m) # prints True \n",
    "# check if 'hello' is present in m string \n",
    "print('hello' not in m) # prints True\n",
    "# check if '8' key is present in n \n",
    "print(8 in n) # prints True\n",
    "# check if 'a' key is present in y \n",
    "print('s' in n)  # prints False\n"
   ]
  },
  {
   "cell_type": "markdown",
   "metadata": {},
   "source": [
    "## Functions Practice"
   ]
  },
  {
   "cell_type": "code",
   "execution_count": 20,
   "metadata": {},
   "outputs": [
    {
     "name": "stdout",
     "output_type": "stream",
     "text": [
      "Happy birthday to you!\n",
      "You are old!\n",
      "Happy birthday to you!\n",
      "\n",
      "Happy birthday to you!\n",
      "You are old!\n",
      "Happy birthday to you!\n",
      "\n",
      "Happy birthday to!\n",
      "You are old!\n",
      "Happy birthday to you!\n",
      "\n"
     ]
    }
   ],
   "source": [
    "# function = a block of reuseable code. \n",
    "    # place () after the function name to invoke it. \n",
    "print (\"Happy birthday to you!\")                                  \n",
    "\n",
    "print(\"You are old!\") \n",
    "print (\"Happy birthday to you!\")\n",
    "print()\n",
    "\n",
    "\n",
    "print (\"Happy birthday to you!\")\n",
    "print(\"You are old!\") \n",
    "print (\"Happy birthday to you!\")\n",
    "print()\n",
    "\n",
    "\n",
    "print (\"Happy birthday to!\")\n",
    "print(\"You are old!\") \n",
    "print (\"Happy birthday to you!\")\n",
    "print()\n"
   ]
  },
  {
   "cell_type": "code",
   "execution_count": 26,
   "metadata": {},
   "outputs": [
    {
     "name": "stdout",
     "output_type": "stream",
     "text": [
      "Happy birthday to Kashari!\n",
      "You are 20 years old!\n",
      "Happy birthday to you!\n",
      "\n",
      "Happy birthday to Mya!\n",
      "You are 35 years old!\n",
      "Happy birthday to you!\n",
      "\n",
      "Happy birthday to Joe!\n",
      "You are 60 years old!\n",
      "Happy birthday to you!\n",
      "\n"
     ]
    }
   ],
   "source": [
    "\n",
    "\n",
    "def happy_birthday(name, age):\n",
    "    print(f\"Happy birthday to {name}!\")\n",
    "    print(f\"You are {age} years old!\") \n",
    "    print(\"Happy birthday to you!\")\n",
    "    print()\n",
    "\n",
    "# Calling the function outside of its definition \n",
    "happy_birthday(\"Kashari\", 20)\n",
    "happy_birthday(\"Mya\", 35)\n",
    "happy_birthday(\"Joe\", 60)\n",
    "\n",
    "\n"
   ]
  },
  {
   "cell_type": "code",
   "execution_count": null,
   "metadata": {},
   "outputs": [
    {
     "name": "stdout",
     "output_type": "stream",
     "text": [
      "Hello kashariquest\n",
      "Your bill of $96.33 is due: 02/08\n"
     ]
    }
   ],
   "source": [
    "def display_invoice(username, amount, due_date): \n",
    "    print(f\"Hello {username}\")\n",
    "    print(f\"Your bill of ${amount:.2f} is due: {due_date}\")\n",
    "\n",
    "display_invoice(\"kashariquest\", 96.33, \"02/08\")\n",
    "\n"
   ]
  },
  {
   "cell_type": "code",
   "execution_count": null,
   "metadata": {},
   "outputs": [],
   "source": [
    "# return= statement used to end a function \n",
    "    # and send a result back to the caller\n",
    "\n",
    "def add(d, k):\n",
    "    z = d + k \n",
    "    return z\n",
    "\n",
    "def subtract(d, k):\n",
    "    z = d - k \n",
    "    return z"
   ]
  }
 ],
 "metadata": {
  "kernelspec": {
   "display_name": "base",
   "language": "python",
   "name": "python3"
  },
  "language_info": {
   "codemirror_mode": {
    "name": "ipython",
    "version": 3
   },
   "file_extension": ".py",
   "mimetype": "text/x-python",
   "name": "python",
   "nbconvert_exporter": "python",
   "pygments_lexer": "ipython3",
   "version": "3.12.7"
  }
 },
 "nbformat": 4,
 "nbformat_minor": 2
}
