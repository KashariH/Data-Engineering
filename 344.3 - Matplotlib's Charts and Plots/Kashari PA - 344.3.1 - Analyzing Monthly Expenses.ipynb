{
 "cells": [
  {
   "cell_type": "markdown",
   "id": "b8e5f748",
   "metadata": {},
   "source": [
    "### `Practice Activity - 344.3.1- Analyzing Monthly Expenses`"
   ]
  },
  {
   "cell_type": "markdown",
   "id": "19c9f2a7",
   "metadata": {},
   "source": [
    "##### 1. Load the provided data into a Python environment. 2. Use the Matplotlib library to create a horizontal bar chart. 3. Plot each expense category along the y-axis and the corresponding amount spent in each category along the x-axis. 4. Customize the appearance of the bar chart by adding labels to the x-axis ('Amount Spent') and y-axis ('Expense Categories'). 5. Add a title to the chart ('Monthly Expenses Distribution'). 6. Ensure that the bars are color-coded for better visualization. 7. Display the chart to visualize the distribution of expenses.\n"
   ]
  },
  {
   "cell_type": "code",
   "execution_count": null,
   "id": "f684c8af",
   "metadata": {},
   "outputs": [],
   "source": [
    "import numpy as np \n",
    "import matplotlib.pyplot as plt \n",
    "\n",
    "CoursesName = ['C Course', 'C++ Course', 'Java Course', 'Python Course'] # Assigning x and y coordinates\n",
    "Student = [90, 60, 130, 190]\n",
    "\n",
    "plt.barh(CoursesName, Student, color='green', height = 0.3) # For horizontal bars, use height instead of width. # Plotting the bar chart.\n",
    "plt.xlabel('Student Registrations number') # Adding x-axis label \n",
    "plt.ylabel('Courses Name') # Adding y-axis label\n",
    "\n",
    "plt.title('Number of Students in Different Courses') # Displaying the title of the bar chart\n",
    "plt.show() # Displaying the bar chart"
   ]
  }
 ],
 "metadata": {
  "language_info": {
   "name": "python"
  }
 },
 "nbformat": 4,
 "nbformat_minor": 5
}
