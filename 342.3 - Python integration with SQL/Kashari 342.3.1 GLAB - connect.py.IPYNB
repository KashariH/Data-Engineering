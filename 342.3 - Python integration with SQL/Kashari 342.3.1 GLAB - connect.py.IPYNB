{
 "cells": [
  {
   "cell_type": "markdown",
   "id": "a626d7da",
   "metadata": {},
   "source": [
    "# `Guided Lab 342.3.1 - Connecting to MySQL Database Using connect() function` "
   ]
  },
  {
   "cell_type": "code",
   "execution_count": null,
   "id": "cfeb63b1",
   "metadata": {},
   "outputs": [
    {
     "ename": "SyntaxError",
     "evalue": "invalid syntax (892074894.py, line 1)",
     "output_type": "error",
     "traceback": [
      "  \u001b[36mCell\u001b[39m\u001b[36m \u001b[39m\u001b[32mIn[12]\u001b[39m\u001b[32m, line 1\u001b[39m\n\u001b[31m    \u001b[39m\u001b[31mimport !pip install mysql-connector-python\u001b[39m\n           ^\n\u001b[31mSyntaxError\u001b[39m\u001b[31m:\u001b[39m invalid syntax\n"
     ]
    }
   ],
   "source": [
    "import mysql.connector as mydbconnection\n",
    "from mysql.connector import Error\n",
    "def connect():\n",
    "    \"\"\"Connect to MySQL database\"\"\"\n",
    "    conn = None\n",
    "    try:\n",
    "        conn = mydbconnection.connect(\n",
    "            database='classicmodels',\n",
    "            user='root',\n",
    "            password='password'\n",
    "        )\n",
    "        if conn.is_connected():\n",
    "            print('Connected to MySQL database')\n",
    "    except Error as e:\n",
    "        print(e)\n",
    "    finally:\n",
    "        if conn is not None and conn.is_connected():\n",
    "            conn.close()\n",
    "if __name__ == '__main__':\n",
    "    connect()\n",
    "\n",
    "\n",
    "\n",
    "\n",
    "\n",
    "\n"
   ]
  },
  {
   "cell_type": "code",
   "execution_count": 1,
   "id": "57a043d9",
   "metadata": {},
   "outputs": [
    {
     "name": "stdout",
     "output_type": "stream",
     "text": [
      "Requirement already satisfied: mysql in c:\\users\\kashari.hutchins\\appdata\\local\\programs\\python\\python312\\lib\\site-packages (0.0.3)\n",
      "Requirement already satisfied: mysqlclient in c:\\users\\kashari.hutchins\\appdata\\local\\programs\\python\\python312\\lib\\site-packages (from mysql) (2.2.7)\n"
     ]
    },
    {
     "name": "stderr",
     "output_type": "stream",
     "text": [
      "\n",
      "[notice] A new release of pip is available: 23.2.1 -> 25.1\n",
      "[notice] To update, run: python.exe -m pip install --upgrade pip\n"
     ]
    }
   ],
   "source": [
    "!pip3 install mysql"
   ]
  },
  {
   "cell_type": "code",
   "execution_count": 2,
   "id": "4fa7f9e2",
   "metadata": {},
   "outputs": [],
   "source": [
    "import mysql"
   ]
  },
  {
   "cell_type": "code",
   "execution_count": 3,
   "id": "317b17f9",
   "metadata": {},
   "outputs": [
    {
     "name": "stdout",
     "output_type": "stream",
     "text": [
      "Authentication plugin 'caching_sha2_password' is not supported\n"
     ]
    }
   ],
   "source": [
    "import mysql.connector as mydbconnection\n",
    "from mysql.connector import Error\n",
    "def connect():\n",
    "    \"\"\"Connect to MySQL database\"\"\"\n",
    "    conn = None\n",
    "    try:\n",
    "        conn = mydbconnection.connect(\n",
    "            database='classicmodels',\n",
    "            user='root',\n",
    "            password='password'\n",
    "        )\n",
    "        if conn.is_connected():\n",
    "            print('Connected to MySQL database')\n",
    "    except Error as e:\n",
    "        print(e)\n",
    "    finally:\n",
    "        if conn is not None and conn.is_connected():\n",
    "            conn.close()\n",
    "if __name__ == '__main__':\n",
    "    connect()\n",
    "\n",
    "\n",
    "\n",
    "\n",
    "\n",
    "\n",
    "\n",
    "\n",
    "\n"
   ]
  }
 ],
 "metadata": {
  "kernelspec": {
   "display_name": "Python 3",
   "language": "python",
   "name": "python3"
  },
  "language_info": {
   "codemirror_mode": {
    "name": "ipython",
    "version": 3
   },
   "file_extension": ".py",
   "mimetype": "text/x-python",
   "name": "python",
   "nbconvert_exporter": "python",
   "pygments_lexer": "ipython3",
   "version": "3.12.0"
  }
 },
 "nbformat": 4,
 "nbformat_minor": 5
}
