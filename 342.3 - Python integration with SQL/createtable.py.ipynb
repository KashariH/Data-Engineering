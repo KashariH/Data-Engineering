{
 "cells": [
  {
   "cell_type": "markdown",
   "id": "d6ca85f2",
   "metadata": {},
   "source": [
    "# `Guided Lab 342.3.2 - Inserting Data Into MySQL From Python`"
   ]
  },
  {
   "cell_type": "code",
   "execution_count": 15,
   "id": "886923bd",
   "metadata": {},
   "outputs": [
    {
     "name": "stdout",
     "output_type": "stream",
     "text": [
      "Failed to create table Authentication plugin 'caching_sha2_password' is not supported\n"
     ]
    },
    {
     "ename": "AttributeError",
     "evalue": "'NoneType' object has no attribute 'is_connected'",
     "output_type": "error",
     "traceback": [
      "\u001b[31m---------------------------------------------------------------------------\u001b[39m",
      "\u001b[31mAttributeError\u001b[39m                            Traceback (most recent call last)",
      "\u001b[36mCell\u001b[39m\u001b[36m \u001b[39m\u001b[32mIn[15]\u001b[39m\u001b[32m, line 15\u001b[39m\n\u001b[32m     13\u001b[39m     \u001b[38;5;28mprint\u001b[39m(\u001b[33m\"\u001b[39m\u001b[33mFailed to create table \u001b[39m\u001b[38;5;132;01m{}\u001b[39;00m\u001b[33m\"\u001b[39m.format(e))\n\u001b[32m     14\u001b[39m \u001b[38;5;28;01mfinally\u001b[39;00m:\n\u001b[32m---> \u001b[39m\u001b[32m15\u001b[39m     \u001b[38;5;28;01mif\u001b[39;00m \u001b[43mconn\u001b[49m\u001b[43m.\u001b[49m\u001b[43mis_connected\u001b[49m():\n\u001b[32m     16\u001b[39m         conn.close()\n\u001b[32m     17\u001b[39m     \u001b[38;5;28mprint\u001b[39m(\u001b[33m\"\u001b[39m\u001b[33mMySQL connection is closed\u001b[39m\u001b[33m\"\u001b[39m)\n",
      "\u001b[31mAttributeError\u001b[39m: 'NoneType' object has no attribute 'is_connected'"
     ]
    }
   ],
   "source": [
    "import mysql.connector as mydbconnection\n",
    "from mysql.connector import Error\n",
    "try:\n",
    "\tconn = mydbconnection.connect(database='usersdb', user='root',password='password', port ='3306')\n",
    "\tcursor=conn.cursor()\n",
    "\tmyquery2 = \"CREATE TABLE `laptop` (`Id` int(11) NOT NULL,\\\n",
    "  `Name` varchar(250) NOT NULL,\\\n",
    "  `Price` float NOT NULL,\\\n",
    "  `Purchase_date` date NOT NULL)\"\n",
    "\tcursor.execute(myquery2)\n",
    "\tprint(\"Table is created\")\n",
    "except Error as e:\n",
    "    print(\"Failed to create table {}\".format(e))\n",
    "finally:\n",
    "    if conn.is_connected():\n",
    "        conn.close()\n",
    "    print(\"MySQL connection is closed\")\n",
    "\n"
   ]
  },
  {
   "cell_type": "code",
   "execution_count": 16,
   "id": "630d89dd",
   "metadata": {},
   "outputs": [
    {
     "ename": "NameError",
     "evalue": "name 'mysql' is not defined",
     "output_type": "error",
     "traceback": [
      "\u001b[31m---------------------------------------------------------------------------\u001b[39m",
      "\u001b[31mNameError\u001b[39m                                 Traceback (most recent call last)",
      "\u001b[36mCell\u001b[39m\u001b[36m \u001b[39m\u001b[32mIn[16]\u001b[39m\u001b[32m, line 3\u001b[39m\n\u001b[32m      2\u001b[39m \u001b[38;5;28;01mtry\u001b[39;00m:\n\u001b[32m----> \u001b[39m\u001b[32m3\u001b[39m     conn = \u001b[43mmysql\u001b[49m.connector.connect(...)  \u001b[38;5;66;03m# your connection details\u001b[39;00m\n\u001b[32m      4\u001b[39m     cursor = conn.cursor()\n",
      "\u001b[31mNameError\u001b[39m: name 'mysql' is not defined",
      "\nDuring handling of the above exception, another exception occurred:\n",
      "\u001b[31mNameError\u001b[39m                                 Traceback (most recent call last)",
      "\u001b[36mCell\u001b[39m\u001b[36m \u001b[39m\u001b[32mIn[16]\u001b[39m\u001b[32m, line 7\u001b[39m\n\u001b[32m      5\u001b[39m     cursor.execute(\u001b[33m\"\u001b[39m\u001b[33mCREATE TABLE ...\u001b[39m\u001b[33m\"\u001b[39m)\n\u001b[32m      6\u001b[39m     conn.commit()\n\u001b[32m----> \u001b[39m\u001b[32m7\u001b[39m \u001b[38;5;28;01mexcept\u001b[39;00m \u001b[43mmysql\u001b[49m.connector.Error \u001b[38;5;28;01mas\u001b[39;00m e:\n\u001b[32m      8\u001b[39m     \u001b[38;5;28mprint\u001b[39m(\u001b[33m\"\u001b[39m\u001b[33mFailed to create table \u001b[39m\u001b[38;5;132;01m{}\u001b[39;00m\u001b[33m\"\u001b[39m.format(e))\n\u001b[32m      9\u001b[39m \u001b[38;5;28;01mfinally\u001b[39;00m:\n",
      "\u001b[31mNameError\u001b[39m: name 'mysql' is not defined"
     ]
    }
   ],
   "source": [
    "conn = None\n",
    "try:\n",
    "    conn = mysql.connector.connect(...)  # your connection details\n",
    "    cursor = conn.cursor()\n",
    "    cursor.execute(\"CREATE TABLE ...\")\n",
    "    conn.commit()\n",
    "except mysql.connector.Error as e:\n",
    "    print(\"Failed to create table {}\".format(e))\n",
    "finally:\n",
    "    if conn is not None and conn.is_connected():\n",
    "        conn.close()\n",
    "        print(\"MySQL connection is closed\")\n"
   ]
  }
 ],
 "metadata": {
  "kernelspec": {
   "display_name": "Python 3",
   "language": "python",
   "name": "python3"
  },
  "language_info": {
   "codemirror_mode": {
    "name": "ipython",
    "version": 3
   },
   "file_extension": ".py",
   "mimetype": "text/x-python",
   "name": "python",
   "nbconvert_exporter": "python",
   "pygments_lexer": "ipython3",
   "version": "3.12.0"
  }
 },
 "nbformat": 4,
 "nbformat_minor": 5
}
