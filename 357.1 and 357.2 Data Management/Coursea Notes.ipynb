{
 "cells": [
  {
   "cell_type": "markdown",
   "id": "0f51f116",
   "metadata": {},
   "source": [
    "# `Web Scraping and Extracting Data using APIs`"
   ]
  },
  {
   "cell_type": "markdown",
   "id": "2e1ec498",
   "metadata": {},
   "source": [
    "### Web scraping is used for extraction of relevant data from web pages. If you require some data from a web page in a public domain, web scraping makes the process of data extraction quite convenient. "
   ]
  },
  {
   "cell_type": "markdown",
   "id": "74a1f505",
   "metadata": {},
   "source": [
    "### Pandas library is for data storage and manipulation "
   ]
  },
  {
   "cell_type": "markdown",
   "id": "ce8dc8fa",
   "metadata": {},
   "source": [
    "### You can directly load a Pandas dataframe to a SQLite3 database object using the following syntax: df.to_sql(table_name, sql_connection, if _exists = 'replace', index = False) "
   ]
  },
  {
   "cell_type": "markdown",
   "id": "b1d4d537",
   "metadata": {},
   "source": [
    "### You can use the Pandas function read_sql() to query a database table. "
   ]
  },
  {
   "cell_type": "markdown",
   "id": "0143e07c",
   "metadata": {},
   "source": []
  }
 ],
 "metadata": {
  "language_info": {
   "name": "python"
  }
 },
 "nbformat": 4,
 "nbformat_minor": 5
}
