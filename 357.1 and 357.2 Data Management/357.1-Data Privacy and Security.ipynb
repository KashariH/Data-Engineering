{
 "cells": [
  {
   "cell_type": "markdown",
   "id": "f7917efd",
   "metadata": {},
   "source": [
    "# `Data Privacy & Security`"
   ]
  },
  {
   "cell_type": "markdown",
   "id": "74bfc17f",
   "metadata": {},
   "source": [
    "### What Is Data Privacy?  - Data Privacy is all about who's allowed to see your info and what they can do with it. `Example: You choose who gets your number`\n",
    "\n",
    " What Is Data Security?- Data security is how data privacy (Your Info) Is protected from hackers,scammers, and randoms `Example: Putting a password on your phone`"
   ]
  },
  {
   "cell_type": "code",
   "execution_count": null,
   "id": "99f7d061",
   "metadata": {},
   "outputs": [],
   "source": [
    "\"\"\" Data Breach is when hackers break in and steal info like pws, credit cards, numbers and even selfies. \n",
    "Apps that track you and sell your info to advertisers without telling you is privacy fail. \n",
    "\n",
    "Data Privacy = Your rights \n",
    "Data Security = Your protection \n",
    "\"\"\""
   ]
  },
  {
   "cell_type": "markdown",
   "id": "368f80f3",
   "metadata": {},
   "source": [
    "# `Potential Breaches Vocab`"
   ]
  },
  {
   "cell_type": "markdown",
   "id": "785261ae",
   "metadata": {},
   "source": [
    "### Phishing - A cyberattack where hackers trick users into providing sensitive info by pretending to be trustworthy sources."
   ]
  },
  {
   "cell_type": "markdown",
   "id": "5fe4146f",
   "metadata": {},
   "source": [
    "### Malware - Malicious software designed to harm systems. It includes viruses, worms, and spyware. "
   ]
  },
  {
   "cell_type": "markdown",
   "id": "622fda58",
   "metadata": {},
   "source": [
    "### Insider Threats - Threats to security that come from individuals within the organization who may misuse access to data"
   ]
  },
  {
   "cell_type": "markdown",
   "id": "7c9161d5",
   "metadata": {},
   "source": [
    "### Password Attack - Attempts to guess passwords though methods like brute-force or credential stuffing "
   ]
  },
  {
   "cell_type": "markdown",
   "id": "ef4c521c",
   "metadata": {},
   "source": [
    "###  DoS - An attack tht disrupts services by overwhelming a system with excessive requests. "
   ]
  },
  {
   "cell_type": "markdown",
   "id": "8a0bd23e",
   "metadata": {},
   "source": [
    "### MITM - An attack where a third party intercepts communication between two entities to manipulate data"
   ]
  },
  {
   "cell_type": "markdown",
   "id": "fa663e74",
   "metadata": {},
   "source": [
    "### SQL Injections - A vulnerability where attackers insert malicious SQL code to manipulate databases and access data"
   ]
  },
  {
   "cell_type": "markdown",
   "id": "a9ca5248",
   "metadata": {},
   "source": [
    "### Zero-day Exploit - A security flaw that is unknown to software vendors, making it vulnerable until a fix is developed. "
   ]
  },
  {
   "cell_type": "markdown",
   "id": "14f2ec1b",
   "metadata": {},
   "source": [
    "# `Data Security Practices`"
   ]
  },
  {
   "cell_type": "markdown",
   "id": "400bc7f1",
   "metadata": {},
   "source": [
    "### Comprises practices such as encryption, user authentication, data masking, and secure storage to protect both digital and physical data assets."
   ]
  },
  {
   "cell_type": "markdown",
   "id": "bae54bca",
   "metadata": {},
   "source": [
    "### Three principles of data security: Confidentiality (Ensure accessibility to authorized personnel), Availability (Guarantee data is available authorized users), Integrity (Maintain accuracy and completeness) (These three principles are often referred to as the CIA Triad)"
   ]
  },
  {
   "cell_type": "markdown",
   "id": "604f08da",
   "metadata": {},
   "source": [
    "# `Data Security`"
   ]
  },
  {
   "cell_type": "code",
   "execution_count": null,
   "id": "85c7d08c",
   "metadata": {},
   "outputs": [],
   "source": [
    "\"\"\" Data encryption : Converts data into a coded format that is unreadable without the correct decryption key. Even if data is intercepted it remains secure.\n",
    "    Access Control : limits the access to sensitive data. AC (Access Control) systems are: \n",
    "    Multi-Factor Authentication (MFA)\n",
    "\n",
    "    Role-Based Access Control (RBAC) : Ensure that only authorized roles can view, edit, or manage specific datasets. \n",
    "Key aspects: Permissions, users, and role hierarchies \n",
    "Permissions are grouped into roles\n",
    "Users have minimum access to perform their job \n",
    "Benefits of RBAC: Scalability, Consistency, and Auditability \n",
    "\n",
    "    Principle of least privilege (PoLP) : Further strengths the security by restricting users to the minimum level of access as per their role. \n",
    "Security Audits detect vulnerabilities in systems and ensure compliance with security standards. \n",
    "Security Audits assess effectiveness of security measures and identify areas that require improvement \n",
    "\"\"\""
   ]
  },
  {
   "cell_type": "markdown",
   "id": "86946f89",
   "metadata": {},
   "source": [
    "# `Data Recovery`"
   ]
  },
  {
   "cell_type": "code",
   "execution_count": null,
   "id": "96ba0703",
   "metadata": {},
   "outputs": [],
   "source": [
    "\"\"\" Data Backup and Recovery plan ensures that, in the event of a disaster data is restored with least disruptions. \n",
    " Whether natural, accidental, or malicious you can restore data  with the least disruptions to operations\n",
    " Ensure backups are encrypted, stored in secure offsite locations. \n",
    "\"\"\""
   ]
  },
  {
   "cell_type": "markdown",
   "id": "eaf76199",
   "metadata": {},
   "source": [
    "# `Patch Management`"
   ]
  },
  {
   "cell_type": "code",
   "execution_count": null,
   "id": "3fb75fa3",
   "metadata": {},
   "outputs": [],
   "source": [
    "\"\"\" Patch Management involves updating outdated software, applications, and OS \n",
    "    Patch Management fixes known security flaws \n",
    "\"\"\""
   ]
  },
  {
   "cell_type": "markdown",
   "id": "da4c311f",
   "metadata": {},
   "source": [
    "# `Data Rest `"
   ]
  },
  {
   "cell_type": "code",
   "execution_count": null,
   "id": "d5be2c3e",
   "metadata": {},
   "outputs": [],
   "source": [
    "\"\"\" Stored on a hard drive, server, or cloud \n",
    "    Encrypted data requires a decryption key to be read \n",
    "    Uses cases: databases, backup tapes, and cloud storage services. \n",
    "\"\"\""
   ]
  },
  {
   "cell_type": "markdown",
   "id": "7564f0cb",
   "metadata": {},
   "source": [
    "# `Data Motion `"
   ]
  },
  {
   "cell_type": "code",
   "execution_count": null,
   "id": "ff2e4f28",
   "metadata": {},
   "outputs": [],
   "source": [
    "\"\"\" Data transmitted over network \n",
    "    Vulnerable to interception or eavesdropping \n",
    "    Ex: Login credentials, Financial Info is protected during transmission. \n",
    "\"\"\""
   ]
  },
  {
   "cell_type": "markdown",
   "id": "5aab02d6",
   "metadata": {},
   "source": [
    "# `Symmetric Encryption`"
   ]
  },
  {
   "cell_type": "code",
   "execution_count": null,
   "id": "ce38e882",
   "metadata": {},
   "outputs": [],
   "source": [
    "\"\"\" Same key is used for both encryption and decryption \n",
    "\n",
    "Widely used symmetric algorithms are below\n",
    "    AES (Advanced Encryption Standard) \n",
    "    DES (Data Encryption Standard)\n",
    "\"\"\""
   ]
  },
  {
   "cell_type": "markdown",
   "id": "9c96de3f",
   "metadata": {},
   "source": [
    "# `Asymmetric Encryption`"
   ]
  },
  {
   "cell_type": "code",
   "execution_count": null,
   "id": "8ce590ce",
   "metadata": {},
   "outputs": [],
   "source": [
    "\"\"\" Uses public key for encryption and a private key for decryption \n",
    "\n",
    "Widely used asymmetric algorithms are below \n",
    "    RSA (Rivest-Shamir-Adleman) \n",
    "    ECC (Elliptic Curve Cryptography)\n",
    "\"\"\""
   ]
  },
  {
   "cell_type": "markdown",
   "id": "6092a455",
   "metadata": {},
   "source": [
    "# `Key management`"
   ]
  },
  {
   "cell_type": "code",
   "execution_count": null,
   "id": "b86dc22d",
   "metadata": {},
   "outputs": [],
   "source": [
    "\"\"\" Generation, distribution, storage, and revocation of encryption keys\n",
    "    Ensures confidentiality and security of encrypted data \n",
    "Poor key management can undermine even the most robust encryption algorithms \n",
    "\"\"\""
   ]
  },
  {
   "cell_type": "markdown",
   "id": "38720993",
   "metadata": {},
   "source": [
    "# `Hashing`"
   ]
  },
  {
   "cell_type": "code",
   "execution_count": null,
   "id": "6f811768",
   "metadata": {},
   "outputs": [],
   "source": [
    "\"\"\" Transforms data into a fixed-length string of characters, a hash value \n",
    "    One-way function and cannot be reversed to retrieve the original data\n",
    "Commonly used in data integrity checks, password, storage, and digital signatures. \n",
    "\"\"\""
   ]
  },
  {
   "cell_type": "markdown",
   "id": "11f039fb",
   "metadata": {},
   "source": [
    "# `Data Access Management`"
   ]
  },
  {
   "cell_type": "code",
   "execution_count": null,
   "id": "0ac8844e",
   "metadata": {},
   "outputs": [],
   "source": [
    "\"\"\" Ensures access to required data\n",
    "    Prevents unauthorized access to sensitive info \n",
    "    Places a critical role in : data security, Privacy Compliance and protecting intellectual property \n",
    "\n",
    "Protects against: Insider threats, Data breaches, Accidental data leaks \n",
    "\n",
    "By implementing structured access control organizations can protect sensitive data (Edit & Delete data)\n",
    "\n",
    "Maintain regulatory compliance: GDPR, HIPAA, CCPA \n",
    "\n",
    "Enhances accountability: Track & monitor data access also, helps identify and respond to suspicious activities \n",
    "\"\"\""
   ]
  },
  {
   "cell_type": "markdown",
   "id": "ef4e4ff2",
   "metadata": {},
   "source": [
    "# `API access`"
   ]
  },
  {
   "cell_type": "code",
   "execution_count": null,
   "id": "4fe4615f",
   "metadata": {},
   "outputs": [],
   "source": [
    "\"\"\" Allow applications and systems to communicate and exchange data \n",
    "    Provides access to sensitive data or services (Prime target for cyberattacks)\n",
    "\"\"\""
   ]
  },
  {
   "cell_type": "markdown",
   "id": "bd0f6d4e",
   "metadata": {},
   "source": [
    "# `Data Architecture`"
   ]
  },
  {
   "cell_type": "code",
   "execution_count": null,
   "id": "a547516f",
   "metadata": {},
   "outputs": [],
   "source": [
    "\"\"\" Data architecture requires a solid framework \n",
    "    DR is the blueprint for how data is collected, stored, managed, and used within an organization \n",
    "    Refers to the structural design of an organizations data assets and the standards, polices, and models \n",
    "    Defines how data is flowed within an organization ensuring the data is properly organized, easily accessible and securely maintained.\n",
    "    Encompasses a broad range of elements, such as data models, metadata management, data security, integration processes and data governance.\n",
    "\"\"\""
   ]
  },
  {
   "cell_type": "code",
   "execution_count": null,
   "id": "ac3754be",
   "metadata": {},
   "outputs": [],
   "source": [
    "\"\"\" It is essential to have a well-structured data architecture to manage, store, and process vast amounts of info efficiently. \n",
    "\n",
    "    Data architectures ets the foundation for data flows \n",
    "\n",
    "    Once data is received from a data source, it must be stored in a way that aligns with its intended use. \n",
    "\n",
    "    Common storage types:\n",
    "    Data Lakes (used for storing raw, unprocessed data) \n",
    "    Data Warehouses (used for storing structured, processed data for analysis)\n",
    "    Databases, Relational, and NoSQL databases store both transactional and operational data. \n",
    "\"\"\""
   ]
  },
  {
   "cell_type": "code",
   "execution_count": null,
   "id": "4d6d6f43",
   "metadata": {},
   "outputs": [],
   "source": [
    "\"\"\" Data processing & integration includes: \n",
    "    Transforming \n",
    "    Cleaning \n",
    "    Organizing \n",
    "Tools and technologies like ETL, extract, transform, load, batch processing, and stream processing fall under this component \n",
    "\"\"\""
   ]
  },
  {
   "cell_type": "code",
   "execution_count": null,
   "id": "4aaf16be",
   "metadata": {},
   "outputs": [],
   "source": [
    "\"\"\" Data Governance policies \n",
    "    Who owns the data\n",
    "    Who has access to it\n",
    "    How data will be managed \n",
    "\"\"\""
   ]
  },
  {
   "cell_type": "code",
   "execution_count": null,
   "id": "7fa5b8b0",
   "metadata": {},
   "outputs": [],
   "source": [
    "\"\"\" Data cleansing \n",
    "    Remove duplicates \n",
    "    Correct errors \n",
    "    Ensure data accuracy \n",
    "\"\"\""
   ]
  },
  {
   "cell_type": "markdown",
   "id": "76362c2e",
   "metadata": {},
   "source": [
    "# `Data Management`"
   ]
  },
  {
   "cell_type": "code",
   "execution_count": null,
   "id": "43628731",
   "metadata": {},
   "outputs": [],
   "source": [
    "\"\"\" Data management lifecycle \n",
    "\n",
    "    Data Management :  involves collecting, storing, organizing , and using data \n",
    "\n",
    "    Data Creation or Collection : Internal systems, customer interactions, sensors \n",
    "\n",
    "    Data Storage : Databases, Data warehouses, and Data lakes\n",
    "\n",
    "    Data Maintenance & Cleansing : Ensures that the data remains reliable, \n",
    "    including removing duplicate records, correcting entry errors, ensuring data is properly formatted \n",
    "\n",
    "    Data Usage : Accessing, analyzing, and applying data \n",
    "    Generate reports, perform statistical analyses, & Powering ML models\n",
    "\n",
    "    Data Sharing & Distribution : Implementing secure and well-managed protocols \n",
    "    Involves APIs, dashboards, & real-time data feeds \n",
    "\n",
    "    Data Archiving : Retaining data for legal or historical purposes \n",
    "    Moves data to secure, cost-effective storage preserving for future reference \n",
    "\n",
    "   Data Deletion : Deletes data securely to prevent unauthorized recovery \n",
    "   Helps to reduce storage costs \n",
    "   Mitigates the risks of data breaches \n",
    "\"\"\""
   ]
  },
  {
   "cell_type": "markdown",
   "id": "5b92cbdb",
   "metadata": {},
   "source": [
    "# `Data Governance`"
   ]
  },
  {
   "cell_type": "code",
   "execution_count": null,
   "id": "5b0b3110",
   "metadata": {},
   "outputs": [],
   "source": [
    "\"\"\" Data Governance Core Principles \n",
    "    Data accuracy : Representing real-world entities accurately \n",
    "\n",
    "    Data accessibility : Allows authorized users to access data easily\n",
    "\n",
    "    Data consistency : Ensures data is uniform across systems\n",
    "\n",
    "    Data integrity : Ensures data is accurate, consistent, and reliable \n",
    "\n",
    "    Data accountability : \n",
    "\n",
    "    Data compliance : Safeguarding data privacy, managing data retention, maintaining clear records \n",
    "\n",
    "    Data stewardship : Enforce polices, monitor data quality, and facilitate collaboration \n",
    "    \n",
    "    Data transparency : Documenting data lineage and maintaining open documentation \n",
    "\"\"\""
   ]
  },
  {
   "cell_type": "code",
   "execution_count": null,
   "id": "f1db5cd5",
   "metadata": {},
   "outputs": [],
   "source": [
    "\"\"\" The key roles in data governance \n",
    "\n",
    "Data governance council or committee \n",
    "\n",
    "Chief data officer or CDO \n",
    "\n",
    "Data stewards \n",
    "\n",
    "Data owners \n",
    "\n",
    "Data custodians \n",
    "\n",
    "Data analysts or scientists \n",
    "\n",
    "Data governance managers \n",
    "\n",
    "Compliance officers\n",
    "\"\"\""
   ]
  }
 ],
 "metadata": {
  "language_info": {
   "name": "python"
  }
 },
 "nbformat": 4,
 "nbformat_minor": 5
}
