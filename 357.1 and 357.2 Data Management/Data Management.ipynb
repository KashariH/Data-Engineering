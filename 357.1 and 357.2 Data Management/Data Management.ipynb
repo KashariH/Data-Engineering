{
 "cells": [
  {
   "cell_type": "markdown",
   "id": "c6e2e1de",
   "metadata": {},
   "source": [
    "### `Key Parts of Data Management : Collecting Data, Storing Data, Organizing Data, Protecting Data, Using & Sharing Data`"
   ]
  }
 ],
 "metadata": {
  "language_info": {
   "name": "python"
  }
 },
 "nbformat": 4,
 "nbformat_minor": 5
}
