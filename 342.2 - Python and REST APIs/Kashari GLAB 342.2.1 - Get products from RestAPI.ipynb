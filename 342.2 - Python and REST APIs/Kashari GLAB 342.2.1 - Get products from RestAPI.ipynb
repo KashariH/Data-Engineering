{
 "cells": [
  {
   "cell_type": "markdown",
   "id": "1f3b5903",
   "metadata": {},
   "source": [
    "# `342.2.1 Guided Lab` - Get Products from RestAPI "
   ]
  },
  {
   "cell_type": "markdown",
   "id": "29281751",
   "metadata": {},
   "source": [
    "#### The following code use the (request) module to send an HTTP GET request to the \"https://dummyjson.com/products\" API endpoint."
   ]
  },
  {
   "cell_type": "code",
   "execution_count": null,
   "id": "6903404b",
   "metadata": {},
   "outputs": [
    {
     "ename": "ModuleNotFoundError",
     "evalue": "No module named 'requests'",
     "output_type": "error",
     "traceback": [
      "\u001b[31m---------------------------------------------------------------------------\u001b[39m",
      "\u001b[31mModuleNotFoundError\u001b[39m                       Traceback (most recent call last)",
      "\u001b[36mCell\u001b[39m\u001b[36m \u001b[39m\u001b[32mIn[1]\u001b[39m\u001b[32m, line 1\u001b[39m\n\u001b[32m----> \u001b[39m\u001b[32m1\u001b[39m \u001b[38;5;28;01mimport\u001b[39;00m\u001b[38;5;250m \u001b[39m\u001b[34;01mrequests\u001b[39;00m\n\u001b[32m      2\u001b[39m \u001b[38;5;28;01mimport\u001b[39;00m\u001b[38;5;250m \u001b[39m\u001b[34;01mjson\u001b[39;00m\n\u001b[32m      4\u001b[39m \u001b[38;5;28;01mdef\u001b[39;00m\u001b[38;5;250m \u001b[39m\u001b[34mfetch_and_save_json_data\u001b[39m(api_url, file_path):\n",
      "\u001b[31mModuleNotFoundError\u001b[39m: No module named 'requests'"
     ]
    }
   ],
   "source": [
    "import requests\n",
    "import json\n",
    "\n",
    "def fetch_and_save_json_data(api_url, file_path): #Create a function called fetch_and_save_json_data() that takes the API URL and file path as arguments.\n",
    "    # This function encapsulates the entire process of fetching data and saving it to a file.\n",
    "\n",
    "    try:  # Use a try block to handle potential exceptions and errors during the process \n",
    "        \n",
    "        # Make an HTTP GET request to the API\n",
    "        response = requests.get(api_url) # Retrieves the data from the API \n",
    "\n",
    "        # Check if the request was successful (status code 200)\n",
    "        if response.status_code == 200:\n",
    "            # Parse the JSON data from the response\n",
    "            data = response.json()\n",
    "\n",
    "            # Write the JSON data to the file\n",
    "            with open(file_path, \"w\") as json_file:\n",
    "                json.dump(data, json_file, indent=4)\n",
    "\n",
    "            print(f\"Data has been written to '{file_path}'.\")\n",
    "        else:\n",
    "            print(f\"Failed to retrieve data. Status code: {response.status_code}\")\n",
    "    except requests.exceptions.RequestException as e: # Use except blocks to catch and handle different types of exceptions. \n",
    "\n",
    "        print(f\"An error occurred during the request: {e}\")\n",
    "    except json.JSONDecodeError as e: # For handling errors that occur while parsing the JSON response. \n",
    "\n",
    "        print(f\"An error occurred while parsing the JSON response: {e}\")\n",
    "    except FileNotFoundError as e: # Handling errors related to writing the JSON data to the file\n",
    "\n",
    "        print(f\"An error occurred while writing to the file: {e}\")\n",
    "    except Exception as e: # Generic exception block to catch unexpected errors. \n",
    "\n",
    "        print(f\"An unexpected error occurred: {e}\")\n",
    "\n",
    "# Define the API endpoint URL and file path\n",
    "api_url_products = \"https://dummyjson.com/products\"\n",
    "file_path = \"products_information.json\"\n",
    "# note: do not forget to change the file path in the above line\n",
    "\n",
    "# Call the function to fetch and save JSON data\n",
    "fetch_and_save_json_data(api_url_products, file_path)"
   ]
  },
  {
   "cell_type": "markdown",
   "id": "0b81039f",
   "metadata": {},
   "source": [
    "#### The following code will send an HTTP GET request to the \"https://dummyjson.com/products/search?q=Oil\" API endpoint, we will retrieve products related to a Oil keyword. "
   ]
  },
  {
   "cell_type": "code",
   "execution_count": null,
   "id": "fb893544",
   "metadata": {},
   "outputs": [],
   "source": [
    "import requests\n",
    "\n",
    "def fetch_and_print_json_data(api_url): #Function named fetch_and_print_json_data that takes the API \n",
    "    # URL as an argument was created. \n",
    "\n",
    "    try:  # try block to handle potential exceptions and errors during the process.\n",
    "\n",
    "        # Make an HTTP GET request to the API\n",
    "        response = requests.get(api_url)\n",
    "\n",
    "        # Check if the request was successful (status code 200)\n",
    "\n",
    "        if response.status_code == 200: # Check if the request was successful by examining the status code (response.status_code).\n",
    "            # If it is 200, the request was successful.\n",
    "\n",
    "            # Parse the JSON data from the response\n",
    "            json_data = response.json()\n",
    "\n",
    "            # Print the retrieved JSON data\n",
    "            print(json_data)\n",
    "            \n",
    "        else: # except blocks to catch and handle different types of exceptions\n",
    "            print(f\"Failed to retrieve data. Status code: {response.status_code}\")\n",
    "    except requests.exceptions.RequestException as e:\n",
    "        print(f\"An error occurred during the request: {e}\")\n",
    "    except json.JSONDecodeError as e:\n",
    "        print(f\"An error occurred while parsing the JSON response: {e}\")\n",
    "    except Exception as e:\n",
    "        print(f\"An unexpected error occurred: {e}\")\n",
    "\n",
    "# Define the API endpoint URL\n",
    "api_url = \"https://dummyjson.com/products/search?q=Oil\"\n",
    "\n",
    "# Call the function to fetch and print JSON data\n",
    "fetch_and_print_json_data(api_url)"
   ]
  }
 ],
 "metadata": {
  "kernelspec": {
   "display_name": "Python 3",
   "language": "python",
   "name": "python3"
  },
  "language_info": {
   "codemirror_mode": {
    "name": "ipython",
    "version": 3
   },
   "file_extension": ".py",
   "mimetype": "text/x-python",
   "name": "python",
   "nbconvert_exporter": "python",
   "pygments_lexer": "ipython3",
   "version": "3.13.2"
  }
 },
 "nbformat": 4,
 "nbformat_minor": 5
}
