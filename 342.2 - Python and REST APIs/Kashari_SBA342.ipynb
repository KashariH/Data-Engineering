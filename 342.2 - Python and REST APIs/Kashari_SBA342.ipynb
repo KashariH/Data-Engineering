{
 "cells": [
  {
   "cell_type": "markdown",
   "id": "ed92d6ac",
   "metadata": {},
   "source": [
    "# `SBA 342 - Data Integration and processing, manipulation with Python`"
   ]
  },
  {
   "cell_type": "markdown",
   "id": "ce3fc6a2",
   "metadata": {},
   "source": [
    "## The task is to write a Python program to filter medical records from a given API based on a doctor's name and diagnosis ID and then find the minimum and maximum body temperatures in those filtered records. The program should use the HTTP GET method to retrieve paginated data, handle exceptions, and avoid using the Pandas library. The output should be the integer parts of the minimum and maximum body temperatures found.\n"
   ]
  },
  {
   "cell_type": "code",
   "execution_count": 19,
   "id": "00728064",
   "metadata": {},
   "outputs": [
    {
     "name": "stdout",
     "output_type": "stream",
     "text": [
      "Minimum Body Temperature: 99\n",
      "Maximum Body Temperature: 103\n",
      "Minimum Body Temperature: 97\n",
      "Maximum Body Temperature: 99\n",
      "Minimum Body Temperature: None\n",
      "Maximum Body Temperature: None\n"
     ]
    }
   ],
   "source": [
    "import requests\n",
    "\n",
    "def bodyTemperature(doctorName, diagnosisId):  #Defining function body temperature and within body temperature I am passing the args (doctorName, diagnosisId) first. \n",
    "    \"\"\"\n",
    "    Filters medical records by doctor's name and diagnosis ID,\n",
    "    and returns the integer parts of the min and max body temperatures.\n",
    "\n",
    "    Args:\n",
    "        doctorName (str): Doctor's full name (e.g., \"Dr Arnold Bullock\").\n",
    "        diagnosisId (int): Diagnosis ID (e.g., 3).\n",
    "\n",
    "    Returns:\n",
    "        list: [min_temp, max_temp] as integers, or [None, None] if no records found.\n",
    "    \"\"\"\n",
    "    try:\n",
    "        # Medical Records API endpoint \n",
    "        url = \"https://jsonmock.hackerrank.com/api/medical_records\"\n",
    "        page = 1  #Start from the first page \n",
    "        body_temperatures = []\n",
    "#Iterate through all pages of the API response \n",
    "        while True:\n",
    " #Make an HTTP GET request, passing the current page number as a query parameter \n",
    "            response = requests.get(url, params={\"page\": page})\n",
    "            response.raise_for_status()  #Handle HTTP errors \n",
    "            data = response.json() #Parse the JSON \n",
    "\n",
    "            medical_records = data.get(\"data\", [])\n",
    "            if not medical_records:\n",
    "                break  # If there are no more medical records, exit the loop\n",
    "\n",
    "            \n",
    "        # Iterate through each medical record in the current page\n",
    "\n",
    "            for record in medical_records:\n",
    "                try:  # Filter medical records based on doctor's name and diagnosis ID\n",
    "\n",
    "                    if (record.get(\"doctor\", {}).get(\"name\") == doctorName and\n",
    "                        record.get(\"diagnosis\", {}).get(\"id\") == diagnosisId):\n",
    "\n",
    "                        #Extract body temp and add to list\n",
    "\n",
    "                        temp = record.get(\"vitals\", {}).get(\"bodyTemperature\")\n",
    "                        if isinstance(temp, (float, int)):\n",
    "                            body_temperatures.append(int(temp))\n",
    "                except (KeyError, TypeError):\n",
    "                    continue   # Skip record if any field is missing\n",
    "                \n",
    "                \n",
    "                 # Check if there is another page\n",
    "\n",
    "            if page >= data.get(\"total_pages\", 1):\n",
    "                break\n",
    "            page += 1\n",
    "\n",
    "#Return the result\n",
    "        if body_temperatures:\n",
    "            return [min(body_temperatures), max(body_temperatures)]\n",
    "        else:\n",
    "            return [None, None]\n",
    "\n",
    "    except requests.RequestException as e:\n",
    "        print(\"Error fetching data:\", e)\n",
    "        return [None, None]\n",
    "\n",
    "doctor_name = \"Dr Arnold Bullock\"\n",
    "diagnosis_id = 3\n",
    "result = bodyTemperature(doctor_name, diagnosis_id)\n",
    "print(\"Minimum Body Temperature:\", result[0])\n",
    "print(\"Maximum Body Temperature:\", result[1])\n",
    "\n",
    "doctor_name = \"Dr Allysa Ellis\"\n",
    "diagnosis_id = 4\n",
    "result = bodyTemperature(doctor_name, diagnosis_id)\n",
    "print(\"Minimum Body Temperature:\", result[0])\n",
    "print(\"Maximum Body Temperature:\", result[1])\n",
    "\n",
    "doctor_name = \"Dr Adam\"\n",
    "diagnosis_id = 5\n",
    "result = bodyTemperature(doctor_name, diagnosis_id)\n",
    "print(\"Minimum Body Temperature:\", result[0])\n",
    "print(\"Maximum Body Temperature:\", result[1])\n"
   ]
  }
 ],
 "metadata": {
  "kernelspec": {
   "display_name": "Python 3",
   "language": "python",
   "name": "python3"
  },
  "language_info": {
   "codemirror_mode": {
    "name": "ipython",
    "version": 3
   },
   "file_extension": ".py",
   "mimetype": "text/x-python",
   "name": "python",
   "nbconvert_exporter": "python",
   "pygments_lexer": "ipython3",
   "version": "3.12.0"
  }
 },
 "nbformat": 4,
 "nbformat_minor": 5
}
