{
 "cells": [
  {
   "cell_type": "markdown",
   "id": "9df132ac",
   "metadata": {},
   "source": [
    "### `Apache Spark (Pyspark) - SBA 345`"
   ]
  },
  {
   "cell_type": "markdown",
   "id": "ed2395eb",
   "metadata": {},
   "source": [
    "### In this skill-based assignment (SBA), you will analyze the dataset for the imaginary company, “CompanyABC,” using PySpark. The dataset is about stocks and sales, and you will be asked some basic questions about CompanyABC stock and sales data. \n"
   ]
  },
  {
   "cell_type": "markdown",
   "id": "514ba165",
   "metadata": {},
   "source": [
    "#### `Section one: CompanyABC Stock Data` \n",
    "##### Load/Read the CompanyABC stock (CompanyABC_stock.csv) data into the SparkSQL DataFrame [hint read()]. \n",
    "##### After loading the data, you can inspect the data by using the lines of the code below. "
   ]
  },
  {
   "cell_type": "code",
   "execution_count": 2,
   "id": "7c520f67",
   "metadata": {},
   "outputs": [
    {
     "name": "stdout",
     "output_type": "stream",
     "text": [
      "root\n",
      " |-- Date: date (nullable = true)\n",
      " |-- Open: double (nullable = true)\n",
      " |-- High: double (nullable = true)\n",
      " |-- Low: double (nullable = true)\n",
      " |-- Close: double (nullable = true)\n",
      " |-- Volume: integer (nullable = true)\n",
      " |-- Adj Close: double (nullable = true)\n",
      "\n",
      "+----------+------------------+------------------+------------------+------------------+--------+------------------+\n",
      "|      Date|              Open|              High|               Low|             Close|  Volume|         Adj Close|\n",
      "+----------+------------------+------------------+------------------+------------------+--------+------------------+\n",
      "|2012-01-03|         59.970001|         61.060001|         59.869999|         60.330002|12668800|52.619234999999996|\n",
      "|2012-01-04|60.209998999999996|         60.349998|         59.470001|59.709998999999996| 9593300|         52.078475|\n",
      "|2012-01-05|         59.349998|         59.619999|         58.369999|         59.419998|12768200|         51.825539|\n",
      "|2012-01-06|         59.419998|         59.450001|         58.869999|              59.0| 8069400|          51.45922|\n",
      "|2012-01-09|         59.029999|         59.549999|         58.919998|             59.18| 6679300|51.616215000000004|\n",
      "|2012-01-10|             59.43|59.709998999999996|             58.98|59.040001000000004| 6907300|         51.494109|\n",
      "|2012-01-11|         59.060001|         59.529999|59.040001000000004|         59.400002| 6365600|         51.808098|\n",
      "|2012-01-12|59.790001000000004|              60.0|         59.400002|              59.5| 7236400|51.895315999999994|\n",
      "|2012-01-13|             59.18|59.610001000000004|59.009997999999996|59.540001000000004| 7729300|51.930203999999996|\n",
      "|2012-01-17|         59.869999|60.110001000000004|             59.52|         59.849998| 8500000|         52.200581|\n",
      "|2012-01-18|59.790001000000004|         60.029999|         59.650002|60.009997999999996| 5911400|         52.340131|\n",
      "|2012-01-19|             59.93|             60.73|             59.75|60.610001000000004| 9234600|         52.863447|\n",
      "|2012-01-20|             60.75|             61.25|         60.669998|61.009997999999996|10378800|53.212320999999996|\n",
      "|2012-01-23|         60.810001|             60.98|60.509997999999996|             60.91| 7134100|         53.125104|\n",
      "|2012-01-24|             60.75|              62.0|             60.75|61.389998999999996| 7362800| 53.54375400000001|\n",
      "|2012-01-25|             61.18|61.610001000000004|61.040001000000004|         61.470001| 5915800| 53.61353100000001|\n",
      "|2012-01-26|         61.799999|             61.84|             60.77|         60.970001| 7436200|         53.177436|\n",
      "|2012-01-27|60.860001000000004|         61.119999|60.540001000000004|60.709998999999996| 6287300|         52.950665|\n",
      "|2012-01-30|         60.470001|             61.32|         60.349998|         61.299999| 7636900|53.465256999999994|\n",
      "|2012-01-31|         61.529999|             61.57|         60.580002|61.360001000000004| 9761500|53.517590000000006|\n",
      "+----------+------------------+------------------+------------------+------------------+--------+------------------+\n",
      "only showing top 20 rows\n",
      "\n"
     ]
    }
   ],
   "source": [
    "import pyspark  # Imported the required packages \n",
    "from pyspark.sql import SparkSession \n",
    "\n",
    "spark = SparkSession.builder.appName(\"CSV Reader\").getOrCreate() \n",
    "company_df = spark.read.load(r\"C:\\Users\\CompanyABC_stock.csv\", format=\"csv\", header = True,inferSchema = True)\n",
    "#the above line will return data in a DataFrame\n",
    "\n",
    "company_df.printSchema()\n",
    "\n",
    "company_df.show()"
   ]
  },
  {
   "cell_type": "markdown",
   "id": "8e900e0a",
   "metadata": {},
   "source": [
    "##### Inspecting the data"
   ]
  },
  {
   "cell_type": "code",
   "execution_count": 3,
   "id": "50d0e162",
   "metadata": {},
   "outputs": [
    {
     "name": "stdout",
     "output_type": "stream",
     "text": [
      "root\n",
      " |-- Date: date (nullable = true)\n",
      " |-- Open: double (nullable = true)\n",
      " |-- High: double (nullable = true)\n",
      " |-- Low: double (nullable = true)\n",
      " |-- Close: double (nullable = true)\n",
      " |-- Volume: integer (nullable = true)\n",
      " |-- Adj Close: double (nullable = true)\n",
      "\n",
      "+-------+------------------+-----------------+-----------------+-----------------+-----------------+-----------------+\n",
      "|summary|              Open|             High|              Low|            Close|           Volume|        Adj Close|\n",
      "+-------+------------------+-----------------+-----------------+-----------------+-----------------+-----------------+\n",
      "|  count|              1258|             1258|             1258|             1258|             1258|             1258|\n",
      "|   mean| 72.35785375357709|72.83938807631165| 71.9186009594594|72.38844998012726|8222093.481717011|67.23883848728146|\n",
      "| stddev|  6.76809024470826|6.768186808159218|6.744075756255496|6.756859163732991|  4519780.8431556|6.722609449996857|\n",
      "|    min|56.389998999999996|        57.060001|        56.299999|        56.419998|          2094900|        50.363689|\n",
      "|    max|         90.800003|        90.970001|            89.25|        90.470001|         80898100|84.91421600000001|\n",
      "+-------+------------------+-----------------+-----------------+-----------------+-----------------+-----------------+\n",
      "\n",
      "+----------+------------------+------------------+------------------+------------------+--------+------------------+\n",
      "|      Date|              Open|              High|               Low|             Close|  Volume|         Adj Close|\n",
      "+----------+------------------+------------------+------------------+------------------+--------+------------------+\n",
      "|2012-01-03|         59.970001|         61.060001|         59.869999|         60.330002|12668800|52.619234999999996|\n",
      "|2012-01-04|60.209998999999996|         60.349998|         59.470001|59.709998999999996| 9593300|         52.078475|\n",
      "|2012-01-05|         59.349998|         59.619999|         58.369999|         59.419998|12768200|         51.825539|\n",
      "|2012-01-06|         59.419998|         59.450001|         58.869999|              59.0| 8069400|          51.45922|\n",
      "|2012-01-09|         59.029999|         59.549999|         58.919998|             59.18| 6679300|51.616215000000004|\n",
      "|2012-01-10|             59.43|59.709998999999996|             58.98|59.040001000000004| 6907300|         51.494109|\n",
      "|2012-01-11|         59.060001|         59.529999|59.040001000000004|         59.400002| 6365600|         51.808098|\n",
      "|2012-01-12|59.790001000000004|              60.0|         59.400002|              59.5| 7236400|51.895315999999994|\n",
      "|2012-01-13|             59.18|59.610001000000004|59.009997999999996|59.540001000000004| 7729300|51.930203999999996|\n",
      "|2012-01-17|         59.869999|60.110001000000004|             59.52|         59.849998| 8500000|         52.200581|\n",
      "|2012-01-18|59.790001000000004|         60.029999|         59.650002|60.009997999999996| 5911400|         52.340131|\n",
      "|2012-01-19|             59.93|             60.73|             59.75|60.610001000000004| 9234600|         52.863447|\n",
      "|2012-01-20|             60.75|             61.25|         60.669998|61.009997999999996|10378800|53.212320999999996|\n",
      "|2012-01-23|         60.810001|             60.98|60.509997999999996|             60.91| 7134100|         53.125104|\n",
      "|2012-01-24|             60.75|              62.0|             60.75|61.389998999999996| 7362800| 53.54375400000001|\n",
      "|2012-01-25|             61.18|61.610001000000004|61.040001000000004|         61.470001| 5915800| 53.61353100000001|\n",
      "|2012-01-26|         61.799999|             61.84|             60.77|         60.970001| 7436200|         53.177436|\n",
      "|2012-01-27|60.860001000000004|         61.119999|60.540001000000004|60.709998999999996| 6287300|         52.950665|\n",
      "|2012-01-30|         60.470001|             61.32|         60.349998|         61.299999| 7636900|53.465256999999994|\n",
      "|2012-01-31|         61.529999|             61.57|         60.580002|61.360001000000004| 9761500|53.517590000000006|\n",
      "+----------+------------------+------------------+------------------+------------------+--------+------------------+\n",
      "only showing top 20 rows\n",
      "\n"
     ]
    }
   ],
   "source": [
    "company_df.columns\n",
    "company_df.printSchema()\n",
    "company_df.describe().show()\n",
    "company_df.show()\n",
    "\n"
   ]
  },
  {
   "cell_type": "markdown",
   "id": "a6246333",
   "metadata": {},
   "source": [
    "##### Print the first five rows"
   ]
  },
  {
   "cell_type": "code",
   "execution_count": 4,
   "id": "9773bc04",
   "metadata": {},
   "outputs": [
    {
     "name": "stdout",
     "output_type": "stream",
     "text": [
      "root\n",
      " |-- Date: date (nullable = true)\n",
      " |-- Open: double (nullable = true)\n",
      " |-- High: double (nullable = true)\n",
      " |-- Low: double (nullable = true)\n",
      " |-- Close: double (nullable = true)\n",
      " |-- Volume: integer (nullable = true)\n",
      " |-- Adj Close: double (nullable = true)\n",
      "\n",
      "+----------+------------------+---------+---------+------------------+--------+------------------+\n",
      "|      Date|              Open|     High|      Low|             Close|  Volume|         Adj Close|\n",
      "+----------+------------------+---------+---------+------------------+--------+------------------+\n",
      "|2012-01-03|         59.970001|61.060001|59.869999|         60.330002|12668800|52.619234999999996|\n",
      "|2012-01-04|60.209998999999996|60.349998|59.470001|59.709998999999996| 9593300|         52.078475|\n",
      "|2012-01-05|         59.349998|59.619999|58.369999|         59.419998|12768200|         51.825539|\n",
      "|2012-01-06|         59.419998|59.450001|58.869999|              59.0| 8069400|          51.45922|\n",
      "|2012-01-09|         59.029999|59.549999|58.919998|             59.18| 6679300|51.616215000000004|\n",
      "+----------+------------------+---------+---------+------------------+--------+------------------+\n",
      "only showing top 5 rows\n",
      "\n"
     ]
    }
   ],
   "source": [
    "company_df.count() # Return number of rows \n",
    "company_df.printSchema() #Return schema \n",
    "company_df.show(5) # Showing first five rows"
   ]
  },
  {
   "cell_type": "markdown",
   "id": "9f0ceea2",
   "metadata": {},
   "source": [
    "##### Create a new DataFrame column called \"HV Ratio\", which will stimulate the ratio of the High price versus the total Volume of stock that was traded for a day. "
   ]
  },
  {
   "cell_type": "code",
   "execution_count": 5,
   "id": "05281257",
   "metadata": {},
   "outputs": [
    {
     "name": "stdout",
     "output_type": "stream",
     "text": [
      "+------------------+--------+--------------------+\n",
      "|              High|  Volume|            HV Ratio|\n",
      "+------------------+--------+--------------------+\n",
      "|         61.060001|12668800|4.819714653321546E-6|\n",
      "|         60.349998| 9593300|6.290848613094555E-6|\n",
      "|         59.619999|12768200|4.669412994783916E-6|\n",
      "|         59.450001| 8069400|7.367338463826307E-6|\n",
      "|         59.549999| 6679300|8.915604778943901E-6|\n",
      "|59.709998999999996| 6907300|8.644477436914568E-6|\n",
      "|         59.529999| 6365600|9.351828421515645E-6|\n",
      "|              60.0| 7236400| 8.29141562102703E-6|\n",
      "|59.610001000000004| 7729300|7.712212102001476E-6|\n",
      "|60.110001000000004| 8500000|7.071764823529412E-6|\n",
      "|         60.029999| 5911400|1.015495466386981E-5|\n",
      "|             60.73| 9234600|6.576354146362592...|\n",
      "|             61.25|10378800| 5.90145296180676E-6|\n",
      "|             60.98| 7134100|8.547679455011844E-6|\n",
      "|              62.0| 7362800|8.420709512685392E-6|\n",
      "|61.610001000000004| 5915800|1.041448341728929...|\n",
      "|             61.84| 7436200|8.316075414862431E-6|\n",
      "|         61.119999| 6287300|9.721183814992126E-6|\n",
      "|             61.32| 7636900|8.029436027707578E-6|\n",
      "|             61.57| 9761500|6.307432259386365E-6|\n",
      "+------------------+--------+--------------------+\n",
      "only showing top 20 rows\n",
      "\n"
     ]
    }
   ],
   "source": [
    "from pyspark.sql.functions import col\n",
    "company_df = company_df.withColumn(\"HV Ratio\", col(\"High\") / col(\"Volume\")) \n",
    "company_df.select(\"High\", \"Volume\", \"HV Ratio\").show() "
   ]
  },
  {
   "cell_type": "markdown",
   "id": "276c900a",
   "metadata": {},
   "source": [
    "##### Find out on what day the stock price was the highest. (Hint: use the High column) "
   ]
  },
  {
   "cell_type": "code",
   "execution_count": 6,
   "id": "dffff094",
   "metadata": {},
   "outputs": [
    {
     "name": "stdout",
     "output_type": "stream",
     "text": [
      "+----------+---------+\n",
      "|      Date|     High|\n",
      "+----------+---------+\n",
      "|2015-01-13|90.970001|\n",
      "+----------+---------+\n",
      "\n"
     ]
    }
   ],
   "source": [
    "from pyspark.sql.functions import max\n",
    "max_high = company_df.agg(max(\"High\")).collect()[0][0] \n",
    "highest_day_df = company_df.filter(col(\"High\") == max_high)\n",
    "highest_day_df.select(\"Date\", \"High\").show()"
   ]
  },
  {
   "cell_type": "markdown",
   "id": "e5eadbf1",
   "metadata": {},
   "source": [
    "##### What is the average (mean) closing price? (Hint: Use the Close column) "
   ]
  },
  {
   "cell_type": "code",
   "execution_count": 7,
   "id": "83aa6c35",
   "metadata": {},
   "outputs": [
    {
     "name": "stdout",
     "output_type": "stream",
     "text": [
      "+-----------------+\n",
      "|       avg(Close)|\n",
      "+-----------------+\n",
      "|72.38844998012726|\n",
      "+-----------------+\n",
      "\n"
     ]
    }
   ],
   "source": [
    "from pyspark.sql.functions import avg\n",
    "\n",
    "company_df.select(avg(\"Close\")).show()\n"
   ]
  },
  {
   "cell_type": "markdown",
   "id": "21d21344",
   "metadata": {},
   "source": [
    "##### What are the maximum and minimum volumes of stock traded? (Hint: Use the Count() method)"
   ]
  },
  {
   "cell_type": "code",
   "execution_count": 8,
   "id": "cd0fafb0",
   "metadata": {},
   "outputs": [
    {
     "name": "stdout",
     "output_type": "stream",
     "text": [
      "+----------+----------+\n",
      "|Max Volume|Min Volume|\n",
      "+----------+----------+\n",
      "|  80898100|   2094900|\n",
      "+----------+----------+\n",
      "\n"
     ]
    }
   ],
   "source": [
    "from pyspark.sql.functions import max, min\n",
    "\n",
    "company_df.select(\n",
    "    max(\"Volume\").alias(\"Max Volume\"),\n",
    "    min(\"Volume\").alias(\"Min Volume\")\n",
    ").show()\n"
   ]
  },
  {
   "cell_type": "markdown",
   "id": "ffd0ab38",
   "metadata": {},
   "source": [
    "##### For how many days was the closing value less than 70 dollars? (Hint: Use the count() method) "
   ]
  },
  {
   "cell_type": "code",
   "execution_count": 9,
   "id": "47cd5456",
   "metadata": {},
   "outputs": [
    {
     "name": "stdout",
     "output_type": "stream",
     "text": [
      "Number of days with closing value less than $70: 397\n"
     ]
    }
   ],
   "source": [
    "num_days = company_df.filter(company_df[\"Close\"] < 70).count()\n",
    "\n",
    "print(f\"Number of days with closing value less than $70: {num_days}\")\n"
   ]
  },
  {
   "cell_type": "markdown",
   "id": "5cbe3cd8",
   "metadata": {},
   "source": [
    "##### What percentage of the time was the High greater than 80 dollars? (Hint: Number of Days High>80)/(Total Days in the dataset). "
   ]
  },
  {
   "cell_type": "code",
   "execution_count": 10,
   "id": "123b600d",
   "metadata": {},
   "outputs": [
    {
     "name": "stdout",
     "output_type": "stream",
     "text": [
      "Percentage of days greater than > $80: 9.14%\n"
     ]
    }
   ],
   "source": [
    "\n",
    "days_high_greater_80 = company_df.filter(company_df[\"High\"] > 80).count()\n",
    "\n",
    "total_days = company_df.count()\n",
    "\n",
    "percentage = (days_high_greater_80 / total_days) * 100\n",
    "\n",
    "print(f\"Percentage of days greater than > $80: {percentage:.2f}%\")\n"
   ]
  },
  {
   "cell_type": "markdown",
   "id": "e114ee88",
   "metadata": {},
   "source": [
    "##### Create a database named CompanyABC_DB using SQL (Workbench). \n",
    "##### Load/Write CompanyABC_stock.csv file data into CompanyABC_DB database from the SparkSQL Dataframe. You can specify any table name for that file."
   ]
  },
  {
   "cell_type": "code",
   "execution_count": 11,
   "id": "913d2c96",
   "metadata": {},
   "outputs": [],
   "source": [
    "from pyspark.sql import SparkSession\n",
    "\n",
    "spark = SparkSession.builder \\\n",
    "    .appName(\"MyApp\") \\\n",
    "    .config(\"spark.jars\", r\"C:\\Users\\CompanyABC_stock.csv\").getOrCreate()\n"
   ]
  },
  {
   "cell_type": "code",
   "execution_count": 12,
   "id": "890d0c6f",
   "metadata": {},
   "outputs": [],
   "source": [
    "company_df.write \\\n",
    "    .format(\"jdbc\") \\\n",
    "    .mode(\"overwrite\") \\\n",
    "    .option(\"url\", \"jdbc:mysql://localhost:3306/CompanyABC_DB\") \\\n",
    "    .option(\"dbtable\", \"money_data\") \\\n",
    "    .option(\"user\", \"root\") \\\n",
    "    .option(\"password\", \"password\") \\\n",
    "    .option(\"driver\", \"com.mysql.cj.jdbc.Driver\") \\\n",
    "    .save()\n"
   ]
  },
  {
   "cell_type": "markdown",
   "id": "a6352a3b",
   "metadata": {},
   "source": [
    "##### Section Two: CompanyABC Scales Data"
   ]
  },
  {
   "cell_type": "markdown",
   "id": "960fd18a",
   "metadata": {},
   "source": [
    "##### Load/Read both CompanyABC sales datasets (Sales_April_2019.csv and Sales_February_2019.csv) into a single SparkSQL DataFrame ( hint read() ). You can inspect data by using the lines below:\n"
   ]
  },
  {
   "cell_type": "code",
   "execution_count": 13,
   "id": "3fbb5866",
   "metadata": {},
   "outputs": [
    {
     "name": "stdout",
     "output_type": "stream",
     "text": [
      "+--------+--------------------+----------------+----------+---------------+--------------------+\n",
      "|Order ID|             Product|Quantity Ordered|Price Each|     Order Date|    Purchase Address|\n",
      "+--------+--------------------+----------------+----------+---------------+--------------------+\n",
      "|  176558|USB-C Charging Cable|               2|     11.95| 4/19/2019 8:46|917 1st St, Dalla...|\n",
      "|  176559|Bose SoundSport H...|               1|     99.99| 4/7/2019 22:30|682 Chestnut St, ...|\n",
      "|  176560|        Google Phone|               1|       600|4/12/2019 14:38|669 Spruce St, Lo...|\n",
      "|  176560|    Wired Headphones|               1|     11.99|4/12/2019 14:38|669 Spruce St, Lo...|\n",
      "|  176561|    Wired Headphones|               1|     11.99| 4/30/2019 9:27|333 8th St, Los A...|\n",
      "+--------+--------------------+----------------+----------+---------------+--------------------+\n",
      "only showing top 5 rows\n",
      "\n",
      "root\n",
      " |-- Order ID: string (nullable = true)\n",
      " |-- Product: string (nullable = true)\n",
      " |-- Quantity Ordered: string (nullable = true)\n",
      " |-- Price Each: string (nullable = true)\n",
      " |-- Order Date: string (nullable = true)\n",
      " |-- Purchase Address: string (nullable = true)\n",
      "\n"
     ]
    }
   ],
   "source": [
    "from pyspark.sql import SparkSession\n",
    "spark = SparkSession.builder \\\n",
    "    .appName(\"CompanyABC Sales\") \\\n",
    "    .getOrCreate()\n",
    "\n",
    "april_df = spark.read.option(\"header\", \"true\").csv(r\"C:\\Users\\Sales_April_2019.csv\")\n",
    "feb_df = spark.read.option(\"header\", \"true\").csv(r\"C:\\Users\\Sales_February_2019.csv\")\n",
    "\n",
    "sales_df = april_df.union(feb_df)\n",
    "\n",
    "# Inspect the data\n",
    "sales_df.show(5)\n",
    "sales_df.printSchema()\n"
   ]
  },
  {
   "cell_type": "code",
   "execution_count": 14,
   "id": "0519c668",
   "metadata": {},
   "outputs": [
    {
     "name": "stdout",
     "output_type": "stream",
     "text": [
      "root\n",
      " |-- Order ID: string (nullable = true)\n",
      " |-- Product: string (nullable = true)\n",
      " |-- Quantity Ordered: string (nullable = true)\n",
      " |-- Price Each: string (nullable = true)\n",
      " |-- Order Date: string (nullable = true)\n",
      " |-- Purchase Address: string (nullable = true)\n",
      "\n",
      "root\n",
      " |-- Order ID: string (nullable = true)\n",
      " |-- Product: string (nullable = true)\n",
      " |-- Quantity Ordered: string (nullable = true)\n",
      " |-- Price Each: string (nullable = true)\n",
      " |-- Order Date: string (nullable = true)\n",
      " |-- Purchase Address: string (nullable = true)\n",
      "\n",
      "+-------+------------------+------------+-------------------+------------------+--------------+--------------------+\n",
      "|summary|          Order ID|     Product|   Quantity Ordered|        Price Each|    Order Date|    Purchase Address|\n",
      "+-------+------------------+------------+-------------------+------------------+--------------+--------------------+\n",
      "|  count|             18324|       18324|              18324|             18324|         18324|               18324|\n",
      "|   mean|185328.81672043304|        NULL| 1.1246104215648751|184.43102630000277|          NULL|                NULL|\n",
      "| stddev| 5061.520829296985|        NULL|0.43640973695741925| 330.9133771769665|          NULL|                NULL|\n",
      "|    min|            176558|20in Monitor|                  1|            109.99|4/1/2019 10:00|1 14th St, New Yo...|\n",
      "|    max|          Order ID|      iPhone|   Quantity Ordered|        Price Each|    Order Date|    Purchase Address|\n",
      "+-------+------------------+------------+-------------------+------------------+--------------+--------------------+\n",
      "\n",
      "+-------+------------------+------------+------------------+------------------+--------------+--------------------+\n",
      "|summary|          Order ID|     Product|  Quantity Ordered|        Price Each|    Order Date|    Purchase Address|\n",
      "+-------+------------------+------------+------------------+------------------+--------------+--------------------+\n",
      "|  count|             12004|       12004|             12004|             12004|         12004|               12004|\n",
      "|   mean|156250.61338227932|        NULL|1.1230602369431002|182.74150675788204|          NULL|                NULL|\n",
      "| stddev|3322.0752634362825|        NULL|0.4311103873526451|325.54329574605885|          NULL|                NULL|\n",
      "|    min|            150502|20in Monitor|                 1|            109.99|02/01/19 01:51|1 Hill St, Boston...|\n",
      "|    max|          Order ID|      iPhone|  Quantity Ordered|        Price Each|    Order Date|    Purchase Address|\n",
      "+-------+------------------+------------+------------------+------------------+--------------+--------------------+\n",
      "\n",
      "+--------+--------------------+----------------+----------+---------------+--------------------+\n",
      "|Order ID|             Product|Quantity Ordered|Price Each|     Order Date|    Purchase Address|\n",
      "+--------+--------------------+----------------+----------+---------------+--------------------+\n",
      "|  176558|USB-C Charging Cable|               2|     11.95| 4/19/2019 8:46|917 1st St, Dalla...|\n",
      "|  176559|Bose SoundSport H...|               1|     99.99| 4/7/2019 22:30|682 Chestnut St, ...|\n",
      "|  176560|        Google Phone|               1|       600|4/12/2019 14:38|669 Spruce St, Lo...|\n",
      "|  176560|    Wired Headphones|               1|     11.99|4/12/2019 14:38|669 Spruce St, Lo...|\n",
      "|  176561|    Wired Headphones|               1|     11.99| 4/30/2019 9:27|333 8th St, Los A...|\n",
      "|  176562|USB-C Charging Cable|               1|     11.95|4/29/2019 13:03|381 Wilson St, Sa...|\n",
      "|  176563|Bose SoundSport H...|               1|     99.99|  4/2/2019 7:46|668 Center St, Se...|\n",
      "|  176564|USB-C Charging Cable|               1|     11.95|4/12/2019 10:58|790 Ridge St, Atl...|\n",
      "|  176565|  Macbook Pro Laptop|               1|      1700|4/24/2019 10:38|915 Willow St, Sa...|\n",
      "|  176566|    Wired Headphones|               1|     11.99| 4/8/2019 14:05|83 7th St, Boston...|\n",
      "|  176567|        Google Phone|               1|       600|4/18/2019 17:18|444 7th St, Los A...|\n",
      "|  176568|Lightning Chargin...|               1|     14.95|4/15/2019 12:18|438 Elm St, Seatt...|\n",
      "|  176569|27in 4K Gaming Mo...|               1|    389.99|4/16/2019 19:23|657 Hill St, Dall...|\n",
      "|  176570|AA Batteries (4-p...|               1|      3.84|4/22/2019 15:09|186 12th St, Dall...|\n",
      "|  176571|Lightning Chargin...|               1|     14.95|4/19/2019 14:29|253 Johnson St, A...|\n",
      "|  176572|Apple Airpods Hea...|               1|       150| 4/4/2019 20:30|149 Dogwood St, N...|\n",
      "|  176573|USB-C Charging Cable|               1|     11.95|4/27/2019 18:41|214 Chestnut St, ...|\n",
      "|  176574|        Google Phone|               1|       600| 4/3/2019 19:42|20 Hill St, Los A...|\n",
      "|  176574|USB-C Charging Cable|               1|     11.95| 4/3/2019 19:42|20 Hill St, Los A...|\n",
      "|  176575|AAA Batteries (4-...|               1|      2.99| 4/27/2019 0:30|433 Hill St, New ...|\n",
      "+--------+--------------------+----------------+----------+---------------+--------------------+\n",
      "only showing top 20 rows\n",
      "\n",
      "+--------+--------------------+----------------+----------+--------------+--------------------+\n",
      "|Order ID|             Product|Quantity Ordered|Price Each|    Order Date|    Purchase Address|\n",
      "+--------+--------------------+----------------+----------+--------------+--------------------+\n",
      "|  150502|              iPhone|               1|       700|02/18/19 01:35|866 Spruce St, Po...|\n",
      "|  150503|AA Batteries (4-p...|               1|      3.84|02/13/19 07:24|18 13th St, San F...|\n",
      "|  150504|27in 4K Gaming Mo...|               1|    389.99|02/18/19 09:46|52 6th St, New Yo...|\n",
      "|  150505|Lightning Chargin...|               1|     14.95|02/02/19 16:47|129 Cherry St, At...|\n",
      "|  150506|AA Batteries (4-p...|               2|      3.84|02/28/19 20:32|548 Lincoln St, S...|\n",
      "|  150507|Lightning Chargin...|               1|     14.95|02/24/19 18:50|387 12th St, Aust...|\n",
      "|  150508|AA Batteries (4-p...|               1|      3.84|02/21/19 19:26|622 Center St, Sa...|\n",
      "|  150509|Apple Airpods Hea...|               1|       150|02/26/19 19:53|921 6th St, Seatt...|\n",
      "|  150510|USB-C Charging Cable|               1|     11.95|02/17/19 21:48|451 2nd St, Los A...|\n",
      "|  150511|USB-C Charging Cable|               1|     11.95|02/22/19 07:36|689 River St, San...|\n",
      "|  150512|Bose SoundSport H...|               1|     99.99|02/17/19 18:29|198 Center St, Lo...|\n",
      "|  150513|Bose SoundSport H...|               1|     99.99|02/25/19 20:49|777 Spruce St, Lo...|\n",
      "|  150514|    27in FHD Monitor|               1|    149.99|02/03/19 00:21|723 Wilson St, Lo...|\n",
      "|  150515|Apple Airpods Hea...|               1|       150|02/18/19 14:53|101 13th St, New ...|\n",
      "|  150516|Lightning Chargin...|               1|     14.95|02/20/19 12:29|303 Sunset St, At...|\n",
      "|  150517|    Wired Headphones|               1|     11.99|02/08/19 12:57|471 13th St, San ...|\n",
      "|  150518|  Macbook Pro Laptop|               1|      1700|02/26/19 12:38|847 10th St, San ...|\n",
      "|  150518|              iPhone|               1|       700|02/26/19 12:38|847 10th St, San ...|\n",
      "|  150519|    Wired Headphones|               1|     11.99|02/23/19 13:25|111 Hill St, Dall...|\n",
      "|  150520|AA Batteries (4-p...|               2|      3.84|02/27/19 14:39|512 Church St, Da...|\n",
      "+--------+--------------------+----------------+----------+--------------+--------------------+\n",
      "only showing top 20 rows\n",
      "\n"
     ]
    }
   ],
   "source": [
    "april_df.columns\n",
    "feb_df.columns\n",
    "april_df.printSchema()\n",
    "feb_df.printSchema()\n",
    "april_df.describe().show() \n",
    "feb_df.describe().show() \n",
    "april_df.show()\n",
    "feb_df.show() \n",
    "\n"
   ]
  },
  {
   "cell_type": "code",
   "execution_count": 15,
   "id": "13ad923f",
   "metadata": {},
   "outputs": [
    {
     "name": "stdout",
     "output_type": "stream",
     "text": [
      "+----------------+----------+-----------+\n",
      "|Quantity Ordered|Price Each|Total price|\n",
      "+----------------+----------+-----------+\n",
      "|               2|     11.95|       23.9|\n",
      "|               1|     99.99|      99.99|\n",
      "|               1|       600|      600.0|\n",
      "|               1|     11.99|      11.99|\n",
      "|               1|     11.99|      11.99|\n",
      "+----------------+----------+-----------+\n",
      "only showing top 5 rows\n",
      "\n"
     ]
    }
   ],
   "source": [
    "from pyspark.sql.functions import col\n",
    "sales_df = sales_df.withColumn(\n",
    "    \"Total price\",\n",
    "    (col(\"Quantity Ordered\").cast(\"float\") * col(\"Price Each\").cast(\"float\"))\n",
    ")\n",
    "sales_df.select(\"Quantity Ordered\", \"Price Each\", \"Total price\").show(5)\n",
    "\n"
   ]
  },
  {
   "cell_type": "code",
   "execution_count": 16,
   "id": "036fc4ce",
   "metadata": {},
   "outputs": [],
   "source": [
    "from pyspark.sql import SparkSession\n",
    "\n",
    "spark = SparkSession.builder \\\n",
    "    .appName(\"WriteSalesData\") \\\n",
    "    .config(\"spark.jars\", \"C:/path/to/mysql-connector-java-8.0.xx.jar\") \\\n",
    "    .getOrCreate()\n"
   ]
  },
  {
   "cell_type": "code",
   "execution_count": 17,
   "id": "e8200d26",
   "metadata": {},
   "outputs": [],
   "source": [
    "sales_df.write \\\n",
    "    .format(\"jdbc\") \\\n",
    "    .mode(\"overwrite\") \\\n",
    "    .option(\"url\", \"jdbc:mysql://localhost:3306/CompanyABC_DB\") \\\n",
    "    .option(\"dbtable\", \"money_data\") \\\n",
    "    .option(\"user\", \"root\") \\\n",
    "    .option(\"password\", \"password\") \\\n",
    "    .option(\"driver\", \"com.mysql.cj.jdbc.Driver\") \\\n",
    "    .save()\n"
   ]
  }
 ],
 "metadata": {
  "kernelspec": {
   "display_name": "venv",
   "language": "python",
   "name": "python3"
  },
  "language_info": {
   "codemirror_mode": {
    "name": "ipython",
    "version": 3
   },
   "file_extension": ".py",
   "mimetype": "text/x-python",
   "name": "python",
   "nbconvert_exporter": "python",
   "pygments_lexer": "ipython3",
   "version": "3.10.11"
  }
 },
 "nbformat": 4,
 "nbformat_minor": 5
}
