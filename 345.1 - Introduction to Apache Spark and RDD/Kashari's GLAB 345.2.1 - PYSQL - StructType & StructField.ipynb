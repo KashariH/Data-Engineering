{
 "cells": [
  {
   "cell_type": "markdown",
   "id": "a3c2a9aa",
   "metadata": {},
   "source": [
    "## `GLAB 345.2.1: PYSQL - StructType & StructField`"
   ]
  },
  {
   "cell_type": "markdown",
   "id": "dedaea15",
   "metadata": {},
   "source": [
    "#### In this lab, you will work with structured data in PySpark. You will define a schema using StructType and StructField to specify the structure of your data, including column names and data types. Then, you will create a PySpark DataFrame using this schema() method and populate it with sample student data containing various data types (string, integer, and float). Finally, you will learn how to display the schema and its fields and print the schema in a tree format for better readability.\n"
   ]
  },
  {
   "cell_type": "code",
   "execution_count": 5,
   "id": "5bcf7ae7",
   "metadata": {},
   "outputs": [
    {
     "name": "stdout",
     "output_type": "stream",
     "text": [
      "+------+-----+---+------+------+-------+\n",
      "|rollno| name|age|height|weight|address|\n",
      "+------+-----+---+------+------+-------+\n",
      "|   001| john| 23|  5.79|    67|     NY|\n",
      "|   002|James| 18|  3.79|    34|     NY|\n",
      "|   003| Eric| 17|  2.79|    17|     NJ|\n",
      "+------+-----+---+------+------+-------+\n",
      "\n"
     ]
    }
   ],
   "source": [
    "import pyspark\n",
    "from pyspark.sql import SparkSession\n",
    "# And import struct types and data types\n",
    "from pyspark.sql.types import StructType,StructField,StringType,IntegerType,FloatType\n",
    "spark_app = SparkSession.builder.appName(\"sparkdemo\").getOrCreate()\n",
    "\n",
    "# Create student data with 5 rows and 6 attributes \n",
    "students =[['001', 'john', 23, 5.79, 67, 'NY'], ['002', 'James', 18, 3.79, 34, 'NY'], ['003', 'Eric', 17, 2.79, 17, 'NJ' ]] \n",
    "\n",
    "[['004', 'Shahparan', 19, 3.69, 28, 'NJ'],['005', 'Flex', 37, 5.59, 54, 'Dallas']]  \n",
    "\n",
    "# Define the StructType and StructFields \n",
    "# For the below column names \n",
    "schema=StructType([\n",
    "    StructField(\"rollno\",StringType(),True),\n",
    "    StructField(\"name\",StringType(),True), \n",
    "    StructField(\"age\",IntegerType(),True),\n",
    "    StructField(\"height\", FloatType(), True),\n",
    "    StructField(\"weight\", IntegerType(), True),\n",
    "    StructField(\"address\", StringType(), True) ])\n",
    "\n",
    "# Create the dataframe and add schema to the dataframe \n",
    "df = spark_app.createDataFrame(students, schema=schema) \n",
    "\n",
    "# Show data \n",
    "df.show()\n"
   ]
  },
  {
   "cell_type": "code",
   "execution_count": null,
   "id": "dee1005a",
   "metadata": {},
   "outputs": [
    {
     "data": {
      "text/plain": [
       "<bound method DataFrame.printSchema of DataFrame[rollno: string, name: string, age: int, height: float, weight: int, address: string]>"
      ]
     },
     "execution_count": 16,
     "metadata": {},
     "output_type": "execute_result"
    }
   ],
   "source": [
    "# This will return the DataFrame type, along with columns. \n",
    "df.schema\n",
    "# Since I've created a DataFrame called df, I can access its schema like this. \n",
    "# I don't need parenthesis because .schema is a property, not a function. \n",
    "\n",
    "df.schema.fields # Displays the fields \n",
    "\n",
    "df.printSchema # Display the schema in a tree format "
   ]
  },
  {
   "cell_type": "code",
   "execution_count": 18,
   "id": "ce7bfb9b",
   "metadata": {},
   "outputs": [
    {
     "name": "stdout",
     "output_type": "stream",
     "text": [
      "StructType([StructField('rollno', StringType(), True), StructField('name', StringType(), True), StructField('age', IntegerType(), True), StructField('height', FloatType(), True), StructField('weight', IntegerType(), True), StructField('address', StringType(), True)])\n"
     ]
    }
   ],
   "source": [
    "# Create the dataframe and add schema to the dataframe \n",
    "df = spark_app.createDataFrame(students, schema=schema)\n",
    "# Display the schema \n",
    "print(df.schema) "
   ]
  },
  {
   "cell_type": "code",
   "execution_count": 19,
   "id": "ac894975",
   "metadata": {},
   "outputs": [
    {
     "name": "stdout",
     "output_type": "stream",
     "text": [
      "[StructField('rollno', StringType(), True), StructField('name', StringType(), True), StructField('age', IntegerType(), True), StructField('height', FloatType(), True), StructField('weight', IntegerType(), True), StructField('address', StringType(), True)]\n"
     ]
    }
   ],
   "source": [
    "# Display the schema fields \n",
    "print(df.schema.fields)"
   ]
  },
  {
   "cell_type": "code",
   "execution_count": 20,
   "id": "767fc158",
   "metadata": {},
   "outputs": [
    {
     "data": {
      "text/plain": [
       "<bound method DataFrame.printSchema of DataFrame[rollno: string, name: string, age: int, height: float, weight: int, address: string]>"
      ]
     },
     "execution_count": 20,
     "metadata": {},
     "output_type": "execute_result"
    }
   ],
   "source": [
    "# Display the schema in a tree format \n",
    "df.printSchema"
   ]
  }
 ],
 "metadata": {
  "kernelspec": {
   "display_name": "venv",
   "language": "python",
   "name": "python3"
  },
  "language_info": {
   "codemirror_mode": {
    "name": "ipython",
    "version": 3
   },
   "file_extension": ".py",
   "mimetype": "text/x-python",
   "name": "python",
   "nbconvert_exporter": "python",
   "pygments_lexer": "ipython3",
   "version": "3.10.11"
  }
 },
 "nbformat": 4,
 "nbformat_minor": 5
}
