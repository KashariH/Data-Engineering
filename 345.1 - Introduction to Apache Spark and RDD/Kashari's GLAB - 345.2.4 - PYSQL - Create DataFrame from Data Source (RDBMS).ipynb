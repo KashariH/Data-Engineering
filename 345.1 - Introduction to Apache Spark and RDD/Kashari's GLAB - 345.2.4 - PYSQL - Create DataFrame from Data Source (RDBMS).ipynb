{
 "cells": [
  {
   "cell_type": "markdown",
   "id": "ed4141c4",
   "metadata": {},
   "source": [
    "## `Guided Lab 345.2.4 - Create DataFrame from Data Source (RDBMS)`"
   ]
  },
  {
   "cell_type": "markdown",
   "id": "788efea1",
   "metadata": {},
   "source": [
    "#### We  can create a PySpark SQL DataFrame from different database sources such as SQL, Oracle, and PostgreSQL. In this lab, we will explore how to read data from SQL using a JDBC connection. We will use the “classicmodels” database in this example. \n",
    "##### By the end of this lab, the learners will be able to:\n",
    "##### Set up an SQL connector for Spark to enable communication with RDBMS sources.\n",
    "##### Use PySpark's DataFrame API to read data from an RDBMS source using JDBC connections.\n",
    "##### Perform various DataFrame operations and methods to manipulate and analyze the data retrieved from the RDBMS source.\n"
   ]
  }
 ],
 "metadata": {
  "language_info": {
   "name": "python"
  }
 },
 "nbformat": 4,
 "nbformat_minor": 5
}
