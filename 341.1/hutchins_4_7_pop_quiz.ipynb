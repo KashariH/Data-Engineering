{
 "cells": [
  {
   "cell_type": "markdown",
   "id": "e53d18ce",
   "metadata": {},
   "source": [
    "# Pop Quiz 4/7/25\n"
   ]
  },
  {
   "cell_type": "code",
   "execution_count": null,
   "id": "f787e98f",
   "metadata": {},
   "outputs": [],
   "source": [
    "1. What is the difference between a normal string and a raw string. \n",
    "\n",
    "Answer: A normal string uses quotes around it. A raw string specifies the keyword. For example r\"/d\" - this means r is the raw string and it is stating show digits. \n",
    " \n",
    "2. Write A lambda function used with map() to square all elements in a list \n",
    "\n",
    "Answer: \n",
    "\n",
    "3. Write a function to find the letters in a word.\n",
    "\n"
   ]
  },
  {
   "cell_type": "code",
   "execution_count": 1,
   "id": "031ddd2c",
   "metadata": {},
   "outputs": [
    {
     "name": "stdout",
     "output_type": "stream",
     "text": [
      "[1, 4, 9, 16, 25, 36, 49, 64]\n"
     ]
    }
   ],
   "source": [
    "# Write A lambda function used with map() to square all elements in a list \n",
    "numbers = [1, 2, 3, 4, 5, 6, 7, 8]\n",
    "squared_numbers = list(map(lambda x: x**2, numbers))\n",
    "print(squared_numbers)"
   ]
  },
  {
   "cell_type": "code",
   "execution_count": 4,
   "id": "b779c15b",
   "metadata": {},
   "outputs": [
    {
     "name": "stdout",
     "output_type": "stream",
     "text": [
      "None\n"
     ]
    }
   ],
   "source": [
    " #Write a function to find the letters in a word.\n",
    "word = 'cat'\n",
    "letters = find_letters(word)\n",
    "print(letters) \n"
   ]
  }
 ],
 "metadata": {
  "kernelspec": {
   "display_name": "base",
   "language": "python",
   "name": "python3"
  },
  "language_info": {
   "codemirror_mode": {
    "name": "ipython",
    "version": 3
   },
   "file_extension": ".py",
   "mimetype": "text/x-python",
   "name": "python",
   "nbconvert_exporter": "python",
   "pygments_lexer": "ipython3",
   "version": "3.12.7"
  }
 },
 "nbformat": 4,
 "nbformat_minor": 5
}
