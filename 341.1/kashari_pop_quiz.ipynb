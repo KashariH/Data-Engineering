{
 "cells": [
  {
   "cell_type": "markdown",
   "metadata": {},
   "source": [
    "## String Practice"
   ]
  },
  {
   "cell_type": "code",
   "execution_count": null,
   "metadata": {},
   "outputs": [
    {
     "name": "stdout",
     "output_type": "stream",
     "text": [
      "<class 'str'>\n",
      "H\n",
      "llo\n",
      "lo World!\n",
      "Hello World!Hello World!\n",
      "Hello World!Everyone!\n",
      "hello world!\n",
      "Hello World!\n",
      "Hesso Worsd!\n",
      "12\n",
      "Hello World!\n",
      "['Hello', 'World!']\n"
     ]
    }
   ],
   "source": [
    "str1= \"this is a string\"\n",
    "print(str)\n",
    "\n",
    "s = 'Hello World!'\n",
    "print(s[0])\n",
    "print(s[2:5])\n",
    "print(s[3:])\n",
    "print(s*2)\n",
    "print(s+'Everyone!')\n",
    "print(s.lower())\n",
    "print(s.replace('l','s'))\n",
    "print(len(s))\n",
    "print(s.strip())\n",
    "print(s.split(' '))\n"
   ]
  },
  {
   "cell_type": "code",
   "execution_count": 6,
   "metadata": {},
   "outputs": [
    {
     "name": "stdout",
     "output_type": "stream",
     "text": [
      "<class 'int'>\n",
      "Integer into String:  10\n",
      "<class 'str'>\n"
     ]
    }
   ],
   "source": [
    "MyInteger= 10\n",
    "print(type(MyInteger))\n",
    "# Converting integer to String\n",
    "integerToStr = str(MyInteger)\n",
    "print(\"Integer into String: \", integerToStr)\n",
    "print(type(integerToStr))\n"
   ]
  },
  {
   "cell_type": "code",
   "execution_count": 11,
   "metadata": {},
   "outputs": [
    {
     "ename": "SyntaxError",
     "evalue": "cannot assign to function call (2707330948.py, line 1)",
     "output_type": "error",
     "traceback": [
      "\u001b[1;36m  Cell \u001b[1;32mIn[11], line 1\u001b[1;36m\u001b[0m\n\u001b[1;33m    str.format()=\u001b[0m\n\u001b[1;37m    ^\u001b[0m\n\u001b[1;31mSyntaxError\u001b[0m\u001b[1;31m:\u001b[0m cannot assign to function call\n"
     ]
    }
   ],
   "source": [
    "str.format()=\n",
    "animal = \"cow\" \n",
    "item = \"moon\"\n",
    "#print(The \"+animal+\" jumped over the \"+item)\n",
    "print(\"The {} jumped over the {}\". format(animal, \"moon\"))\n",
    "\n",
    "name = \"girl\" \n",
    "print(\"Hello my name is {}\".format(name))\n"
   ]
  },
  {
   "cell_type": "code",
   "execution_count": 13,
   "metadata": {},
   "outputs": [
    {
     "data": {
      "text/plain": [
       "'Five plus ten is 15 and not 30.'"
      ]
     },
     "execution_count": 13,
     "metadata": {},
     "output_type": "execute_result"
    }
   ],
   "source": [
    "a = 5\n",
    "b = 10\n",
    "f'Five plus ten is {a+b} and not {2 * (a +b)}.'\n"
   ]
  },
  {
   "cell_type": "code",
   "execution_count": null,
   "metadata": {},
   "outputs": [],
   "source": [
    "year = 2008\n",
    "if year % 4 == 0\n",
    "if \n",
    "else  by 100"
   ]
  },
  {
   "cell_type": "code",
   "execution_count": null,
   "metadata": {},
   "outputs": [
    {
     "name": "stdout",
     "output_type": "stream",
     "text": [
      "No food for you!\n",
      "Hello mea\n",
      "This item is for sale\n"
     ]
    }
   ],
   "source": [
    "response = input(\"would you like food? (y/n) : \")\n",
    "if response == \"Y\": \n",
    "    print(\"HAVE SOME FOOD!\")\n",
    "else: \n",
    "    print(\"No food for you!\")\n",
    "\n",
    "    name = input(\"Enter Your Name\")\n",
    "    if name == \"\": \n",
    "        print(\"You did not type in your name!\")\n",
    "    else: \n",
    "        print(f\"Hello {name}\")\n",
    "        for_sale = True\n",
    "\n",
    "        if for_sale: \n",
    "            print(\"This item is for sale\")\n",
    "        else: \n",
    "            print(\"This item is NOT for sale\"\n",
    "                  \n",
    "\n",
    "for number in range(3):\n",
    "\n",
    "print(\"sending a message\")\n"
   ]
  },
  {
   "cell_type": "code",
   "execution_count": null,
   "metadata": {},
   "outputs": [
    {
     "name": "stdout",
     "output_type": "stream",
     "text": [
      "1\n",
      "2\n",
      "3\n",
      "4\n",
      "5\n",
      "6\n",
      "7\n",
      "8\n",
      "9\n"
     ]
    }
   ],
   "source": [
    "for x in range(1,10):\n",
    "    print(x)"
   ]
  },
  {
   "cell_type": "markdown",
   "metadata": {},
   "source": [
    "## Nested loops practice"
   ]
  },
  {
   "cell_type": "code",
   "execution_count": null,
   "metadata": {},
   "outputs": [],
   "source": [
    "# To put all the numbers on the same line you can use print (x, end= \"\")\n",
    "# If you want all the numbers to be on the same line but with space you can use print(x, end=\" \")\n",
    "# Below are some examples. \n",
    "# For nested loops inclusive means, for x in range(1, 10): so inclusive will print out every number from 1-9 excluding 10. \n",
    "# for x in  range(3): this means my code will be repeated 3 separate times. \n",
    "# Variables cannot have the same if you store a variable with the same name the computer won't know how to read it so therefore, it will override the first variable and output the second one. \n",
    "# Example ( for x in range (3)):- (for x in range (4)): = the computer will override the range (3) because i assigned variable (x) to more than one value. \n",
    "\n"
   ]
  },
  {
   "cell_type": "code",
   "execution_count": null,
   "metadata": {},
   "outputs": [],
   "source": [
    "# Conditional statements \n",
    "# a conditional statement is asking the computer \"if something is true, do this. otherwise, do something else. \n",
    "# it helps the computer choose what to do based on certain conditions (or situations) \n",
    "# if you want to check out more conditions use the command \"elif\". \n",
    "\n",
    "# if: checks id a condition is true and does something if it is \n",
    "# else: tells the computer what to do if the condition is false \n",
    "# elif: lets you check multiple conditions one after another \n"
   ]
  },
  {
   "cell_type": "code",
   "execution_count": 7,
   "metadata": {},
   "outputs": [
    {
     "name": "stdout",
     "output_type": "stream",
     "text": [
      "123456789"
     ]
    }
   ],
   "source": [
    "for x in range(1, 10):\n",
    "    print(x, end=\"\")"
   ]
  },
  {
   "cell_type": "markdown",
   "metadata": {},
   "source": [
    "## Control Flow (Conditional) Statements Assignment"
   ]
  },
  {
   "cell_type": "markdown",
   "metadata": {},
   "source": [
    "#1"
   ]
  },
  {
   "cell_type": "code",
   "execution_count": 18,
   "metadata": {},
   "outputs": [],
   "source": [
    "x = 15\n",
    "if x < 10:\n",
    "    x = 10 \n",
    "    print(\"x is less than 10\")"
   ]
  },
  {
   "cell_type": "markdown",
   "metadata": {},
   "source": [
    "#2"
   ]
  },
  {
   "cell_type": "code",
   "execution_count": 23,
   "metadata": {},
   "outputs": [
    {
     "name": "stdout",
     "output_type": "stream",
     "text": [
      "less than 10\n"
     ]
    }
   ],
   "source": [
    "x = 7\n",
    "if x < 10:\n",
    "    print(\"less than 10\")\n",
    "else: \n",
    "    print(\"greater than 10\")    "
   ]
  },
  {
   "cell_type": "markdown",
   "metadata": {},
   "source": [
    "#3"
   ]
  },
  {
   "cell_type": "code",
   "execution_count": null,
   "metadata": {},
   "outputs": [
    {
     "name": "stdout",
     "output_type": "stream",
     "text": [
      "between 10 and 20\n"
     ]
    }
   ],
   "source": [
    "x = 50\n",
    "if x < 10: \n",
    "    print(\"less than 10\")\n",
    "elif x >= 10 and x < 20: \n",
    "    print(\"between 10 and 20\")\n",
    "else: \n",
    "    print(\"greater than 10 or equal to 20\")"
   ]
  },
  {
   "cell_type": "markdown",
   "metadata": {},
   "source": [
    "#4"
   ]
  },
  {
   "cell_type": "code",
   "execution_count": 26,
   "metadata": {},
   "outputs": [
    {
     "name": "stdout",
     "output_type": "stream",
     "text": [
      "out of range\n"
     ]
    }
   ],
   "source": [
    "x = 5\n",
    "if x < 10 or x > 20:\n",
    "    print(\"out of range\")\n",
    "else: \n",
    "    print(\"in range\")    "
   ]
  },
  {
   "cell_type": "markdown",
   "metadata": {},
   "source": [
    "#5"
   ]
  },
  {
   "cell_type": "code",
   "execution_count": 32,
   "metadata": {},
   "outputs": [
    {
     "name": "stdout",
     "output_type": "stream",
     "text": [
      "score out of range\n"
     ]
    }
   ],
   "source": [
    "score = int(input(\"enter your score:\"))\n",
    "if score < 0 or score > 100: \n",
    "    print(\"score out of range\")\n",
    "elif score >=90:\n",
    "    print(\"A\")\n",
    "elif score >=80: \n",
    "    print(\"B\")\n",
    "elif score >=70:\n",
    "    print(\"C\")\n",
    "elif score >=60: \n",
    "    print(\"D\")\n",
    "else:\n",
    "    print(\"F\")"
   ]
  },
  {
   "cell_type": "markdown",
   "metadata": {},
   "source": [
    "#6"
   ]
  },
  {
   "cell_type": "code",
   "execution_count": null,
   "metadata": {},
   "outputs": [
    {
     "name": "stdout",
     "output_type": "stream",
     "text": [
      "your tax is: $835.00\n"
     ]
    }
   ],
   "source": [
    "filing_status = input(\"Enter your filing status (single, married filing jointly, married filing separately, head of household):\").lower() \n",
    "income = float(input(\"enter your income\"))\n",
    "\n",
    "if filing_status == \"single\":\n",
    "    if income <= 8350:\n",
    "        tax = income * 0.10\n",
    "    elif income <= 33950: \n",
    "        tax = 835 + (income - 8350) * 0.15\n",
    "    elif income <= 82250:\n",
    "        tax = 4937.5 + (income - 33950) * 0.25\n",
    "    elif income <= 171550:\n",
    "        tax = 17892.5 + (income - 82250) * 0.28\n",
    "    elif income <= 372950:\n",
    "        tax= 43482.5 + (income - 171550) * 0.33\n",
    "    else:\n",
    "        tax = 107629.5 + (income - 372950) * 0.35\n",
    "\n",
    "elif filing_status == \"married filing jointly\":\n",
    "    if income <= 16700:\n",
    "        tax = income * 0.10\n",
    "    elif income <= 67900:\n",
    "        tax = 1670 + (income - 16700) * 0.15\n",
    "    elif income <= 137050:\n",
    "        tax = 9670 + (income - 67900) * 0.25\n",
    "    elif income <= 208850:\n",
    "        tax = 26650 + (income - 137050) * 0.28\n",
    "    elif income <= 372950:\n",
    "        tax = 46650 + (income - 208850) * 0.33\n",
    "    else:\n",
    "        tax = 103080 + (income - 372950) * 0.35\n",
    "\n",
    "elif filing_status == \"married filing separately\":\n",
    "    if income <= 8350:\n",
    "        tax = income * 0.10\n",
    "    elif income <= 33950:\n",
    "        tax = 835 + (income - 8350) * 0.15\n",
    "    elif income <= 68525:\n",
    "        tax = 4937.5 + (income - 33950) * 0.25\n",
    "    elif income <= 104425:\n",
    "        tax = 17892.5 + (income - 68525) * 0.28\n",
    "    elif income <= 186475:\n",
    "        tax = 23325 + (income - 104425) * 0.33\n",
    "    else:\n",
    "        tax = 51540 + (income - 186475) * 0.35\n",
    "\n",
    "elif filing_status == \"head of household\":\n",
    "    if income <= 11750:     \n",
    "        tax = income * 0.10\n",
    "    elif income <= 46250:\n",
    "        tax = 1175 + (income - 11750) * 0.15\n",
    "    elif income <= 120000:\n",
    "        tax = 6342.5 + (income - 46250) * 0.25\n",
    "    elif income <= 198000:\n",
    "        tax = 26492.5 + (income - 120000) * 0.28\n",
    "    elif income <= 372950:\n",
    "        tax = 44192.5 + (income - 198000) * 0.33\n",
    "    else:\n",
    "        tax = 107629.5 + (income - 372950) * 0.35\n",
    "\n",
    "else:\n",
    "    print(\"invalid filing status.\")\n",
    "    exit()\n",
    "print(f\"your tax is: ${tax:.2f}\")\n",
    "\n",
    "\n"
   ]
  },
  {
   "cell_type": "markdown",
   "metadata": {},
   "source": [
    "# Errors & Exceptions "
   ]
  },
  {
   "cell_type": "code",
   "execution_count": null,
   "metadata": {},
   "outputs": [],
   "source": [
    "## exception = An event that interrupts the flow of a program \n",
    "# (ZeroDivisionError, TypeError, ValueError)\n",
    "# 1.try, 2.except, 3.finally\n",
    "\n",
    "#ZeroDivisionError (When you attempt to divide a number by zero.) 1 / 0 = ZeroDivisionError\n",
    "#TypeError (When you attempt to perform a operation of a value that's the wrong data type.) 1 + \"1\" = TypeError\n",
    "#ValueError (When you attempt to type cast a value of the wrong data type.)  int(\"pizza\")"
   ]
  },
  {
   "cell_type": "code",
   "execution_count": 6,
   "metadata": {},
   "outputs": [
    {
     "name": "stdout",
     "output_type": "stream",
     "text": [
      "Enter only numbers please!\n"
     ]
    }
   ],
   "source": [
    "try: \n",
    "    number = int(input(\"Enter a number:\"))\n",
    "    print(1 / number)\n",
    "except ZeroDivisionError:\n",
    "    print(\"You can't divide by zero IDIOT!\")\n",
    "except ValueError:\n",
    "    print(\"Enter only numbers please!\")"
   ]
  },
  {
   "cell_type": "code",
   "execution_count": 10,
   "metadata": {},
   "outputs": [
    {
     "name": "stdout",
     "output_type": "stream",
     "text": [
      "Something went wrong!\n",
      "Do some cleanup here!\n"
     ]
    }
   ],
   "source": [
    "try: \n",
    "    number = int(input(\"Enter a number:\"))\n",
    "    print(1 / number)\n",
    "except Exception:\n",
    "    print(\"Something went wrong!\")\n",
    "finally: \n",
    "    print(\"Do some cleanup here!\")"
   ]
  },
  {
   "cell_type": "code",
   "execution_count": null,
   "metadata": {},
   "outputs": [],
   "source": [
    "# Explicit Type Casting (Type Conversion)- Manually convert data type to another using built-in functions like (int(), float(), str(), etc.)\n",
    "# x = 10.5 \n",
    "# y= int(x)\n",
    "# print(y) #output: 10\n",
    "\n",
    "#z = 15\n",
    "#w = float(z)#convert int to float \n",
    "#print(w) #output: 15.0  \n",
    "\n",
    "#a = 100 \n",
    "#b = str(a) #convert int to string\n",
    "#print(b) #output: \"100\" \n",
    "\n",
    "\n",
    "\n",
    "# Implicit Data Type (Coercion)- THIS is done automatically by python when you assign a value of one data type to a variable of another data type. \n",
    "# Python will automatically convert the data type if the conversion is safe. \n",
    "# (x = 5( #int), y= 3.5(#float)) \n",
    "# result = x + y.\n",
    "# print(result) \n",
    "# #output: 8.5"
   ]
  },
  {
   "cell_type": "markdown",
   "metadata": {},
   "source": [
    "# POP QUIZ"
   ]
  },
  {
   "cell_type": "markdown",
   "metadata": {},
   "source": [
    "### Write a FOR loop to find letters IN the word \"Tampa\" and PRINT them to the screen\n",
    "\n"
   ]
  },
  {
   "cell_type": "code",
   "execution_count": 12,
   "metadata": {},
   "outputs": [
    {
     "name": "stdout",
     "output_type": "stream",
     "text": [
      "t\n",
      "a\n",
      "m\n",
      "p\n",
      "a\n"
     ]
    }
   ],
   "source": [
    "for letter in \"tampa\": \n",
    "    print(letter)"
   ]
  },
  {
   "cell_type": "markdown",
   "metadata": {},
   "source": [
    "### Write a FOR loop to find letters IN the word \"Tampa\", but add a condition to only PRINT the vowels IN the word \"Tampa\"\n",
    "\n",
    "\n",
    "\n",
    "\n",
    "\n"
   ]
  },
  {
   "cell_type": "code",
   "execution_count": null,
   "metadata": {},
   "outputs": [
    {
     "name": "stdout",
     "output_type": "stream",
     "text": [
      "a\n",
      "a\n"
     ]
    }
   ],
   "source": [
    "for letter in \"tampa\": \n",
    "     \n",
    "   \n",
    "    if letter in ('aeiou'): \n",
    "     print(letter) \n",
    "\n",
    "     \n"
   ]
  },
  {
   "cell_type": "markdown",
   "metadata": {},
   "source": [
    "### [BONUS] Write a FOR loop to find letters IN the word \"Tampa\", but add a condition to only PRINT the vowels IN the word \"Tampa\" AND save the Output to a variable \"x\".\n"
   ]
  }
 ],
 "metadata": {
  "kernelspec": {
   "display_name": "base",
   "language": "python",
   "name": "python3"
  },
  "language_info": {
   "codemirror_mode": {
    "name": "ipython",
    "version": 3
   },
   "file_extension": ".py",
   "mimetype": "text/x-python",
   "name": "python",
   "nbconvert_exporter": "python",
   "pygments_lexer": "ipython3",
   "version": "3.12.7"
  }
 },
 "nbformat": 4,
 "nbformat_minor": 2
}
