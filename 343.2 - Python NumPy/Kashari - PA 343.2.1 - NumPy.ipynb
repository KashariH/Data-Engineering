{
 "cells": [
  {
   "cell_type": "markdown",
   "id": "c920844a",
   "metadata": {},
   "source": [
    "# `343.2.1 NumPy Practice Assignment`"
   ]
  },
  {
   "cell_type": "markdown",
   "id": "20d76242",
   "metadata": {},
   "source": [
    "#### Task 1: Create a NumPy array using np.array() and specify the data type as 'int32'. Print the array and its data type. "
   ]
  },
  {
   "cell_type": "markdown",
   "id": "b6ebdde7",
   "metadata": {},
   "source": [
    "#### Create another NumPy array using np.array() with the data type as 'float64'. Print the array and its data type. "
   ]
  },
  {
   "cell_type": "code",
   "execution_count": 6,
   "id": "c37c76e7",
   "metadata": {},
   "outputs": [
    {
     "name": "stdout",
     "output_type": "stream",
     "text": [
      "[[33 55  4  7]\n",
      " [55 66  6  5]]\n",
      "<class 'numpy.int32'>\n"
     ]
    }
   ],
   "source": [
    "import numpy as np \n",
    "cat = np.array([[33, 55, 4, 7], [55, 66, 6, 5]])\n",
    "dtype = np.int32\n",
    "print(cat)\n",
    "print(dtype) \n",
    "\n",
    "\n"
   ]
  },
  {
   "cell_type": "code",
   "execution_count": 7,
   "id": "491e5173",
   "metadata": {},
   "outputs": [
    {
     "name": "stdout",
     "output_type": "stream",
     "text": [
      "[[70  8  9 10]\n",
      " [12 90  0  4]]\n",
      "<class 'numpy.float64'>\n"
     ]
    }
   ],
   "source": [
    "import numpy as np \n",
    "fish = np.array([[70, 8, 9, 10], [12, 90, 0, 4]]) \n",
    "dtype = np.float64 \n",
    "print(fish) \n",
    "print(dtype) "
   ]
  },
  {
   "cell_type": "markdown",
   "id": "7fe6dd31",
   "metadata": {},
   "source": [
    "#### `Task 2`: Create one-dimensional Numpy array containing the integers from 1 to 5. Print the array. "
   ]
  },
  {
   "cell_type": "markdown",
   "id": "5cc3e0d7",
   "metadata": {},
   "source": [
    "#### Create a two-dimensional NumPy array (matrix) with the following values"
   ]
  },
  {
   "cell_type": "code",
   "execution_count": null,
   "id": "95b2e966",
   "metadata": {},
   "outputs": [
    {
     "name": "stdout",
     "output_type": "stream",
     "text": [
      "[1, 2, 3, 4, 5]\n",
      "([1, 2, 3, 4, 5], [1, 2, 3, 4, 5])\n"
     ]
    }
   ],
   "source": [
    "import numpy as np \n",
    "arr = ([1, 2, 3, 4, 5]) # Created a numpy array containing the integers from 1 to 5\n",
    "\n",
    "print(arr)  \n",
    "\n",
    "boy = ([1, 2, 3, 4, 5], [1, 2, 3, 4, 5]) # Created a two-dimensional NumPy array (matrix) with the following values\n",
    "\n",
    "print(boy) "
   ]
  },
  {
   "cell_type": "markdown",
   "id": "8c5210bb",
   "metadata": {},
   "source": [
    "#### Task 3: Create two NumPy arrays arr1 and arr2 with any values of your choice. Perform element-wise addition, subtraction, multiplication, and division, between these arrays and print the results"
   ]
  },
  {
   "cell_type": "markdown",
   "id": "4da2d132",
   "metadata": {},
   "source": [
    "#### Calculate the dot product between arr1 and arr2. Print the result. Use NumPy to calculate the mean, median, and standard deviation of arr1."
   ]
  },
  {
   "cell_type": "code",
   "execution_count": null,
   "id": "15fcda31",
   "metadata": {},
   "outputs": [
    {
     "name": "stdout",
     "output_type": "stream",
     "text": [
      "[[    9    99   999  9999 99999]\n",
      " [    7    77   777  7777 77777]]\n",
      "[[     7     77    777   7777  77777]\n",
      " [    -3    -33   -333  -3333 -33333]]\n",
      "[[         8        968      98568    9874568  987634568]\n",
      " [        10       1210     123210   12343210 1234543210]]\n",
      "[[8.  8.  8.  8.  8. ]\n",
      " [0.4 0.4 0.4 0.4 0.4]]\n"
     ]
    }
   ],
   "source": [
    "import numpy as np  \n",
    "arr1 = np.array([[8, 88, 888, 8888, 88888], [2, 22, 222, 2222, 22222]]) # Created two NumPy arrays \n",
    "arr2 = np.array([[1, 11, 111, 1111, 11111], [5, 55, 555, 5555, 55555]]) \n",
    "\n",
    "a = arr1 + arr2  # Performed element-wise addition  of the two arrays \n",
    "print(a) \n",
    "\n",
    "b = arr1 - arr2  # Performed subtraction of the two arrays \n",
    "print(b) \n",
    "\n",
    "c = arr1 * arr2  # Performed multiplication of the two arrays \n",
    "print(c) \n",
    "\n",
    "d = arr1 / arr2  # Performed division of the two arrays\n",
    "print(d) \n"
   ]
  },
  {
   "cell_type": "code",
   "execution_count": null,
   "id": "873cf3f4",
   "metadata": {},
   "outputs": [
    {
     "name": "stdout",
     "output_type": "stream",
     "text": [
      "[[ 997608680 4958416792]\n",
      " [ 619802099 3091603843]]\n"
     ]
    }
   ],
   "source": [
    "import numpy as np  \n",
    "arr12 = np.array([[8, 88, 888, 8888, 88888], [5, 22, 555, 2222, 55555]])  \n",
    "arr22 = np.array([[1, 11, 111, 1111, 11111], [5, 22, 555, 2222, 55555]]) \n",
    "\n",
    "m = np.dot(arr12, arr22.T) # Calculated the dot product between arr1 and arr2 \n",
    "print(m) # Printed the result "
   ]
  },
  {
   "cell_type": "code",
   "execution_count": 35,
   "id": "a8d15294",
   "metadata": {},
   "outputs": [
    {
     "name": "stdout",
     "output_type": "stream",
     "text": [
      "Mean: 12345.0\n",
      "Median: 555.0\n",
      "Standard Deviation: 26373.62987910462\n"
     ]
    }
   ],
   "source": [
    "import numpy as np \n",
    "arr1 = np.array([[8, 88, 888, 8888, 88888], [2, 22, 222, 2222, 22222]]) \n",
    "\n",
    "flat_arr1 = arr1.flatten() #Flatten the array to a 1D list of numbers \n",
    "\n",
    "mean = np.mean(flat_arr1)  \n",
    "median = np.median(flat_arr1) \n",
    "std_dev = np.std(flat_arr1) \n",
    "\n",
    "print(\"Mean:\", mean) \n",
    "print(\"Median:\", median) \n",
    "print(\"Standard Deviation:\", std_dev) "
   ]
  }
 ],
 "metadata": {
  "kernelspec": {
   "display_name": "Python 3",
   "language": "python",
   "name": "python3"
  },
  "language_info": {
   "codemirror_mode": {
    "name": "ipython",
    "version": 3
   },
   "file_extension": ".py",
   "mimetype": "text/x-python",
   "name": "python",
   "nbconvert_exporter": "python",
   "pygments_lexer": "ipython3",
   "version": "3.12.0"
  }
 },
 "nbformat": 4,
 "nbformat_minor": 5
}
