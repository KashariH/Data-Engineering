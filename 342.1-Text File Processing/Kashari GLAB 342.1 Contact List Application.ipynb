{
 "cells": [
  {
   "cell_type": "markdown",
   "id": "0bec943c",
   "metadata": {},
   "source": [
    "# `Guided Lab 342.1 - Contact List Application Data Saved In File`"
   ]
  },
  {
   "cell_type": "code",
   "execution_count": 8,
   "id": "9af87d0e",
   "metadata": {},
   "outputs": [],
   "source": [
    "# Contact List Application \n",
    "\n",
    "def add_contact(): \n",
    "    name = input(\"Enter the contact's name:\") \n",
    "    phone = input(\"Enter the contact's phone number:\") \n",
    "# Write the contact to the file \n",
    "# Do not forget to add a file path \n",
    "    with open(\"contacts.txt\", \"a\") as file: \n",
    "        file.write(f\"{name}: {phone}\\n\") \n",
    "    print(f\"{name}) has been added to your contacts!\") \n",
    "\n",
    "    def view_contacts(): \n",
    "        try: \n",
    "            # Read the contacts from the file \n",
    "            # Do not forget to add a file path \n",
    "            with open(\"contacts.txt\", \"r\") as file: \n",
    "            # Here we are reading the file line by line \n",
    "                if not contacts: \n",
    "                    print(\"Your contact list is empty.\") \n",
    "                else: \n",
    "                     print(\"Your Contact List:\") \n",
    "                for contact in contacts: \n",
    "            # Here we are removing the new line character \n",
    "            # and printing the contact \n",
    "                    print(contact, end='') \n",
    "        except FileNotFoundError: \n",
    "                print(\"Your contact list is empty.\") \n",
    "\n",
    "def main(): \n",
    "    while True: \n",
    "        print(\"\\nContact List Application\") \n",
    "        print(\"1. Add Contact\") \n",
    "        print(\"2. View Contacts\") \n",
    "        print(\"3. Quit\") \n",
    "        choice = input(\"Enter your choice:\") \n",
    "\n",
    "        if choice == \"1\":\n",
    "            add_contact() \n",
    "        elif choice == \"2\": \n",
    "            view_contacts() \n",
    "        elif choice == \"3\": \n",
    "            print(\"Goodbye!\") \n",
    "            break \n",
    "        else: \n",
    "            print(\"Invalid choice. Please try again.\") \n",
    "            # Call the main function \n",
    "            if__name__ == \"__main__\" \n",
    "            main()\n",
    "\n"
   ]
  }
 ],
 "metadata": {
  "kernelspec": {
   "display_name": "Python 3",
   "language": "python",
   "name": "python3"
  },
  "language_info": {
   "codemirror_mode": {
    "name": "ipython",
    "version": 3
   },
   "file_extension": ".py",
   "mimetype": "text/x-python",
   "name": "python",
   "nbconvert_exporter": "python",
   "pygments_lexer": "ipython3",
   "version": "3.13.2"
  }
 },
 "nbformat": 4,
 "nbformat_minor": 5
}
