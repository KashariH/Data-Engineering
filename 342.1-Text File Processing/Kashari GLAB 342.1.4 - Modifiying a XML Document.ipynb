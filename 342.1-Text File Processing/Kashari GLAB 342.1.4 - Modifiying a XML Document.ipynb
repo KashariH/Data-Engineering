{
 "cells": [
  {
   "cell_type": "markdown",
   "id": "ba7c40de",
   "metadata": {},
   "source": [
    "# `Guided Lab 342.1.4 - Modifying a XML Document`"
   ]
  },
  {
   "cell_type": "code",
   "execution_count": 1,
   "id": "d97e56e4",
   "metadata": {},
   "outputs": [
    {
     "name": "stdout",
     "output_type": "stream",
     "text": [
      "{'favorite': 'True', 'title': 'Indiana Jones: The raiders of the lost Ark'}\n",
      "{'favorite': 'True', 'title': 'THE KARATE KID'}\n",
      "{'favorite': 'False', 'title': 'Back 2 the Future'}\n",
      "{'favorite': 'False', 'title': 'X-Men'}\n",
      "{'favorite': 'True', 'title': 'Batman Returns'}\n",
      "{'favorite': 'False', 'title': 'Reservoir Dogs'}\n",
      "{'favorite': 'False', 'title': 'ALIEN'}\n",
      "{'favorite': 'True', 'title': \"Ferris Bueller's Day Off\"}\n",
      "{'favorite': 'FALSE', 'title': 'American Psycho'}\n"
     ]
    }
   ],
   "source": [
    "\n",
    "import xml.etree.ElementTree as ET\n",
    "\n",
    "# Parse XML file\n",
    "xml_tree = ET.parse('movie.xml')\n",
    "\n",
    "# Get root element\n",
    "xml_root = xml_tree.getroot()\n",
    "\n",
    "for movie in xml_root.iter('movie'):\n",
    "    print(movie.attrib)"
   ]
  },
  {
   "cell_type": "markdown",
   "id": "58a7abde",
   "metadata": {},
   "source": [
    "### Lets fix the '2' in Back 2 the Future. That should be a find nd replace problem. "
   ]
  },
  {
   "cell_type": "code",
   "execution_count": 7,
   "id": "eaf22a84",
   "metadata": {},
   "outputs": [
    {
     "name": "stdout",
     "output_type": "stream",
     "text": [
      "-----------Before------\n",
      "{'favorite': 'False', 'title': 'Back 2 the Future'}\n",
      "-----------After------\n"
     ]
    },
    {
     "ename": "NameError",
     "evalue": "name 'b2tf' is not defined",
     "output_type": "error",
     "traceback": [
      "\u001b[31m---------------------------------------------------------------------------\u001b[39m",
      "\u001b[31mNameError\u001b[39m                                 Traceback (most recent call last)",
      "\u001b[36mCell\u001b[39m\u001b[36m \u001b[39m\u001b[32mIn[7]\u001b[39m\u001b[32m, line 7\u001b[39m\n\u001b[32m      4\u001b[39m    \u001b[38;5;28mprint\u001b[39m(movie.attrib)\n\u001b[32m      6\u001b[39m \u001b[38;5;28mprint\u001b[39m(\u001b[33m\"\u001b[39m\u001b[33m-----------After------\u001b[39m\u001b[33m\"\u001b[39m)\n\u001b[32m----> \u001b[39m\u001b[32m7\u001b[39m \u001b[43mb2tf\u001b[49m.attrib[\u001b[33m\"\u001b[39m\u001b[33mtitle\u001b[39m\u001b[33m\"\u001b[39m] = \u001b[33m\"\u001b[39m\u001b[33mBack to the Future\u001b[39m\u001b[33m\"\u001b[39m\n\u001b[32m      8\u001b[39m \u001b[38;5;28mprint\u001b[39m(b2tf.attrib)\n",
      "\u001b[31mNameError\u001b[39m: name 'b2tf' is not defined"
     ]
    }
   ],
   "source": [
    "#b2tf = xml_root.find(\"./genre/decade/movie[@title='Back 2 the Future']\")\n",
    "print(\"-----------Before------\")\n",
    "for movie in xml_root.findall(\"./genre/decade/movie[@title='Back 2 the Future']\"):\n",
    "   print(movie.attrib)\n",
    "\n",
    "print(\"-----------After------\")\n",
    "b2tf.attrib[\"title\"] = \"Back to the Future\"\n",
    "print(b2tf.attrib)"
   ]
  },
  {
   "cell_type": "code",
   "execution_count": 8,
   "id": "7665a1c2",
   "metadata": {},
   "outputs": [],
   "source": [
    "import xml.etree.ElementTree as ET\n",
    "tree = ET.parse(\"movie.xml\")\n",
    "root = tree.getroot()\n",
    "element = root.find(\"./genre/decade/movie[@title='Back 2 the Future']\")\n",
    "element.attrib[\"title\"] = \"Back to the Future\"\n",
    "tree.write(\"movie_new.xml\")\n"
   ]
  },
  {
   "cell_type": "code",
   "execution_count": 9,
   "id": "6d05edf5",
   "metadata": {},
   "outputs": [
    {
     "name": "stdout",
     "output_type": "stream",
     "text": [
      "{'favorite': 'True', 'title': 'Indiana Jones: The raiders of the lost Ark'}\n",
      "{'favorite': 'True', 'title': 'THE KARATE KID'}\n",
      "{'favorite': 'False', 'title': 'Back to the Future'}\n",
      "{'favorite': 'False', 'title': 'X-Men'}\n",
      "{'favorite': 'True', 'title': 'Batman Returns'}\n",
      "{'favorite': 'False', 'title': 'Reservoir Dogs'}\n",
      "{'favorite': 'False', 'title': 'ALIEN'}\n",
      "{'favorite': 'True', 'title': \"Ferris Bueller's Day Off\"}\n",
      "{'favorite': 'FALSE', 'title': 'American Psycho'}\n"
     ]
    }
   ],
   "source": [
    "import xml.etree.ElementTree as ET\n",
    "\n",
    "# Parse XML file\n",
    "xml_tree = ET.parse('movie_new.xml')\n",
    "\n",
    "# Get root element\n",
    "xml_root = xml_tree.getroot()\n",
    "\n",
    "for movie in xml_root.iter('movie'):\n",
    "    print(movie.attrib)"
   ]
  }
 ],
 "metadata": {
  "kernelspec": {
   "display_name": "Python 3",
   "language": "python",
   "name": "python3"
  },
  "language_info": {
   "codemirror_mode": {
    "name": "ipython",
    "version": 3
   },
   "file_extension": ".py",
   "mimetype": "text/x-python",
   "name": "python",
   "nbconvert_exporter": "python",
   "pygments_lexer": "ipython3",
   "version": "3.13.2"
  }
 },
 "nbformat": 4,
 "nbformat_minor": 5
}
