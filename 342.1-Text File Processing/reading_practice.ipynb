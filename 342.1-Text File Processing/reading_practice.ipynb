{
 "cells": [
  {
   "cell_type": "code",
   "execution_count": 6,
   "id": "5335e13f",
   "metadata": {},
   "outputs": [
    {
     "name": "stdout",
     "output_type": "stream",
     "text": [
      "How Python Handles Files?\n",
      "\n",
      "\n",
      "If you are working in a large software application where they process a large amount\n",
      "\n",
      "\n",
      "of data, then we cannot expect that data to be stored in a variable as the variables are\n",
      "\n",
      "\n",
      "volatile in nature.\n",
      "\n",
      "\n",
      "\n",
      "\n",
      "\n",
      "Hence when you are about to handle such situations, the role of files will come into\n",
      "\n",
      "\n",
      "the picture.\n",
      "\n",
      "\n",
      "\n",
      "\n",
      "\n",
      "As files are non-volatile in nature, the data will be stored permanently in a secondary\n",
      "\n",
      "\n",
      "device like Hard Disk and using python we will handle these files in our applications.\n",
      "\n",
      "\n",
      "\n",
      "\n",
      "\n",
      "Are you thinking about how python will handle files?\n",
      "\n",
      "\n",
      "\n",
      "\n",
      "\n",
      "Let’s take an Example of how normal people will handle the files. If we want to read\n",
      "\n",
      "\n",
      "the data from a file or write the data into a file, then, first of all, we will open the file\n",
      "\n",
      "\n",
      "or will create a new file if the file does not exist and then perform the normal\n",
      "\n",
      "\n",
      "read/write operations, save the file and close it.\n",
      "\n",
      "\n",
      "\n",
      "\n",
      "\n",
      "Similarly, we do the same operations in python using some in-built methods or\n",
      "\n",
      "\n",
      "functions.\n",
      "\n"
     ]
    }
   ],
   "source": [
    "with open('my_file.txt', mode = 'r+') as file: \n",
    "    for line in file.readlines(): \n",
    "        print (line)   \n",
    "        print(file.read(6)) "
   ]
  },
  {
   "cell_type": "code",
   "execution_count": null,
   "id": "980b235a",
   "metadata": {},
   "outputs": [
    {
     "name": "stdout",
     "output_type": "stream",
     "text": [
      "0\n",
      "45\n",
      " in a large software application where they process a large amount\n",
      "of data, then we cannot expect that data to be stored in a variable as the variables are\n",
      "volatile in nature.\n",
      "\n",
      "Hence when you are about to handle such situations, the role of files will come into\n",
      "the picture.\n",
      "\n",
      "As files are non-volatile in nature, the data will be stored permanently in a secondary\n",
      "device like Hard Disk and using python we will handle these files in our applications.\n",
      "\n",
      "Are you thinking about how python will handle files?\n",
      "\n",
      "Let’s take an Example of how normal people will handle the files. If we want to read\n",
      "the data from a file or write the data into a file, then, first of all, we will open the file\n",
      "or will create a new file if the file does not exist and then perform the normal\n",
      "read/write operations, save the file and close it.\n",
      "\n",
      "Similarly, we do the same operations in python using some in-built methods or\n",
      "functions.\n"
     ]
    }
   ],
   "source": [
    "with open('my_file.txt', mode = 'r+') as file:\n",
    "    print(file.tell()) # prints '3' \n",
    "    file.seek(45)     # Moves the cursor from 3 to 45 \n",
    "    print(file.tell()) #prints '45' \n",
    "    print(file.read()) #prints 'This is currently the last line/n' "
   ]
  },
  {
   "cell_type": "code",
   "execution_count": null,
   "id": "178d9841",
   "metadata": {},
   "outputs": [],
   "source": []
  }
 ],
 "metadata": {
  "kernelspec": {
   "display_name": "Python 3",
   "language": "python",
   "name": "python3"
  },
  "language_info": {
   "codemirror_mode": {
    "name": "ipython",
    "version": 3
   },
   "file_extension": ".py",
   "mimetype": "text/x-python",
   "name": "python",
   "nbconvert_exporter": "python",
   "pygments_lexer": "ipython3",
   "version": "3.13.2"
  }
 },
 "nbformat": 4,
 "nbformat_minor": 5
}
