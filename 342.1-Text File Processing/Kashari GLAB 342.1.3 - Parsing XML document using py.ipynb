{
 "cells": [
  {
   "cell_type": "markdown",
   "id": "98589938",
   "metadata": {},
   "source": [
    "# `Guided Lab 342.1.3 - Parsing XML document using python` "
   ]
  },
  {
   "cell_type": "markdown",
   "id": "4d85f977",
   "metadata": {},
   "source": [
    "### The xml.etree.ElementTree module provides a simple and effective way to parse and create XML data. We can get the list of attributes and their values in the root tag. Once we find the attributes, it helps us navigate the XML tree easily. "
   ]
  },
  {
   "cell_type": "markdown",
   "id": "29fe35d8",
   "metadata": {},
   "source": [
    "### The getroot() method returns the root element of 'my_document.xml'. We can also filter the results out of the xml tree by using the findall() function of this module. "
   ]
  },
  {
   "cell_type": "code",
   "execution_count": 5,
   "id": "85b433c1",
   "metadata": {},
   "outputs": [
    {
     "name": "stdout",
     "output_type": "stream",
     "text": [
      "collection\n",
      "[]\n"
     ]
    }
   ],
   "source": [
    "import xml.etree.ElementTree as ET\n",
    "\n",
    "# Parse XML file\n",
    "xml_tree = ET.parse('movie.xml')\n",
    "\n",
    "# Get root element\n",
    "xml_root = xml_tree.getroot()\n",
    "\n",
    "# Print root element tag name\n",
    "print(xml_root.tag)\n",
    "\n",
    "# Get the child elements of the root element\n",
    "child = xml_root.findall(\"movie\")\n",
    "print(child)\n",
    "\n"
   ]
  },
  {
   "cell_type": "markdown",
   "id": "bca25d30",
   "metadata": {},
   "source": [
    "### (root.tag) will return the tag name of the XML element represented by the root variable, as shown in the below code example. (root.attrib) is used to access the attributes of an XML element, as shown in the below code example."
   ]
  },
  {
   "cell_type": "code",
   "execution_count": 3,
   "id": "8ec3faa7",
   "metadata": {},
   "outputs": [
    {
     "name": "stdout",
     "output_type": "stream",
     "text": [
      "Kashari Loves FOOD. She is a Foodie!:\n",
      "genre {'category': 'Action'}\n",
      "genre {'category': 'Thriller'}\n"
     ]
    }
   ],
   "source": [
    "print('Kashari Loves FOOD. She is a Foodie!:')\n",
    "for food in xml_root:\n",
    "      print(food.tag, food.attrib)"
   ]
  },
  {
   "cell_type": "code",
   "execution_count": 6,
   "id": "429f4f49",
   "metadata": {},
   "outputs": [
    {
     "name": "stdout",
     "output_type": "stream",
     "text": [
      "<?xml version='1.0' encoding='utf8'?>\n",
      "<collection>\n",
      "    <genre category=\"Action\">\n",
      "        <decade years=\"1980s\">\n",
      "            <movie favorite=\"True\" title=\"Indiana Jones: The raiders of the lost Ark\">\n",
      "                <format multiple=\"No\">DVD</format>\n",
      "                <year>1981</year>\n",
      "                <rating>PG</rating>\n",
      "                <description>\n",
      "                'Archaeologist and adventurer Indiana Jones \n",
      "                is hired by the U.S. government to find the Ark of the \n",
      "                Covenant before the Nazis.'\n",
      "                </description>\n",
      "            </movie>\n",
      "            <movie favorite=\"True\" title=\"THE KARATE KID\">\n",
      "                <format multiple=\"Yes\">DVD,Online</format>\n",
      "                <year>1984</year>\n",
      "                <rating>PG</rating>\n",
      "                <description>None provided.</description>\n",
      "            </movie>\n",
      "            <movie favorite=\"False\" title=\"Back 2 the Future\">\n",
      "                <format multiple=\"False\">Blu-ray</format>\n",
      "                <year>1985</year>\n",
      "                <rating>PG</rating>\n",
      "                <description>Marty McFly</description>\n",
      "            </movie>\n",
      "        </decade>\n",
      "        <decade years=\"1990s\">\n",
      "            <movie favorite=\"False\" title=\"X-Men\">\n",
      "                <format multiple=\"Yes\">dvd, digital</format>\n",
      "                <year>2000</year>\n",
      "                <rating>PG-13</rating>\n",
      "                <description>Two mutants come to a private academy for their kind whose resident superhero team must oppose a terrorist organization with similar powers.</description>\n",
      "            </movie>\n",
      "            <movie favorite=\"True\" title=\"Batman Returns\">\n",
      "                <format multiple=\"No\">VHS</format>\n",
      "                <year>1992</year>\n",
      "                <rating>PG13</rating>\n",
      "                <description>NA.</description>\n",
      "            </movie>\n",
      "            <movie favorite=\"False\" title=\"Reservoir Dogs\">\n",
      "                <format multiple=\"No\">Online</format>\n",
      "                <year>1992</year>\n",
      "                <rating>R</rating>\n",
      "                <description>WhAtEvER I Want!!!?!</description>\n",
      "            </movie>\n",
      "        </decade>\n",
      "    </genre>\n",
      "    <genre category=\"Thriller\">\n",
      "        <decade years=\"1970s\">\n",
      "            <movie favorite=\"False\" title=\"ALIEN\">\n",
      "                <format multiple=\"Yes\">DVD</format>\n",
      "                <year>1979</year>\n",
      "                <rating>R</rating>\n",
      "                <description>fhfdh</description>\n",
      "            </movie>\n",
      "        </decade>\n",
      "        <decade years=\"1980s\">\n",
      "            <movie favorite=\"True\" title=\"Ferris Bueller's Day Off\">\n",
      "                <format multiple=\"No\">DVD</format>\n",
      "                <year>1986</year>\n",
      "                <rating>PG13</rating>\n",
      "                <description>Funny movie about a funny guy</description>\n",
      "            </movie>\n",
      "            <movie favorite=\"FALSE\" title=\"American Psycho\">\n",
      "                <format multiple=\"No\">blue-ray</format>\n",
      "                <year>2000</year>\n",
      "                <rating>Unrated</rating>\n",
      "                <description>psychopathic Bateman</description>\n",
      "            </movie>\n",
      "        </decade>\n",
      "    </genre>\n",
      "</collection>\n"
     ]
    }
   ],
   "source": [
    "print(ET.tostring(xml_root, encoding='utf8').decode('utf8'))"
   ]
  },
  {
   "cell_type": "code",
   "execution_count": 7,
   "id": "ec8bca09",
   "metadata": {},
   "outputs": [
    {
     "name": "stdout",
     "output_type": "stream",
     "text": [
      "{'favorite': 'True', 'title': 'Indiana Jones: The raiders of the lost Ark'}\n",
      "{'favorite': 'True', 'title': 'THE KARATE KID'}\n",
      "{'favorite': 'False', 'title': 'Back 2 the Future'}\n",
      "{'favorite': 'False', 'title': 'X-Men'}\n",
      "{'favorite': 'True', 'title': 'Batman Returns'}\n",
      "{'favorite': 'False', 'title': 'Reservoir Dogs'}\n",
      "{'favorite': 'False', 'title': 'ALIEN'}\n",
      "{'favorite': 'True', 'title': \"Ferris Bueller's Day Off\"}\n",
      "{'favorite': 'FALSE', 'title': 'American Psycho'}\n"
     ]
    }
   ],
   "source": [
    "for movie in xml_root.iter('movie'):\n",
    "  print(movie.attrib)\n"
   ]
  },
  {
   "cell_type": "code",
   "execution_count": 8,
   "id": "fd23fe85",
   "metadata": {},
   "outputs": [
    {
     "name": "stdout",
     "output_type": "stream",
     "text": [
      "\n",
      "                'Archaeologist and adventurer Indiana Jones \n",
      "                is hired by the U.S. government to find the Ark of the \n",
      "                Covenant before the Nazis.'\n",
      "                \n",
      "None provided.\n",
      "Marty McFly\n",
      "Two mutants come to a private academy for their kind whose resident superhero team must oppose a terrorist organization with similar powers.\n",
      "NA.\n",
      "WhAtEvER I Want!!!?!\n",
      "fhfdh\n",
      "Funny movie about a funny guy\n",
      "psychopathic Bateman\n"
     ]
    }
   ],
   "source": [
    "for description in xml_root.iter('description'):\n",
    "    print(description.text)"
   ]
  },
  {
   "cell_type": "code",
   "execution_count": 9,
   "id": "e74f6b50",
   "metadata": {},
   "outputs": [
    {
     "name": "stdout",
     "output_type": "stream",
     "text": [
      "{'favorite': 'True', 'title': 'Batman Returns'}\n",
      "{'favorite': 'False', 'title': 'Reservoir Dogs'}\n"
     ]
    }
   ],
   "source": [
    "for movie in xml_root.findall(\"./genre/decade/movie/[year='1992']\"):\n",
    "    print(movie.attrib)"
   ]
  },
  {
   "cell_type": "code",
   "execution_count": 10,
   "id": "1d013302",
   "metadata": {},
   "outputs": [
    {
     "name": "stdout",
     "output_type": "stream",
     "text": [
      "{'multiple': 'Yes'}\n",
      "{'multiple': 'Yes'}\n",
      "{'multiple': 'Yes'}\n"
     ]
    }
   ],
   "source": [
    "for movie in xml_root.findall(\"./genre/decade/movie/format/[@multiple='Yes']\"):\n",
    "    print(movie.attrib)"
   ]
  },
  {
   "cell_type": "code",
   "execution_count": 11,
   "id": "1c185f90",
   "metadata": {},
   "outputs": [
    {
     "name": "stdout",
     "output_type": "stream",
     "text": [
      "{'favorite': 'True', 'title': 'THE KARATE KID'}\n",
      "{'favorite': 'False', 'title': 'X-Men'}\n",
      "{'favorite': 'False', 'title': 'ALIEN'}\n"
     ]
    }
   ],
   "source": [
    "for movie in xml_root.findall(\"./genre/decade/movie/format[@multiple='Yes']...\"):\n",
    "    print(movie.attrib)\n"
   ]
  }
 ],
 "metadata": {
  "kernelspec": {
   "display_name": "Python 3",
   "language": "python",
   "name": "python3"
  },
  "language_info": {
   "codemirror_mode": {
    "name": "ipython",
    "version": 3
   },
   "file_extension": ".py",
   "mimetype": "text/x-python",
   "name": "python",
   "nbconvert_exporter": "python",
   "pygments_lexer": "ipython3",
   "version": "3.13.2"
  }
 },
 "nbformat": 4,
 "nbformat_minor": 5
}
