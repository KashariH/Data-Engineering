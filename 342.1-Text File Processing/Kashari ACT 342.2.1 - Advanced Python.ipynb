{
 "cells": [
  {
   "cell_type": "markdown",
   "id": "c267d759",
   "metadata": {},
   "source": [
    "# `ACT 342.2.1 - Advanced Python Lab`"
   ]
  },
  {
   "cell_type": "markdown",
   "id": "5a5f3bf5",
   "metadata": {},
   "source": [
    "###  Importing libraries like requests and json to handle API requests and JSON data. Looping to iterate through paginated API responses and extract data from nested lists and dictionaries. Make requests to the Star Wars API endpoint and handle the responses. Define functions to perform specific tasks, enhancing code reusability and modularity. Work with JSON data extracted from API responses, accessing and utilizing character attributes. Implement error handling to manage potential API request or data processing issues. "
   ]
  },
  {
   "cell_type": "markdown",
   "id": "8dbbd302",
   "metadata": {},
   "source": [
    "### Task 1: Import all of the required packages to complete this assignment."
   ]
  },
  {
   "cell_type": "code",
   "execution_count": 2,
   "id": "d8c95f3b",
   "metadata": {},
   "outputs": [],
   "source": [
    "import requests\n",
    "import math\n",
    "import json"
   ]
  },
  {
   "cell_type": "markdown",
   "id": "d443387d",
   "metadata": {},
   "source": [
    "### Task 2: END POINT: https://www.swapi.tech/api/starships Make your request to the API Endpoint and use a FOR LOOP if necessary to access multiple pages. Save all of the responses in one Python Object. Collect all results into one Python object (such as a list or dictionary)"
   ]
  },
  {
   "cell_type": "code",
   "execution_count": null,
   "id": "3f49c355",
   "metadata": {},
   "outputs": [
    {
     "name": "stdout",
     "output_type": "stream",
     "text": [
      "{'message': 'ok', 'total_records': 36, 'total_pages': 4, 'previous': None, 'next': 'https://www.swapi.tech/api/starships?page=2&limit=10', 'results': [{'uid': '2', 'name': 'CR90 corvette', 'url': 'https://www.swapi.tech/api/starships/2'}, {'uid': '3', 'name': 'Star Destroyer', 'url': 'https://www.swapi.tech/api/starships/3'}, {'uid': '5', 'name': 'Sentinel-class landing craft', 'url': 'https://www.swapi.tech/api/starships/5'}, {'uid': '9', 'name': 'Death Star', 'url': 'https://www.swapi.tech/api/starships/9'}, {'uid': '11', 'name': 'Y-wing', 'url': 'https://www.swapi.tech/api/starships/11'}, {'uid': '10', 'name': 'Millennium Falcon', 'url': 'https://www.swapi.tech/api/starships/10'}, {'uid': '13', 'name': 'TIE Advanced x1', 'url': 'https://www.swapi.tech/api/starships/13'}, {'uid': '15', 'name': 'Executor', 'url': 'https://www.swapi.tech/api/starships/15'}, {'uid': '12', 'name': 'X-wing', 'url': 'https://www.swapi.tech/api/starships/12'}, {'uid': '17', 'name': 'Rebel transport', 'url': 'https://www.swapi.tech/api/starships/17'}], 'apiVersion': '1.0', 'timestamp': '2025-05-02T19:20:09.581Z', 'support': {'contact': 'admin@swapi.tech', 'donate': 'https://www.paypal.com/donate/?business=2HGAUVTWGR5T2&no_recurring=0&item_name=Support+Swapi+and+keep+the+galaxy%27s+data+free%21+Your+donation+fuels+open-source+innovation+and+helps+us+grow.+Thank+you%21+%F0%9F%9A%80&currency_code=USD', 'partnerDiscounts': {'saberMasters': {'link': 'https://www.swapi.tech/partner-discount/sabermasters-swapi', 'details': 'Use this link to automatically get $10 off your purchase!'}, 'heartMath': {'link': 'https://www.heartmath.com/ryanc', 'details': 'Looking for some Jedi-like inner peace? Take 10% off your heart-brain coherence tools from the HeartMath Institute!'}}}, 'social': {'discord': 'https://discord.gg/zWvA6GPeNG', 'reddit': 'https://www.reddit.com/r/SwapiOfficial/', 'github': 'https://github.com/semperry/swapi/blob/main/CONTRIBUTORS.md'}}\n",
      "{'message': 'ok', 'total_records': 36, 'total_pages': 4, 'previous': 'https://www.swapi.tech/api/starships?page=1&limit=10', 'next': 'https://www.swapi.tech/api/starships?page=3&limit=10', 'results': [{'uid': '21', 'name': 'Slave 1', 'url': 'https://www.swapi.tech/api/starships/21'}, {'uid': '22', 'name': 'Imperial shuttle', 'url': 'https://www.swapi.tech/api/starships/22'}, {'uid': '23', 'name': 'EF76 Nebulon-B escort frigate', 'url': 'https://www.swapi.tech/api/starships/23'}, {'uid': '28', 'name': 'A-wing', 'url': 'https://www.swapi.tech/api/starships/28'}, {'uid': '27', 'name': 'Calamari Cruiser', 'url': 'https://www.swapi.tech/api/starships/27'}, {'uid': '29', 'name': 'B-wing', 'url': 'https://www.swapi.tech/api/starships/29'}, {'uid': '31', 'name': 'Republic Cruiser', 'url': 'https://www.swapi.tech/api/starships/31'}, {'uid': '32', 'name': 'Droid control ship', 'url': 'https://www.swapi.tech/api/starships/32'}, {'uid': '39', 'name': 'Naboo fighter', 'url': 'https://www.swapi.tech/api/starships/39'}, {'uid': '40', 'name': 'Naboo Royal Starship', 'url': 'https://www.swapi.tech/api/starships/40'}], 'apiVersion': '1.0', 'timestamp': '2025-05-02T19:20:10.073Z', 'support': {'contact': 'admin@swapi.tech', 'donate': 'https://www.paypal.com/donate/?business=2HGAUVTWGR5T2&no_recurring=0&item_name=Support+Swapi+and+keep+the+galaxy%27s+data+free%21+Your+donation+fuels+open-source+innovation+and+helps+us+grow.+Thank+you%21+%F0%9F%9A%80&currency_code=USD', 'partnerDiscounts': {'saberMasters': {'link': 'https://www.swapi.tech/partner-discount/sabermasters-swapi', 'details': 'Use this link to automatically get $10 off your purchase!'}, 'heartMath': {'link': 'https://www.heartmath.com/ryanc', 'details': 'Looking for some Jedi-like inner peace? Take 10% off your heart-brain coherence tools from the HeartMath Institute!'}}}, 'social': {'discord': 'https://discord.gg/zWvA6GPeNG', 'reddit': 'https://www.reddit.com/r/SwapiOfficial/', 'github': 'https://github.com/semperry/swapi/blob/main/CONTRIBUTORS.md'}}\n",
      "{'message': 'ok', 'total_records': 36, 'total_pages': 4, 'previous': 'https://www.swapi.tech/api/starships?page=2&limit=10', 'next': 'https://www.swapi.tech/api/starships?page=4&limit=10', 'results': [{'uid': '43', 'name': 'J-type diplomatic barge', 'url': 'https://www.swapi.tech/api/starships/43'}, {'uid': '41', 'name': 'Scimitar', 'url': 'https://www.swapi.tech/api/starships/41'}, {'uid': '47', 'name': 'AA-9 Coruscant freighter', 'url': 'https://www.swapi.tech/api/starships/47'}, {'uid': '48', 'name': 'Jedi starfighter', 'url': 'https://www.swapi.tech/api/starships/48'}, {'uid': '52', 'name': 'Republic Assault ship', 'url': 'https://www.swapi.tech/api/starships/52'}, {'uid': '49', 'name': 'H-type Nubian yacht', 'url': 'https://www.swapi.tech/api/starships/49'}, {'uid': '59', 'name': 'Trade Federation cruiser', 'url': 'https://www.swapi.tech/api/starships/59'}, {'uid': '58', 'name': 'Solar Sailer', 'url': 'https://www.swapi.tech/api/starships/58'}, {'uid': '61', 'name': 'Theta-class T-2c shuttle', 'url': 'https://www.swapi.tech/api/starships/61'}, {'uid': '63', 'name': 'Republic attack cruiser', 'url': 'https://www.swapi.tech/api/starships/63'}], 'apiVersion': '1.0', 'timestamp': '2025-05-02T19:20:10.654Z', 'support': {'contact': 'admin@swapi.tech', 'donate': 'https://www.paypal.com/donate/?business=2HGAUVTWGR5T2&no_recurring=0&item_name=Support+Swapi+and+keep+the+galaxy%27s+data+free%21+Your+donation+fuels+open-source+innovation+and+helps+us+grow.+Thank+you%21+%F0%9F%9A%80&currency_code=USD', 'partnerDiscounts': {'saberMasters': {'link': 'https://www.swapi.tech/partner-discount/sabermasters-swapi', 'details': 'Use this link to automatically get $10 off your purchase!'}, 'heartMath': {'link': 'https://www.heartmath.com/ryanc', 'details': 'Looking for some Jedi-like inner peace? Take 10% off your heart-brain coherence tools from the HeartMath Institute!'}}}, 'social': {'discord': 'https://discord.gg/zWvA6GPeNG', 'reddit': 'https://www.reddit.com/r/SwapiOfficial/', 'github': 'https://github.com/semperry/swapi/blob/main/CONTRIBUTORS.md'}}\n",
      "{'message': 'ok', 'total_records': 36, 'total_pages': 4, 'previous': 'https://www.swapi.tech/api/starships?page=3&limit=10', 'next': None, 'results': [{'uid': '64', 'name': 'Naboo star skiff', 'url': 'https://www.swapi.tech/api/starships/64'}, {'uid': '65', 'name': 'Jedi Interceptor', 'url': 'https://www.swapi.tech/api/starships/65'}, {'uid': '66', 'name': 'arc-170', 'url': 'https://www.swapi.tech/api/starships/66'}, {'uid': '68', 'name': 'Banking clan frigte', 'url': 'https://www.swapi.tech/api/starships/68'}, {'uid': '74', 'name': 'Belbullab-22 starfighter', 'url': 'https://www.swapi.tech/api/starships/74'}, {'uid': '75', 'name': 'V-wing', 'url': 'https://www.swapi.tech/api/starships/75'}], 'apiVersion': '1.0', 'timestamp': '2025-05-02T19:20:11.149Z', 'support': {'contact': 'admin@swapi.tech', 'donate': 'https://www.paypal.com/donate/?business=2HGAUVTWGR5T2&no_recurring=0&item_name=Support+Swapi+and+keep+the+galaxy%27s+data+free%21+Your+donation+fuels+open-source+innovation+and+helps+us+grow.+Thank+you%21+%F0%9F%9A%80&currency_code=USD', 'partnerDiscounts': {'saberMasters': {'link': 'https://www.swapi.tech/partner-discount/sabermasters-swapi', 'details': 'Use this link to automatically get $10 off your purchase!'}, 'heartMath': {'link': 'https://www.heartmath.com/ryanc', 'details': 'Looking for some Jedi-like inner peace? Take 10% off your heart-brain coherence tools from the HeartMath Institute!'}}}, 'social': {'discord': 'https://discord.gg/zWvA6GPeNG', 'reddit': 'https://www.reddit.com/r/SwapiOfficial/', 'github': 'https://github.com/semperry/swapi/blob/main/CONTRIBUTORS.md'}}\n"
     ]
    }
   ],
   "source": [
    "# response = requests.get(\" https://www.swapi.tech/api/starships\") # Making a request to the endpoint (the http link) and saving the response to a JSON object. \n",
    "# data = response.json() # Setting data == to a JSON object. \n",
    "\n",
    "# response = requests.get(\"https://www.swapi.tech/api/starships?page=2&limit=10\") # Made a request to get the second page. \n",
    "# data = response.json()\n",
    "\n",
    "data = [] # Setting the data (starships) in a list. = Make a empty list so I can add things. \n",
    "\n",
    "for m in range(1,5):  # Created a for loop to iterate through all 4 pages. Set range so I can get numbers 1-5\n",
    "\n",
    "    response = requests.get(f\"https://www.swapi.tech/api/starships?page={m}&limit=10\")\n",
    "   \n",
    "    data.append(response.json()) # Add JSON to every list. "
   ]
  },
  {
   "cell_type": "markdown",
   "id": "b4c8019b",
   "metadata": {},
   "source": [
    "### Task 3: Create a new Python object that holds on the 'result' key for each Character dictionary."
   ]
  },
  {
   "cell_type": "code",
   "execution_count": 31,
   "id": "9f450f1b",
   "metadata": {},
   "outputs": [],
   "source": [
    "results = [] # Created a results list\n",
    "for record in data: # Go through each data and save it as record. \n",
    "    result = record[\"results\"] # Getting the value. # Saving the value as result\n",
    "    results.append (result) # Adding the result list. \n",
    "    "
   ]
  },
  {
   "cell_type": "markdown",
   "id": "4c1c0cac",
   "metadata": {},
   "source": [
    "### Task 4: List of all of the Character names"
   ]
  },
  {
   "cell_type": "code",
   "execution_count": 32,
   "id": "c30c54a3",
   "metadata": {},
   "outputs": [
    {
     "name": "stdout",
     "output_type": "stream",
     "text": [
      "['CR90 corvette', 'Star Destroyer', 'Sentinel-class landing craft', 'Death Star', 'Y-wing', 'Millennium Falcon', 'TIE Advanced x1', 'Executor', 'X-wing', 'Rebel transport', 'Slave 1', 'Imperial shuttle', 'EF76 Nebulon-B escort frigate', 'A-wing', 'Calamari Cruiser', 'B-wing', 'Republic Cruiser', 'Droid control ship', 'Naboo fighter', 'Naboo Royal Starship', 'J-type diplomatic barge', 'Scimitar', 'AA-9 Coruscant freighter', 'Jedi starfighter', 'Republic Assault ship', 'H-type Nubian yacht', 'Trade Federation cruiser', 'Solar Sailer', 'Theta-class T-2c shuttle', 'Republic attack cruiser', 'Naboo star skiff', 'Jedi Interceptor', 'arc-170', 'Banking clan frigte', 'Belbullab-22 starfighter', 'V-wing']\n"
     ]
    }
   ],
   "source": [
    "names = [] # Created variable name and set it == to a empty list. \n",
    "for result in results: # For every result iterate through the results. \n",
    "    for record in result: # Looping through each record in the result. \n",
    "        names.append(record[\"name\"]) # Getting the names and putting them in a list.  \n",
    "print (names)"
   ]
  },
  {
   "cell_type": "markdown",
   "id": "e502184f",
   "metadata": {},
   "source": [
    "### Task 5: Sort Starships Alphabetically"
   ]
  },
  {
   "cell_type": "code",
   "execution_count": 33,
   "id": "6d3ceb31",
   "metadata": {},
   "outputs": [
    {
     "name": "stdout",
     "output_type": "stream",
     "text": [
      "['A-wing', 'AA-9 Coruscant freighter', 'B-wing', 'Banking clan frigte', 'Belbullab-22 starfighter', 'CR90 corvette', 'Calamari Cruiser', 'Death Star', 'Droid control ship', 'EF76 Nebulon-B escort frigate', 'Executor', 'H-type Nubian yacht', 'Imperial shuttle', 'J-type diplomatic barge', 'Jedi Interceptor', 'Jedi starfighter', 'Millennium Falcon', 'Naboo Royal Starship', 'Naboo fighter', 'Naboo star skiff', 'Rebel transport', 'Republic Assault ship', 'Republic Cruiser', 'Republic attack cruiser', 'Scimitar', 'Sentinel-class landing craft', 'Slave 1', 'Solar Sailer', 'Star Destroyer', 'TIE Advanced x1', 'Theta-class T-2c shuttle', 'Trade Federation cruiser', 'V-wing', 'X-wing', 'Y-wing', 'arc-170']\n"
     ]
    }
   ],
   "source": [
    "names.sort()  # Used . notation called the list (names) and the built-in-function (sort)\n",
    "print(names) "
   ]
  },
  {
   "cell_type": "markdown",
   "id": "41ddf08a",
   "metadata": {},
   "source": [
    "### Task 6: Search Starship by Name"
   ]
  },
  {
   "cell_type": "code",
   "execution_count": null,
   "id": "f9b7a621",
   "metadata": {},
   "outputs": [
    {
     "name": "stdout",
     "output_type": "stream",
     "text": [
      "{'uid': '12', 'name': 'X-wing', 'url': 'https://www.swapi.tech/api/starships/12'}\n"
     ]
    }
   ],
   "source": [
    "all_results = [] #Created another empty list and named it \"all_results\"\n",
    "for result in results: # Created a for loop for result in results. \n",
    "    all_results.extend(result) \n",
    "\n",
    "def get_starship(target_name): \n",
    "\n",
    "    for starship in all_results: \n",
    "\n",
    "        if starship[\"name\"].lower() == target_name.lower():\n",
    "            print(starship)\n",
    "            \n",
    "get_starship(\"x-wing\")"
   ]
  },
  {
   "cell_type": "markdown",
   "id": "8111ef4e",
   "metadata": {},
   "source": [
    "### Task 7: Calculate Average Length of Starships"
   ]
  },
  {
   "cell_type": "code",
   "execution_count": 56,
   "id": "8e585369",
   "metadata": {},
   "outputs": [
    {
     "name": "stdout",
     "output_type": "stream",
     "text": [
      "{'properties': {'created': '2025-05-02T18:27:09.056Z', 'edited': '2025-05-02T18:27:09.056Z', 'consumables': '1 year', 'name': 'CR90 corvette', 'cargo_capacity': '3000000', 'passengers': '600', 'max_atmosphering_speed': '950', 'crew': '30-165', 'length': '150', 'model': 'CR90 corvette', 'cost_in_credits': '3500000', 'manufacturer': 'Corellian Engineering Corporation', 'pilots': [], 'MGLT': '60', 'starship_class': 'corvette', 'hyperdrive_rating': '2.0', 'films': ['https://www.swapi.tech/api/films/1', 'https://www.swapi.tech/api/films/3', 'https://www.swapi.tech/api/films/6'], 'url': 'https://www.swapi.tech/api/starships/2'}, '_id': '5f63a34fee9fd7000499be1e', 'description': 'A Starship', 'uid': '2', '__v': 2}\n",
      "{'properties': {'created': '2025-05-02T18:27:09.056Z', 'edited': '2025-05-02T18:27:09.056Z', 'consumables': '2 years', 'name': 'Star Destroyer', 'cargo_capacity': '36000000', 'passengers': 'n/a', 'max_atmosphering_speed': '975', 'crew': '47,060', 'length': '1,600', 'model': 'Imperial I-class Star Destroyer', 'cost_in_credits': '150000000', 'manufacturer': 'Kuat Drive Yards', 'pilots': [], 'MGLT': '60', 'starship_class': 'Star Destroyer', 'hyperdrive_rating': '2.0', 'films': ['https://www.swapi.tech/api/films/1', 'https://www.swapi.tech/api/films/2', 'https://www.swapi.tech/api/films/3'], 'url': 'https://www.swapi.tech/api/starships/3'}, '_id': '5f63a34fee9fd7000499be1f', 'description': 'A Starship', 'uid': '3', '__v': 2}\n",
      "{'properties': {'created': '2025-05-02T18:27:09.056Z', 'edited': '2025-05-02T18:27:09.056Z', 'consumables': '1 month', 'name': 'Sentinel-class landing craft', 'cargo_capacity': '180000', 'passengers': '75', 'max_atmosphering_speed': '1000', 'crew': '5', 'length': '38', 'model': 'Sentinel-class landing craft', 'cost_in_credits': '240000', 'manufacturer': 'Sienar Fleet Systems, Cyngus Spaceworks', 'pilots': [], 'MGLT': '70', 'starship_class': 'landing craft', 'hyperdrive_rating': '1.0', 'films': ['https://www.swapi.tech/api/films/1'], 'url': 'https://www.swapi.tech/api/starships/5'}, '_id': '5f63a34fee9fd7000499be20', 'description': 'A Starship', 'uid': '5', '__v': 2}\n",
      "{'properties': {'created': '2025-05-02T18:27:09.056Z', 'edited': '2025-05-02T18:27:09.056Z', 'consumables': '3 years', 'name': 'Death Star', 'cargo_capacity': '1000000000000', 'passengers': '843,342', 'max_atmosphering_speed': 'n/a', 'crew': '342,953', 'length': '120000', 'model': 'DS-1 Orbital Battle Station', 'cost_in_credits': '1000000000000', 'manufacturer': 'Imperial Department of Military Research, Sienar Fleet Systems', 'pilots': [], 'MGLT': '10', 'starship_class': 'Deep Space Mobile Battlestation', 'hyperdrive_rating': '4.0', 'films': ['https://www.swapi.tech/api/films/1'], 'url': 'https://www.swapi.tech/api/starships/9'}, '_id': '5f63a34fee9fd7000499be21', 'description': 'A Starship', 'uid': '9', '__v': 2}\n",
      "{'properties': {'created': '2025-05-02T18:27:09.056Z', 'edited': '2025-05-02T18:27:09.056Z', 'consumables': '1 week', 'name': 'Y-wing', 'cargo_capacity': '110', 'passengers': '0', 'max_atmosphering_speed': '1000km', 'crew': '2', 'length': '14', 'model': 'BTL Y-wing', 'cost_in_credits': '134999', 'manufacturer': 'Koensayr Manufacturing', 'pilots': [], 'MGLT': '80', 'starship_class': 'assault starfighter', 'hyperdrive_rating': '1.0', 'films': ['https://www.swapi.tech/api/films/1', 'https://www.swapi.tech/api/films/2', 'https://www.swapi.tech/api/films/3'], 'url': 'https://www.swapi.tech/api/starships/11'}, '_id': '5f63a34fee9fd7000499be22', 'description': 'A Starship', 'uid': '11', '__v': 2}\n",
      "{'properties': {'created': '2025-05-02T18:27:09.056Z', 'edited': '2025-05-02T18:27:09.056Z', 'consumables': '2 months', 'name': 'Millennium Falcon', 'cargo_capacity': '100000', 'passengers': '6', 'max_atmosphering_speed': '1050', 'crew': '4', 'length': '34.37', 'model': 'YT-1300 light freighter', 'cost_in_credits': '100000', 'manufacturer': 'Corellian Engineering Corporation', 'pilots': ['https://www.swapi.tech/api/people/13', 'https://www.swapi.tech/api/people/14', 'https://www.swapi.tech/api/people/25', 'https://www.swapi.tech/api/people/31'], 'MGLT': '75', 'starship_class': 'Light freighter', 'hyperdrive_rating': '0.5', 'films': ['https://www.swapi.tech/api/films/1', 'https://www.swapi.tech/api/films/2', 'https://www.swapi.tech/api/films/3'], 'url': 'https://www.swapi.tech/api/starships/10'}, '_id': '5f63a34fee9fd7000499be23', 'description': 'A Starship', 'uid': '10', '__v': 2}\n",
      "{'properties': {'created': '2025-05-02T18:27:09.056Z', 'edited': '2025-05-02T18:27:09.056Z', 'consumables': '5 days', 'name': 'TIE Advanced x1', 'cargo_capacity': '150', 'passengers': '0', 'max_atmosphering_speed': '1200', 'crew': '1', 'length': '9.2', 'model': 'Twin Ion Engine Advanced x1', 'cost_in_credits': 'unknown', 'manufacturer': 'Sienar Fleet Systems', 'pilots': ['https://www.swapi.tech/api/people/4'], 'MGLT': '105', 'starship_class': 'Starfighter', 'hyperdrive_rating': '1.0', 'films': ['https://www.swapi.tech/api/films/1'], 'url': 'https://www.swapi.tech/api/starships/13'}, '_id': '5f63a34fee9fd7000499be24', 'description': 'A Starship', 'uid': '13', '__v': 2}\n",
      "{'properties': {'created': '2025-05-02T18:27:09.056Z', 'edited': '2025-05-02T18:27:09.056Z', 'consumables': '6 years', 'name': 'Executor', 'cargo_capacity': '250000000', 'passengers': '38000', 'max_atmosphering_speed': 'n/a', 'crew': '279,144', 'length': '19000', 'model': 'Executor-class star dreadnought', 'cost_in_credits': '1143350000', 'manufacturer': 'Kuat Drive Yards, Fondor Shipyards', 'pilots': [], 'MGLT': '40', 'starship_class': 'Star dreadnought', 'hyperdrive_rating': '2.0', 'films': ['https://www.swapi.tech/api/films/2', 'https://www.swapi.tech/api/films/3'], 'url': 'https://www.swapi.tech/api/starships/15'}, '_id': '5f63a34fee9fd7000499be25', 'description': 'A Starship', 'uid': '15', '__v': 2}\n",
      "{'properties': {'created': '2025-05-02T18:27:09.056Z', 'edited': '2025-05-02T18:27:09.056Z', 'consumables': '1 week', 'name': 'X-wing', 'cargo_capacity': '110', 'passengers': '0', 'max_atmosphering_speed': '1050', 'crew': '1', 'length': '12.5', 'model': 'T-65 X-wing', 'cost_in_credits': '149999', 'manufacturer': 'Incom Corporation', 'pilots': ['https://www.swapi.tech/api/people/1', 'https://www.swapi.tech/api/people/9', 'https://www.swapi.tech/api/people/18', 'https://www.swapi.tech/api/people/19'], 'MGLT': '100', 'starship_class': 'Starfighter', 'hyperdrive_rating': '1.0', 'films': ['https://www.swapi.tech/api/films/1', 'https://www.swapi.tech/api/films/2', 'https://www.swapi.tech/api/films/3'], 'url': 'https://www.swapi.tech/api/starships/12'}, '_id': '5f63a34fee9fd7000499be26', 'description': 'A Starship', 'uid': '12', '__v': 2}\n",
      "{'properties': {'created': '2025-05-02T18:27:09.056Z', 'edited': '2025-05-02T18:27:09.056Z', 'consumables': '6 months', 'name': 'Rebel transport', 'cargo_capacity': '19000000', 'passengers': '90', 'max_atmosphering_speed': '650', 'crew': '6', 'length': '90', 'model': 'GR-75 medium transport', 'cost_in_credits': 'unknown', 'manufacturer': 'Gallofree Yards, Inc.', 'pilots': [], 'MGLT': '20', 'starship_class': 'Medium transport', 'hyperdrive_rating': '4.0', 'films': ['https://www.swapi.tech/api/films/2', 'https://www.swapi.tech/api/films/3'], 'url': 'https://www.swapi.tech/api/starships/17'}, '_id': '5f63a34fee9fd7000499be27', 'description': 'A Starship', 'uid': '17', '__v': 2}\n",
      "{'properties': {'created': '2025-05-02T18:27:09.056Z', 'edited': '2025-05-02T18:27:09.056Z', 'consumables': '1 month', 'name': 'Slave 1', 'cargo_capacity': '70000', 'passengers': '6', 'max_atmosphering_speed': '1000', 'crew': '1', 'length': '21.5', 'model': 'Firespray-31-class patrol and attack', 'cost_in_credits': 'unknown', 'manufacturer': 'Kuat Systems Engineering', 'pilots': ['https://www.swapi.tech/api/people/22'], 'MGLT': '70', 'starship_class': 'Patrol craft', 'hyperdrive_rating': '3.0', 'films': ['https://www.swapi.tech/api/films/2', 'https://www.swapi.tech/api/films/5'], 'url': 'https://www.swapi.tech/api/starships/21'}, '_id': '5f63a34fee9fd7000499be28', 'description': 'A Starship', 'uid': '21', '__v': 2}\n",
      "{'properties': {'created': '2025-05-02T18:27:09.056Z', 'edited': '2025-05-02T18:27:09.056Z', 'consumables': '2 months', 'name': 'Imperial shuttle', 'cargo_capacity': '80000', 'passengers': '20', 'max_atmosphering_speed': '850', 'crew': '6', 'length': '20', 'model': 'Lambda-class T-4a shuttle', 'cost_in_credits': '240000', 'manufacturer': 'Sienar Fleet Systems', 'pilots': ['https://www.swapi.tech/api/people/1', 'https://www.swapi.tech/api/people/13', 'https://www.swapi.tech/api/people/14'], 'MGLT': '50', 'starship_class': 'Armed government transport', 'hyperdrive_rating': '1.0', 'films': ['https://www.swapi.tech/api/films/2', 'https://www.swapi.tech/api/films/3'], 'url': 'https://www.swapi.tech/api/starships/22'}, '_id': '5f63a34fee9fd7000499be29', 'description': 'A Starship', 'uid': '22', '__v': 2}\n",
      "{'properties': {'created': '2025-05-02T18:27:09.056Z', 'edited': '2025-05-02T18:27:09.056Z', 'consumables': '2 years', 'name': 'EF76 Nebulon-B escort frigate', 'cargo_capacity': '6000000', 'passengers': '75', 'max_atmosphering_speed': '800', 'crew': '854', 'length': '300', 'model': 'EF76 Nebulon-B escort frigate', 'cost_in_credits': '8500000', 'manufacturer': 'Kuat Drive Yards', 'pilots': [], 'MGLT': '40', 'starship_class': 'Escort ship', 'hyperdrive_rating': '2.0', 'films': ['https://www.swapi.tech/api/films/2', 'https://www.swapi.tech/api/films/3'], 'url': 'https://www.swapi.tech/api/starships/23'}, '_id': '5f63a34fee9fd7000499be2a', 'description': 'A Starship', 'uid': '23', '__v': 2}\n",
      "{'properties': {'created': '2025-05-02T18:27:09.056Z', 'edited': '2025-05-02T18:27:09.056Z', 'consumables': '1 week', 'name': 'A-wing', 'cargo_capacity': '40', 'passengers': '0', 'max_atmosphering_speed': '1300', 'crew': '1', 'length': '9.6', 'model': 'RZ-1 A-wing Interceptor', 'cost_in_credits': '175000', 'manufacturer': 'Alliance Underground Engineering, Incom Corporation', 'pilots': ['https://www.swapi.tech/api/people/29'], 'MGLT': '120', 'starship_class': 'Starfighter', 'hyperdrive_rating': '1.0', 'films': ['https://www.swapi.tech/api/films/3'], 'url': 'https://www.swapi.tech/api/starships/28'}, '_id': '5f63a34fee9fd7000499be2b', 'description': 'A Starship', 'uid': '28', '__v': 2}\n",
      "{'properties': {'created': '2025-05-02T18:27:09.056Z', 'edited': '2025-05-02T18:27:09.056Z', 'consumables': '2 years', 'name': 'Calamari Cruiser', 'cargo_capacity': 'unknown', 'passengers': '1200', 'max_atmosphering_speed': 'n/a', 'crew': '5400', 'length': '1200', 'model': 'MC80 Liberty type Star Cruiser', 'cost_in_credits': '104000000', 'manufacturer': 'Mon Calamari shipyards', 'pilots': [], 'MGLT': '60', 'starship_class': 'Star Cruiser', 'hyperdrive_rating': '1.0', 'films': ['https://www.swapi.tech/api/films/3'], 'url': 'https://www.swapi.tech/api/starships/27'}, '_id': '5f63a34fee9fd7000499be2c', 'description': 'A Starship', 'uid': '27', '__v': 2}\n",
      "{'properties': {'created': '2025-05-02T18:27:09.056Z', 'edited': '2025-05-02T18:27:09.056Z', 'consumables': '1 week', 'name': 'B-wing', 'cargo_capacity': '45', 'passengers': '0', 'max_atmosphering_speed': '950', 'crew': '1', 'length': '16.9', 'model': 'A/SF-01 B-wing starfighter', 'cost_in_credits': '220000', 'manufacturer': 'Slayn & Korpil', 'pilots': [], 'MGLT': '91', 'starship_class': 'Assault Starfighter', 'hyperdrive_rating': '2.0', 'films': ['https://www.swapi.tech/api/films/3'], 'url': 'https://www.swapi.tech/api/starships/29'}, '_id': '5f63a34fee9fd7000499be2d', 'description': 'A Starship', 'uid': '29', '__v': 2}\n",
      "{'properties': {'created': '2025-05-02T18:27:09.056Z', 'edited': '2025-05-02T18:27:09.056Z', 'consumables': 'unknown', 'name': 'Republic Cruiser', 'cargo_capacity': 'unknown', 'passengers': '16', 'max_atmosphering_speed': '900', 'crew': '9', 'length': '115', 'model': 'Consular-class cruiser', 'cost_in_credits': 'unknown', 'manufacturer': 'Corellian Engineering Corporation', 'pilots': [], 'MGLT': 'unknown', 'starship_class': 'Space cruiser', 'hyperdrive_rating': '2.0', 'films': ['https://www.swapi.tech/api/films/4'], 'url': 'https://www.swapi.tech/api/starships/31'}, '_id': '5f63a34fee9fd7000499be2e', 'description': 'A Starship', 'uid': '31', '__v': 2}\n",
      "{'properties': {'created': '2025-05-02T18:27:09.056Z', 'edited': '2025-05-02T18:27:09.056Z', 'consumables': '500 days', 'name': 'Droid control ship', 'cargo_capacity': '4000000000', 'passengers': '139000', 'max_atmosphering_speed': 'n/a', 'crew': '175', 'length': '3170', 'model': 'Lucrehulk-class Droid Control Ship', 'cost_in_credits': 'unknown', 'manufacturer': 'Hoersch-Kessel Drive, Inc.', 'pilots': [], 'MGLT': 'unknown', 'starship_class': 'Droid control ship', 'hyperdrive_rating': '2.0', 'films': ['https://www.swapi.tech/api/films/4', 'https://www.swapi.tech/api/films/5', 'https://www.swapi.tech/api/films/6'], 'url': 'https://www.swapi.tech/api/starships/32'}, '_id': '5f63a34fee9fd7000499be2f', 'description': 'A Starship', 'uid': '32', '__v': 2}\n",
      "{'properties': {'created': '2025-05-02T18:27:09.056Z', 'edited': '2025-05-02T18:27:09.056Z', 'consumables': '7 days', 'name': 'Naboo fighter', 'cargo_capacity': '65', 'passengers': '0', 'max_atmosphering_speed': '1100', 'crew': '1', 'length': '11', 'model': 'N-1 starfighter', 'cost_in_credits': '200000', 'manufacturer': 'Theed Palace Space Vessel Engineering Corps', 'pilots': ['https://www.swapi.tech/api/people/11', 'https://www.swapi.tech/api/people/35', 'https://www.swapi.tech/api/people/60'], 'MGLT': 'unknown', 'starship_class': 'Starfighter', 'hyperdrive_rating': '1.0', 'films': ['https://www.swapi.tech/api/films/4', 'https://www.swapi.tech/api/films/5'], 'url': 'https://www.swapi.tech/api/starships/39'}, '_id': '5f63a34fee9fd7000499be30', 'description': 'A Starship', 'uid': '39', '__v': 2}\n",
      "{'properties': {'created': '2025-05-02T18:27:09.056Z', 'edited': '2025-05-02T18:27:09.056Z', 'consumables': 'unknown', 'name': 'Naboo Royal Starship', 'cargo_capacity': 'unknown', 'passengers': 'unknown', 'max_atmosphering_speed': '920', 'crew': '8', 'length': '76', 'model': 'J-type 327 Nubian royal starship', 'cost_in_credits': 'unknown', 'manufacturer': 'Theed Palace Space Vessel Engineering Corps, Nubia Star Drives', 'pilots': ['https://www.swapi.tech/api/people/39'], 'MGLT': 'unknown', 'starship_class': 'yacht', 'hyperdrive_rating': '1.8', 'films': ['https://www.swapi.tech/api/films/4'], 'url': 'https://www.swapi.tech/api/starships/40'}, '_id': '5f63a34fee9fd7000499be31', 'description': 'A Starship', 'uid': '40', '__v': 2}\n",
      "{'properties': {'created': '2025-05-02T18:27:09.056Z', 'edited': '2025-05-02T18:27:09.056Z', 'consumables': '1 year', 'name': 'J-type diplomatic barge', 'cargo_capacity': 'unknown', 'passengers': '10', 'max_atmosphering_speed': '2000', 'crew': '5', 'length': '39', 'model': 'J-type diplomatic barge', 'cost_in_credits': '2000000', 'manufacturer': 'Theed Palace Space Vessel Engineering Corps, Nubia Star Drives', 'pilots': [], 'MGLT': 'unknown', 'starship_class': 'Diplomatic barge', 'hyperdrive_rating': '0.7', 'films': ['https://www.swapi.tech/api/films/5'], 'url': 'https://www.swapi.tech/api/starships/43'}, '_id': '5f63a34fee9fd7000499be32', 'description': 'A Starship', 'uid': '43', '__v': 2}\n",
      "{'properties': {'created': '2025-05-02T18:27:09.056Z', 'edited': '2025-05-02T18:27:09.056Z', 'consumables': '30 days', 'name': 'Scimitar', 'cargo_capacity': '2500000', 'passengers': '6', 'max_atmosphering_speed': '1180', 'crew': '1', 'length': '26.5', 'model': 'Star Courier', 'cost_in_credits': '55000000', 'manufacturer': 'Republic Sienar Systems', 'pilots': ['https://www.swapi.tech/api/people/44'], 'MGLT': 'unknown', 'starship_class': 'Space Transport', 'hyperdrive_rating': '1.5', 'films': ['https://www.swapi.tech/api/films/4'], 'url': 'https://www.swapi.tech/api/starships/41'}, '_id': '5f63a34fee9fd7000499be33', 'description': 'A Starship', 'uid': '41', '__v': 2}\n",
      "{'properties': {'created': '2025-05-02T18:27:09.056Z', 'edited': '2025-05-02T18:27:09.056Z', 'consumables': 'unknown', 'name': 'AA-9 Coruscant freighter', 'cargo_capacity': 'unknown', 'passengers': '30000', 'max_atmosphering_speed': 'unknown', 'crew': 'unknown', 'length': '390', 'model': 'Botajef AA-9 Freighter-Liner', 'cost_in_credits': 'unknown', 'manufacturer': 'Botajef Shipyards', 'pilots': [], 'MGLT': 'unknown', 'starship_class': 'freighter', 'hyperdrive_rating': 'unknown', 'films': ['https://www.swapi.tech/api/films/5'], 'url': 'https://www.swapi.tech/api/starships/47'}, '_id': '5f63a34fee9fd7000499be34', 'description': 'A Starship', 'uid': '47', '__v': 2}\n",
      "{'properties': {'created': '2025-05-02T18:27:09.056Z', 'edited': '2025-05-02T18:27:09.056Z', 'consumables': '7 days', 'name': 'Jedi starfighter', 'cargo_capacity': '60', 'passengers': '0', 'max_atmosphering_speed': '1150', 'crew': '1', 'length': '8', 'model': 'Delta-7 Aethersprite-class interceptor', 'cost_in_credits': '180000', 'manufacturer': 'Kuat Systems Engineering', 'pilots': ['https://www.swapi.tech/api/people/10', 'https://www.swapi.tech/api/people/58'], 'MGLT': 'unknown', 'starship_class': 'Starfighter', 'hyperdrive_rating': '1.0', 'films': ['https://www.swapi.tech/api/films/5', 'https://www.swapi.tech/api/films/6'], 'url': 'https://www.swapi.tech/api/starships/48'}, '_id': '5f63a34fee9fd7000499be35', 'description': 'A Starship', 'uid': '48', '__v': 2}\n",
      "{'properties': {'created': '2025-05-02T18:27:09.056Z', 'edited': '2025-05-02T18:27:09.056Z', 'consumables': '2 years', 'name': 'Republic Assault ship', 'cargo_capacity': '11250000', 'passengers': '16000', 'max_atmosphering_speed': 'unknown', 'crew': '700', 'length': '752', 'model': 'Acclamator I-class assault ship', 'cost_in_credits': 'unknown', 'manufacturer': 'Rothana Heavy Engineering', 'pilots': [], 'MGLT': 'unknown', 'starship_class': 'assault ship', 'hyperdrive_rating': '0.6', 'films': ['https://www.swapi.tech/api/films/5'], 'url': 'https://www.swapi.tech/api/starships/52'}, '_id': '5f63a34fee9fd7000499be36', 'description': 'A Starship', 'uid': '52', '__v': 2}\n",
      "{'properties': {'created': '2025-05-02T18:27:09.056Z', 'edited': '2025-05-02T18:27:09.056Z', 'consumables': 'unknown', 'name': 'H-type Nubian yacht', 'cargo_capacity': 'unknown', 'passengers': 'unknown', 'max_atmosphering_speed': '8000', 'crew': '4', 'length': '47.9', 'model': 'H-type Nubian yacht', 'cost_in_credits': 'unknown', 'manufacturer': 'Theed Palace Space Vessel Engineering Corps', 'pilots': ['https://www.swapi.tech/api/people/35'], 'MGLT': 'unknown', 'starship_class': 'yacht', 'hyperdrive_rating': '0.9', 'films': ['https://www.swapi.tech/api/films/5'], 'url': 'https://www.swapi.tech/api/starships/49'}, '_id': '5f63a34fee9fd7000499be37', 'description': 'A Starship', 'uid': '49', '__v': 2}\n",
      "{'properties': {'created': '2025-05-02T18:27:09.056Z', 'edited': '2025-05-02T18:27:09.056Z', 'consumables': '4 years', 'name': 'Trade Federation cruiser', 'cargo_capacity': '50000000', 'passengers': '48247', 'max_atmosphering_speed': '1050', 'crew': '600', 'length': '1088', 'model': 'Providence-class carrier/destroyer', 'cost_in_credits': '125000000', 'manufacturer': 'Rendili StarDrive, Free Dac Volunteers Engineering corps.', 'pilots': ['https://www.swapi.tech/api/people/10', 'https://www.swapi.tech/api/people/11'], 'MGLT': 'unknown', 'starship_class': 'capital ship', 'hyperdrive_rating': '1.5', 'films': ['https://www.swapi.tech/api/films/6'], 'url': 'https://www.swapi.tech/api/starships/59'}, '_id': '5f63a34fee9fd7000499be38', 'description': 'A Starship', 'uid': '59', '__v': 2}\n",
      "{'properties': {'created': '2025-05-02T18:27:09.056Z', 'edited': '2025-05-02T18:27:09.056Z', 'consumables': '7 days', 'name': 'Solar Sailer', 'cargo_capacity': '240', 'passengers': '11', 'max_atmosphering_speed': '1600', 'crew': '3', 'length': '15.2', 'model': 'Punworcca 116-class interstellar sloop', 'cost_in_credits': '35700', 'manufacturer': 'Huppla Pasa Tisc Shipwrights Collective', 'pilots': [], 'MGLT': 'unknown', 'starship_class': 'yacht', 'hyperdrive_rating': '1.5', 'films': ['https://www.swapi.tech/api/films/5'], 'url': 'https://www.swapi.tech/api/starships/58'}, '_id': '5f63a34fee9fd7000499be39', 'description': 'A Starship', 'uid': '58', '__v': 2}\n",
      "{'properties': {'created': '2025-05-02T18:27:09.056Z', 'edited': '2025-05-02T18:27:09.056Z', 'consumables': '56 days', 'name': 'Theta-class T-2c shuttle', 'cargo_capacity': '50000', 'passengers': '16', 'max_atmosphering_speed': '2000', 'crew': '5', 'length': '18.5', 'model': 'Theta-class T-2c shuttle', 'cost_in_credits': '1000000', 'manufacturer': 'Cygnus Spaceworks', 'pilots': [], 'MGLT': 'unknown', 'starship_class': 'transport', 'hyperdrive_rating': '1.0', 'films': ['https://www.swapi.tech/api/films/6'], 'url': 'https://www.swapi.tech/api/starships/61'}, '_id': '5f63a34fee9fd7000499be3a', 'description': 'A Starship', 'uid': '61', '__v': 2}\n",
      "{'properties': {'created': '2025-05-02T18:27:09.056Z', 'edited': '2025-05-02T18:27:09.056Z', 'consumables': '2 years', 'name': 'Republic attack cruiser', 'cargo_capacity': '20000000', 'passengers': '2000', 'max_atmosphering_speed': '975', 'crew': '7400', 'length': '1137', 'model': 'Senator-class Star Destroyer', 'cost_in_credits': '59000000', 'manufacturer': 'Kuat Drive Yards, Allanteen Six shipyards', 'pilots': [], 'MGLT': 'unknown', 'starship_class': 'star destroyer', 'hyperdrive_rating': '1.0', 'films': ['https://www.swapi.tech/api/films/6'], 'url': 'https://www.swapi.tech/api/starships/63'}, '_id': '5f63a34fee9fd7000499be3b', 'description': 'A Starship', 'uid': '63', '__v': 2}\n",
      "{'properties': {'created': '2025-05-02T18:27:09.056Z', 'edited': '2025-05-02T18:27:09.056Z', 'consumables': 'unknown', 'name': 'Naboo star skiff', 'cargo_capacity': 'unknown', 'passengers': '3', 'max_atmosphering_speed': '1050', 'crew': '3', 'length': '29.2', 'model': 'J-type star skiff', 'cost_in_credits': 'unknown', 'manufacturer': 'Theed Palace Space Vessel Engineering Corps/Nubia Star Drives, Incorporated', 'pilots': ['https://www.swapi.tech/api/people/10', 'https://www.swapi.tech/api/people/35'], 'MGLT': 'unknown', 'starship_class': 'yacht', 'hyperdrive_rating': '0.5', 'films': ['https://www.swapi.tech/api/films/6'], 'url': 'https://www.swapi.tech/api/starships/64'}, '_id': '5f63a34fee9fd7000499be3c', 'description': 'A Starship', 'uid': '64', '__v': 2}\n",
      "{'properties': {'created': '2025-05-02T18:27:09.056Z', 'edited': '2025-05-02T18:27:09.056Z', 'consumables': '2 days', 'name': 'Jedi Interceptor', 'cargo_capacity': '60', 'passengers': '0', 'max_atmosphering_speed': '1500', 'crew': '1', 'length': '5.47', 'model': 'Eta-2 Actis-class light interceptor', 'cost_in_credits': '320000', 'manufacturer': 'Kuat Systems Engineering', 'pilots': ['https://www.swapi.tech/api/people/10', 'https://www.swapi.tech/api/people/11'], 'MGLT': 'unknown', 'starship_class': 'starfighter', 'hyperdrive_rating': '1.0', 'films': ['https://www.swapi.tech/api/films/6'], 'url': 'https://www.swapi.tech/api/starships/65'}, '_id': '5f63a34fee9fd7000499be3d', 'description': 'A Starship', 'uid': '65', '__v': 2}\n",
      "{'properties': {'created': '2025-05-02T18:27:09.056Z', 'edited': '2025-05-02T18:27:09.056Z', 'consumables': '5 days', 'name': 'arc-170', 'cargo_capacity': '110', 'passengers': '0', 'max_atmosphering_speed': '1000', 'crew': '3', 'length': '14.5', 'model': 'Aggressive Reconnaissance-170 starfighte', 'cost_in_credits': '155000', 'manufacturer': 'Incom Corporation, Subpro Corporation', 'pilots': [], 'MGLT': '100', 'starship_class': 'starfighter', 'hyperdrive_rating': '1.0', 'films': ['https://www.swapi.tech/api/films/6'], 'url': 'https://www.swapi.tech/api/starships/66'}, '_id': '5f63a34fee9fd7000499be3e', 'description': 'A Starship', 'uid': '66', '__v': 2}\n",
      "{'properties': {'created': '2025-05-02T18:27:09.056Z', 'edited': '2025-05-02T18:27:09.056Z', 'consumables': '2 years', 'name': 'Banking clan frigte', 'cargo_capacity': '40000000', 'passengers': 'unknown', 'max_atmosphering_speed': 'unknown', 'crew': '200', 'length': '825', 'model': 'Munificent-class star frigate', 'cost_in_credits': '57000000', 'manufacturer': 'Hoersch-Kessel Drive, Inc, Gwori Revolutionary Industries', 'pilots': [], 'MGLT': 'unknown', 'starship_class': 'cruiser', 'hyperdrive_rating': '1.0', 'films': ['https://www.swapi.tech/api/films/6'], 'url': 'https://www.swapi.tech/api/starships/68'}, '_id': '5f63a34fee9fd7000499be3f', 'description': 'A Starship', 'uid': '68', '__v': 2}\n",
      "{'properties': {'created': '2025-05-02T18:27:09.056Z', 'edited': '2025-05-02T18:27:09.056Z', 'consumables': '7 days', 'name': 'Belbullab-22 starfighter', 'cargo_capacity': '140', 'passengers': '0', 'max_atmosphering_speed': '1100', 'crew': '1', 'length': '6.71', 'model': 'Belbullab-22 starfighter', 'cost_in_credits': '168000', 'manufacturer': 'Feethan Ottraw Scalable Assemblies', 'pilots': ['https://www.swapi.tech/api/people/10', 'https://www.swapi.tech/api/people/79'], 'MGLT': 'unknown', 'starship_class': 'starfighter', 'hyperdrive_rating': '6', 'films': ['https://www.swapi.tech/api/films/6'], 'url': 'https://www.swapi.tech/api/starships/74'}, '_id': '5f63a34fee9fd7000499be40', 'description': 'A Starship', 'uid': '74', '__v': 2}\n",
      "{'properties': {'created': '2025-05-02T18:27:09.056Z', 'edited': '2025-05-02T18:27:09.056Z', 'consumables': '15 hours', 'name': 'V-wing', 'cargo_capacity': '60', 'passengers': '0', 'max_atmosphering_speed': '1050', 'crew': '1', 'length': '7.9', 'model': 'Alpha-3 Nimbus-class V-wing starfighter', 'cost_in_credits': '102500', 'manufacturer': 'Kuat Systems Engineering', 'pilots': [], 'MGLT': 'unknown', 'starship_class': 'starfighter', 'hyperdrive_rating': '1.0', 'films': ['https://www.swapi.tech/api/films/6'], 'url': 'https://www.swapi.tech/api/starships/75'}, '_id': '5f63a350ee9fd7000499be41', 'description': 'A Starship', 'uid': '75', '__v': 2}\n",
      "[150.0, 1600.0, 38.0, 120000.0, 14.0, 34.37, 9.2, 19000.0, 12.5, 90.0, 21.5, 20.0, 300.0, 9.6, 1200.0, 16.9, 115.0, 3170.0, 11.0, 76.0, 39.0, 26.5, 390.0, 8.0, 752.0, 47.9, 1088.0, 15.2, 18.5, 1137.0, 29.2, 5.47, 14.5, 825.0, 6.71, 7.9]\n",
      "150298.95\n",
      "4174.97\n"
     ]
    }
   ],
   "source": [
    "lengths = []\n",
    "\n",
    "for ship in all_results:\n",
    "\n",
    "\n",
    "    response = requests.get(ship[\"url\"]) \n",
    "    data = (response.json())\n",
    "\n",
    "    print(data[\"result\"])\n",
    "\n",
    "    length = (data[\"result\"][\"properties\"][\"length\"])\n",
    "    length = length.replace(\",\" , \"\") \n",
    "\n",
    "    lengths.append(float(length))\n",
    "print(lengths)\n",
    "\n",
    "total_lengths = sum(lengths) \n",
    "print(total_lengths)\n",
    "size = len(lengths) \n",
    "average = total_lengths / size \n",
    "print(round(average, 2))\n"
   ]
  },
  {
   "cell_type": "code",
   "execution_count": null,
   "id": "efb98069",
   "metadata": {},
   "outputs": [],
   "source": []
  }
 ],
 "metadata": {
  "kernelspec": {
   "display_name": "Python 3",
   "language": "python",
   "name": "python3"
  },
  "language_info": {
   "codemirror_mode": {
    "name": "ipython",
    "version": 3
   },
   "file_extension": ".py",
   "mimetype": "text/x-python",
   "name": "python",
   "nbconvert_exporter": "python",
   "pygments_lexer": "ipython3",
   "version": "3.12.0"
  }
 },
 "nbformat": 4,
 "nbformat_minor": 5
}
