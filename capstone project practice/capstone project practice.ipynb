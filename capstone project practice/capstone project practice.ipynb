{
 "cells": [
  {
   "cell_type": "markdown",
   "id": "1a954da6",
   "metadata": {},
   "source": [
    "# `Data Engineering CapStone Project Outline`"
   ]
  }
 ],
 "metadata": {
  "language_info": {
   "name": "python"
  }
 },
 "nbformat": 4,
 "nbformat_minor": 5
}
