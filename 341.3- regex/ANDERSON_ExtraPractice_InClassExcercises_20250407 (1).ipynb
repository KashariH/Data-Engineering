{
 "cells": [
  {
   "cell_type": "markdown",
   "metadata": {},
   "source": [
    "# 341.3 Regular Expressions\n"
   ]
  },
  {
   "cell_type": "code",
   "execution_count": 2,
   "metadata": {},
   "outputs": [
    {
     "name": "stdout",
     "output_type": "stream",
     "text": [
      "<re.Match object; span=(0, 17), match='The rain in Spain'>\n",
      "The rain in Spain\n",
      "\n",
      "\t\n",
      "<re.Match object; span=(0, 44), match='The people speak Spanish in Mexico and Spain'>\n",
      "The people speak Spanish in Mexico and Spain\n"
     ]
    },
    {
     "data": {
      "text/plain": [
       "'The rain in Spain'"
      ]
     },
     "execution_count": 2,
     "metadata": {},
     "output_type": "execute_result"
    }
   ],
   "source": [
    "import re\n",
    "\n",
    "txt = \"The rain in Spain\"\n",
    "txt2 = \"The people speak Spanish in Mexico and Spain\"\n",
    "search_string = r\"^The.*Spain$\"\n",
    "x = re.search(\"^The.*Spain$\", txt)\n",
    "y = re.search(search_string, txt2)\n",
    "print (x)  # Print regex Object\n",
    "print (x.group()) #print string or Regex Match to screen w/ `.group` method\n",
    "\n",
    "print(\"\\n\\t\")\n",
    "\n",
    "print (y) # Print regex Object\n",
    "print (y.group()) #print string or Regex Match to screen w/ `.group` method\n",
    "\n",
    "x.group() "
   ]
  },
  {
   "cell_type": "code",
   "execution_count": null,
   "metadata": {},
   "outputs": [],
   "source": [
    "import re\n",
    "\n",
    "str = 'an example word:cat!!'\n",
    "match = re.search(r'word:\\w\\w\\w', str)\n",
    "# If-statement after search() tests if it succeeded\n",
    "if match:\n",
    "  print('found', match.group()) ## 'found word:cat'\n",
    "else:\n",
    "  print('did not find')"
   ]
  },
  {
   "cell_type": "code",
   "execution_count": null,
   "metadata": {},
   "outputs": [],
   "source": [
    "# import RE module\n",
    "import re\n",
    "target_str = \"My roll number is 25\"\n",
    "res = re.findall(r\"\\d\", target_str)\n",
    "# extract matching value\n",
    "print(res)\n",
    "\n",
    "# Output [2, 5]"
   ]
  },
  {
   "cell_type": "code",
   "execution_count": 1,
   "metadata": {},
   "outputs": [
    {
     "ename": "NameError",
     "evalue": "name 're' is not defined",
     "output_type": "error",
     "traceback": [
      "\u001b[1;31m---------------------------------------------------------------------------\u001b[0m",
      "\u001b[1;31mNameError\u001b[0m                                 Traceback (most recent call last)",
      "Cell \u001b[1;32mIn[1], line 4\u001b[0m\n\u001b[0;32m      1\u001b[0m \u001b[38;5;66;03m## Search for pattern 'iii' in string 'piiig'.\u001b[39;00m\n\u001b[0;32m      2\u001b[0m \u001b[38;5;66;03m## All of the pattern must match, but it may appear anywhere.\u001b[39;00m\n\u001b[0;32m      3\u001b[0m \u001b[38;5;66;03m## On success, match.group() is matched text.\u001b[39;00m\n\u001b[1;32m----> 4\u001b[0m match \u001b[38;5;241m=\u001b[39m re\u001b[38;5;241m.\u001b[39msearch(\u001b[38;5;124mr\u001b[39m\u001b[38;5;124m'\u001b[39m\u001b[38;5;124miii\u001b[39m\u001b[38;5;124m'\u001b[39m, \u001b[38;5;124m'\u001b[39m\u001b[38;5;124mpiiig\u001b[39m\u001b[38;5;124m'\u001b[39m) \u001b[38;5;66;03m# found, match.group() == \"iii\"\u001b[39;00m\n\u001b[0;32m      5\u001b[0m \u001b[38;5;28mprint\u001b[39m(\u001b[38;5;124m'\u001b[39m\u001b[38;5;124m1\u001b[39m\u001b[38;5;124m'\u001b[39m,match)\n\u001b[0;32m      6\u001b[0m match \u001b[38;5;241m=\u001b[39m re\u001b[38;5;241m.\u001b[39msearch(\u001b[38;5;124mr\u001b[39m\u001b[38;5;124m'\u001b[39m\u001b[38;5;124migs\u001b[39m\u001b[38;5;124m'\u001b[39m, \u001b[38;5;124m'\u001b[39m\u001b[38;5;124mpiiig\u001b[39m\u001b[38;5;124m'\u001b[39m) \u001b[38;5;66;03m# not found, match == None\u001b[39;00m\n",
      "\u001b[1;31mNameError\u001b[0m: name 're' is not defined"
     ]
    }
   ],
   "source": [
    "  ## Search for pattern 'iii' in string 'piiig'.\n",
    "  ## All of the pattern must match, but it may appear anywhere.\n",
    "  ## On success, match.group() is matched text.\n",
    "match = re.search(r'iii', 'piiig') # found, match.group() == \"iii\"\n",
    "print('1',match)\n",
    "match = re.search(r'igs', 'piiig') # not found, match == None\n",
    "print('2',match)\n",
    "  ## . = any char but \\n\n",
    "match = re.search(r'..g', 'piiig') # found, match.group() == \"iig\"\n",
    "print('3',match)\n",
    "  ## \\d = digit char, \\w = word char\n",
    "match = re.search(r'\\d\\d\\d', 'p123g') # found, match.group() == \"123\"\n",
    "print('4',match)\n",
    "match = re.search(r'\\w\\w\\w', '@@abcd!!') # found, match.group() == \"abc\"\n",
    "print('5',match)"
   ]
  },
  {
   "cell_type": "code",
   "execution_count": null,
   "metadata": {},
   "outputs": [],
   "source": [
    "import re\n",
    "target_string = \"Abraham Lincoln was born on February 12, 1809,\"\n",
    "# \\d to match digits\n",
    "res = re.search(r'\\d{4}', target_string)\n",
    "print(res.group()) # match value\n",
    "# Output 1809\n",
    "\n",
    "# start and end position of `res`\n",
    "print(res.span())\n",
    "# Output (41, 45)\n",
    "print(res.start())# start position `res`\n",
    "# Output 41\n",
    "res2 = r\"^Abraham\"\n",
    "print(re.search(res2, target_string))  # Matches\n",
    "print(re.search(res2, res.group()))  # Doesn't match\n",
    "\n",
    "\n",
    "print(res.end()) # end position `res`\n",
    "# Output 45\n",
    "res3 = r\"1809$\"\n",
    "print(re.search(res3, target_string))  # Doesn't match because of \"1809,\"\n",
    "print(re.search(res3, res.group()))  # Matches 1809\n"
   ]
  },
  {
   "cell_type": "code",
   "execution_count": null,
   "metadata": {},
   "outputs": [],
   "source": [
    "import re\n",
    "\n",
    "# ^ asserts the position at the start of the string\n",
    "pattern_start = r\"^start\"\n",
    "print(re.search(pattern_start, \"start text\"))  # Matches\n",
    "print(re.search(pattern_start, \"text start\"))  # Doesn't match\n",
    "\n",
    "# $ asserts the position at the end of the string\n",
    "pattern_end = r\"end$\"\n",
    "print(re.search(pattern_end, \"text end\"))  # Matches\n",
    "print(re.search(pattern_end, \"end text\"))  # Doesn't match\n",
    "\n",
    "# * matches zero or more repetitions of the preceding character\n",
    "pattern_zero_or_more = r\"xy*z\"\n",
    "print(re.search(pattern_zero_or_more, \"xz\"))  # Matches \"xyz\" with zero 'y's\n",
    "print(re.search(pattern_zero_or_more, \"xyz\"))  # Matches \"xyz\"\n",
    "print(re.search(pattern_zero_or_more, \"xyyyz\"))  # Matches \"xyyyz\"\n",
    "\n",
    "# ? matches zero or one occurrence of the preceding character\n",
    "pattern_zero_or_one = r\"xy?z\"\n",
    "print(re.search(pattern_zero_or_one, \"xz\"))  # Matches \"xz\" with zero 'y's\n",
    "print(re.search(pattern_zero_or_one, \"xyz\"))  # Matches \"xyz\" with one 'y'\n",
    "print(re.search(pattern_zero_or_one, \"xyyz\"))  # Doesn't match because it has two 'y's\n",
    "\n",
    "# Combining them\n",
    "pattern_combined = r\"^start.*end$\"\n",
    "print(re.search(pattern_combined, \"start any text end\"))  # Matches\n",
    "print(re.search(pattern_combined, \"start any text\"))  # Doesn't match\n",
    "print(re.search(pattern_combined, \"any text end\"))  # Doesn't match"
   ]
  },
  {
   "cell_type": "code",
   "execution_count": null,
   "metadata": {},
   "outputs": [],
   "source": [
    "# Matching Patterns\n",
    "import re\n",
    "\n",
    "strings = [\"apple\", \"banana\", \"cat\", \"dog123\", \"egg!\", \"1234\"]\n",
    "\n",
    "# . (dot): Matches any single character except a newline\n",
    "pattern_dot = r\"d.g\"  # Matches \"dog\"\n",
    "for string in strings:\n",
    "    if re.search(pattern_dot, string):\n",
    "        print(f\"'{string}' matches '{pattern_dot}'\")\n",
    "\n",
    "# [^ ]: Matches any character NOT inside the square brackets\n",
    "pattern_not = r\"b[^n]\"  # Matches \"ba\" in \"banana\" but not \"bn\"\n",
    "for string in strings:\n",
    "    if re.search(pattern_not, string):\n",
    "        print(f\"'{string}' matches '{pattern_not}'\")\n",
    "\n",
    "# ^: Matches the beginning of the string\n",
    "pattern_start = r\"^a\"  # Matches \"a\" at the beginning of \"apple\"\n",
    "for string in strings:\n",
    "    if re.search(pattern_start, string):\n",
    "        print(f\"'{string}' matches '{pattern_start}'\")\n",
    "\n",
    "# $: Matches the end of the string\n",
    "pattern_end = r\"3$\"  # Matches \"3\" at the end of \"dog123\" and \"1234\"\n",
    "for string in strings:\n",
    "    if re.search(pattern_end, string):\n",
    "        print(f\"'{string}' matches '{pattern_end}'\")\n",
    "\n",
    "# *: Matches zero or more occurrences of the preceding character/group\n",
    "pattern_star = r\"go*\"  # Matches \"g\" followed by zero or more \"o\"s\n",
    "for string in strings:\n",
    "    if re.search(pattern_star, string):\n",
    "        print(f\"'{string}' matches '{pattern_star}'\")\n",
    "\n",
    "# ?: Matches zero or one occurrence of the preceding character/group\n",
    "pattern_question = r\"eggs?\"  # Matches \"egg\" or \"eggs\"\n",
    "for string in strings:\n",
    "    if re.search(pattern_question, string):\n",
    "        print(f\"'{string}' matches '{pattern_question}'\")"
   ]
  },
  {
   "cell_type": "markdown",
   "metadata": {},
   "source": [
    "# 341.4 Date Time & Math Functions"
   ]
  },
  {
   "cell_type": "code",
   "execution_count": null,
   "metadata": {},
   "outputs": [],
   "source": [
    "import datetime\n",
    "import math"
   ]
  },
  {
   "cell_type": "code",
   "execution_count": null,
   "metadata": {},
   "outputs": [],
   "source": [
    "# Date and Time Functions\n",
    "\n",
    "# Current date and time\n",
    "now = datetime.datetime.now()\n",
    "print(f\"Current date and time: {now}\")\n",
    "\n",
    "# Create a specific date\n",
    "specific_date = datetime.date(2025, 4, 7)\n",
    "print(f\"Specific date: {specific_date}\")\n",
    "\n",
    "# Create a specific time\n",
    "specific_time = datetime.time(15, 30, 0)\n",
    "print(f\"Specific time: {specific_time}\")\n",
    "\n",
    "# Combine date and time\n",
    "combined_datetime = datetime.datetime.combine(specific_date, specific_time)\n",
    "print(f\"Combined date and time: {combined_datetime}\")\n",
    "\n",
    "# Format date and time as a string\n",
    "formatted_datetime = now.strftime(\"%Y-%m-%d %H:%M:%S\")\n",
    "print(f\"Formatted date and time: {formatted_datetime}\")\n",
    "\n",
    "# Parse a string into a datetime object\n",
    "date_string = \"2025-04-07 16:00:00\"\n",
    "parsed_datetime = datetime.datetime.strptime(date_string, \"%Y-%m-%d %H:%M:%S\")\n",
    "print(f\"Parsed datetime: {parsed_datetime}\")\n",
    "\n",
    "# Time delta for date and time arithmetic\n",
    "time_delta = datetime.timedelta(days=1, hours=2)\n",
    "future_datetime = now + time_delta\n",
    "past_datetime = now - time_delta\n",
    "print(f\"Future datetime: {future_datetime}\")\n",
    "print(f\"Past datetime: {past_datetime}\")\n",
    "\n",
    "# Extract year, month, day, hour, minute, second\n",
    "print(f\"Year: {now.year}\")\n",
    "print(f\"Month: {now.month}\")\n",
    "print(f\"Day: {now.day}\")\n",
    "print(f\"Hour: {now.hour}\")\n",
    "print(f\"Minute: {now.minute}\")\n",
    "print(f\"Second: {now.second}\")"
   ]
  },
  {
   "cell_type": "markdown",
   "metadata": {},
   "source": [
    "## Math Functions   "
   ]
  },
  {
   "cell_type": "code",
   "execution_count": null,
   "metadata": {},
   "outputs": [],
   "source": [
    "# Math Functions\n",
    "x = 10\n",
    "h = 3"
   ]
  },
  {
   "cell_type": "code",
   "execution_count": null,
   "metadata": {},
   "outputs": [],
   "source": [
    "# Advanced Math functions\n",
    "print(f\"Square root of x: {math.sqrt(x)}\")\n",
    "print(f\"Logarithm of x: {math.log(x)}\")\n",
    "print(f\"Sine of x (in radians): {math.sin(math.radians(x))}\")\n",
    "print(f\"Cosine of x (in radians): {math.cos(math.radians(x))}\")\n",
    "print(f\"Tangent of x (in radians): {math.tan(math.radians(x))}\")\n",
    "print(f\"Factorial of h: {math.factorial(h)}\")\n",
    "print(f\"Absolute value of -x: {abs(-x)}\")\n",
    "print(f\"Rounded value of x/h: {round(x/h, 2)}\")"
   ]
  },
  {
   "cell_type": "code",
   "execution_count": null,
   "metadata": {},
   "outputs": [],
   "source": [
    "import math\n",
    "a =3.2\n",
    "\n",
    "\n",
    "print(math.ceil(a)) # Ceiling Function \n",
    "\n",
    "\n",
    "print(math.floor(a)) # Floor Function"
   ]
  }
 ],
 "metadata": {
  "kernelspec": {
   "display_name": "base",
   "language": "python",
   "name": "python3"
  },
  "language_info": {
   "codemirror_mode": {
    "name": "ipython",
    "version": 3
   },
   "file_extension": ".py",
   "mimetype": "text/x-python",
   "name": "python",
   "nbconvert_exporter": "python",
   "pygments_lexer": "ipython3",
   "version": "3.12.7"
  }
 },
 "nbformat": 4,
 "nbformat_minor": 2
}
