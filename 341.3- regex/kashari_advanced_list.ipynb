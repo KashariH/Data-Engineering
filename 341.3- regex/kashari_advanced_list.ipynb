{
  "cells": [
    {
      "cell_type": "markdown",
      "metadata": {
        "id": "qK41rEENgA65"
      },
      "source": [
        "# kashari_advanced_list.ipynb\n",
        "\n",
        "Complete the following practice excercises below to build up your skills with manipulating lists."
      ]
    },
    {
      "cell_type": "markdown",
      "metadata": {
        "id": "Q2j3l_wyf-UH"
      },
      "source": [
        "**Problem 1**\n",
        "\n",
        "\n",
        "\n",
        "*   Using the list below, use a Class method to add the string \"skirt\" to the end of the list.\n",
        "\n"
      ]
    },
    {
      "cell_type": "code",
      "execution_count": null,
      "metadata": {
        "id": "hbDcD9R0fiJd"
      },
      "outputs": [],
      "source": [
        "clothing= ['socks', 'pants', 'shirt', 'polo']"
      ]
    },
    {
      "cell_type": "code",
      "execution_count": null,
      "metadata": {},
      "outputs": [
        {
          "name": "stdout",
          "output_type": "stream",
          "text": [
            "['socks', 'pants', 'shirt', 'polo', 'skirt']\n"
          ]
        }
      ],
      "source": [
        "clothing= ['socks', 'pants', 'shirt', 'polo']\n",
        "\n",
        "clothing.append(\"skirt\")\n",
        "print(clothing)\n",
        "\n",
        "#output ['socks', 'pants', 'shirt', 'polo', 'skirt']\n",
        "\n",
        "\n",
        "\n",
        "\n",
        "\n",
        "\n",
        "\n",
        "\n",
        "\n",
        "\n",
        "\n",
        "\n",
        "\n",
        "\n",
        "\n",
        "\n",
        "\n",
        "\n",
        "\n",
        "\n",
        "\n",
        "\n",
        "\n",
        "\n",
        "\n",
        "\n",
        "\n",
        "\n",
        "\n",
        "\n",
        "\n",
        "\n",
        "\n"
      ]
    },
    {
      "cell_type": "markdown",
      "metadata": {
        "id": "y356o0Fjf5F_"
      },
      "source": [
        "**Problem 2**\n",
        "\n",
        "\n",
        "\n",
        "*   Using the same list as above, add a list to the 2nd index that includes the following strings:\n",
        "> 'suit jacket', 'suit pants', 'tie', 'button down'\n",
        "\n",
        "\n",
        "\n"
      ]
    },
    {
      "cell_type": "code",
      "execution_count": 20,
      "metadata": {
        "id": "nWyQ5oVmghJz"
      },
      "outputs": [
        {
          "name": "stdout",
          "output_type": "stream",
          "text": [
            "['socks', 'pants', ['suit jacket', 'suit pants', 'tie', 'button down'], 'shirt', 'polo', 'skirt']\n"
          ]
        }
      ],
      "source": [
        "#clothing.insert(2,['suit jacket', 'suit pants', 'tie', 'button down'])\n",
        "clothing.insert(2, ['suit jacket', 'suit pants', 'tie', 'button down'])\n",
        "print(clothing)"
      ]
    },
    {
      "cell_type": "markdown",
      "metadata": {
        "id": "ibOLVpd9ghnV"
      },
      "source": [
        "**Problem 3**\n",
        "\n",
        "\n",
        "\n",
        "*   Use the list below and use a Class method to get the total number of times the integer 14 appears in the list.\n",
        "\n"
      ]
    },
    {
      "cell_type": "code",
      "execution_count": null,
      "metadata": {
        "id": "uew5D-NjgzGu"
      },
      "outputs": [],
      "source": [
        "nums= [2, 150, 14, 36, 78, 81, 14, 1000, 54, 14, 14]\n",
        "print(nums.count(14))"
      ]
    },
    {
      "cell_type": "code",
      "execution_count": 21,
      "metadata": {},
      "outputs": [
        {
          "name": "stdout",
          "output_type": "stream",
          "text": [
            "4\n"
          ]
        }
      ],
      "source": [
        "nums= [2, 150, 14, 36, 78, 81, 14, 1000, 54, 14, 14]\n",
        "print(nums.count(14))\n"
      ]
    },
    {
      "cell_type": "markdown",
      "metadata": {
        "id": "06UCPuTZhCfh"
      },
      "source": [
        "**Problem 4**\n",
        "\n",
        "\n",
        "*  Use the same list as above\n",
        "*  Use a built-in function to find the total of all the numbers in the list.\n",
        "\n"
      ]
    },
    {
      "cell_type": "code",
      "execution_count": null,
      "metadata": {
        "id": "uvbtynLshN7h"
      },
      "outputs": [],
      "source": [
        "print(sum(nums))"
      ]
    },
    {
      "cell_type": "markdown",
      "metadata": {
        "id": "2y7Vph1ThSqQ"
      },
      "source": [
        "**Problem 5**\n",
        "\n",
        "\n",
        "\n",
        "*   Use the same list as above\n",
        "*   Slice the list so that it is reversed without using the .reverse() method\n",
        "\n"
      ]
    },
    {
      "cell_type": "code",
      "execution_count": 22,
      "metadata": {
        "id": "jFRwVKvyh6ip"
      },
      "outputs": [
        {
          "name": "stdout",
          "output_type": "stream",
          "text": [
            "[14, 14, 54, 1000, 14, 81, 78, 36, 14, 150, 2]\n"
          ]
        }
      ],
      "source": [
        "nums= [2, 150, 14, 36, 78, 81, 14, 1000, 54, 14, 14]\n",
        "reverse_list= nums[::-1]\n",
        "print(reverse_list)"
      ]
    },
    {
      "cell_type": "markdown",
      "metadata": {
        "id": "UV5mw3sXh7AL"
      },
      "source": [
        "**Problem 6**\n",
        "\n",
        "\n",
        "\n",
        "*   Use the list below.\n",
        "*   Slice the list so only the last two elements are included in the slice.\n",
        "\n"
      ]
    },
    {
      "cell_type": "code",
      "execution_count": null,
      "metadata": {
        "id": "1gj4O32HiLg7"
      },
      "outputs": [],
      "source": [
        "one_to_five= [1, 2, 3, 4, 5]\n",
        "print(one_to_five[-2:])"
      ]
    },
    {
      "cell_type": "code",
      "execution_count": 27,
      "metadata": {},
      "outputs": [
        {
          "name": "stdout",
          "output_type": "stream",
          "text": [
            "[4, 5]\n"
          ]
        }
      ],
      "source": [
        "one_to_five= [1, 2, 3, 4, 5]\n",
        "last_two = one_to_five[-2:]\n",
        "print(last_two)"
      ]
    },
    {
      "cell_type": "markdown",
      "metadata": {
        "id": "eO_HnwfUic9F"
      },
      "source": [
        "**Problem 7**\n",
        "\n",
        "*   Use the list below\n",
        "*   Write a for loop so that every item in the list is printed\n",
        "\n"
      ]
    },
    {
      "cell_type": "code",
      "execution_count": null,
      "metadata": {
        "id": "oJdo3DfcisLP"
      },
      "outputs": [],
      "source": [
        "animals= [\"koala\", \"cat\", \"fox\", \"panda\", \"chipmunk\", \"sloth\"]"
      ]
    },
    {
      "cell_type": "code",
      "execution_count": 34,
      "metadata": {},
      "outputs": [
        {
          "name": "stdout",
          "output_type": "stream",
          "text": [
            "koala\n",
            "cat\n",
            "fox\n",
            "panda\n",
            "chipmunk\n",
            "sloth\n"
          ]
        }
      ],
      "source": [
        "animals= [\"koala\", \"cat\", \"fox\", \"panda\", \"chipmunk\", \"sloth\"]\n",
        "for item in animals:\n",
        "    print(item)"
      ]
    },
    {
      "cell_type": "markdown",
      "metadata": {
        "id": "gmEVvlB5jG7m"
      },
      "source": [
        "**Problem 8**\n",
        "\n",
        "\n",
        "\n",
        "* Use the list below\n",
        "* Create a function that accepts a list as an argument\n",
        "*   Check if the data type at each index is a list\n",
        "*   If it is a list, check the length of the list. If it is greater than 3, add the second element to a new list.\n",
        "*   Return the new list\n",
        "\n",
        "\n",
        "\n",
        "\n",
        "\n"
      ]
    },
    {
      "cell_type": "code",
      "execution_count": null,
      "metadata": {
        "id": "RDlz_hkCj08s"
      },
      "outputs": [],
      "source": [
        "random_things= ['hello', ['breakfast', 'you', 'pencil', 2], 22, ['burrito', 'taco'],\n",
        "                [22, 'win', 33, [5], 'laptop']]"
      ]
    },
    {
      "cell_type": "code",
      "execution_count": 39,
      "metadata": {},
      "outputs": [],
      "source": [
        "random_things= ['hello', ['breakfast', 'you', 'pencil', 2], 22, ['burrito', 'taco'],\n",
        "                [22, 'win', 33, [5], 'laptop']]\n",
        "def process_list(input_list): \n",
        "    new_list = []\n",
        "    for item in input_list:\n",
        "        if isinstance(item, list):\n",
        "            if len(item) > 3:\n",
        "                new_list.append(item[1])\n",
        "            return new_list\n",
        "        random_things = ['hello', ['breakfast', 'you', 'pencil', 2], 22, ['burrito', 'taco'],\n",
        "                 [22, 'win', 33, [5], 'laptop']]\n",
        "        result = process_list(random_things)\n",
        "        print(result)\n",
        "\n",
        "\n"
      ]
    },
    {
      "cell_type": "markdown",
      "metadata": {
        "id": "WdAG983lk4yc"
      },
      "source": [
        "**Problem 9**\n",
        "\n",
        "\n",
        "\n",
        "*   Use the list below\n",
        "*   Create a new list\n",
        "*   Use a for loop and the append() method to append each item with a Dr. prefix to the new list.\n",
        "\n",
        "\n",
        "\n",
        "\n"
      ]
    },
    {
      "cell_type": "code",
      "execution_count": null,
      "metadata": {
        "id": "jRp_K6kOlTDx"
      },
      "outputs": [],
      "source": [
        "names= ['Dre', 'Seuss', 'Who', 'McCoy']\n",
        "Doctors = []\n",
        "for name in names:\n",
        "  Doctors.append(\"Dr.\"+name)\n",
        "print(Doctors)"
      ]
    },
    {
      "cell_type": "code",
      "execution_count": null,
      "metadata": {},
      "outputs": [],
      "source": []
    },
    {
      "cell_type": "markdown",
      "metadata": {
        "id": "aHfC8mXulwEl"
      },
      "source": [
        "**Problem 10**\n",
        "\n",
        "\n",
        "\n",
        "*   Use the list below\n",
        "*   Use a while loop, iterate through the list and if there is an integer 100, print a message that says what index the 100 is at\n",
        "*   Example: \"There is a 100 at index no: 5\"\n",
        "\n",
        "\n",
        "\n",
        "\n",
        "\n"
      ]
    },
    {
      "cell_type": "code",
      "execution_count": null,
      "metadata": {
        "id": "psW443glmlVe"
      },
      "outputs": [],
      "source": [
        "num2= [10, 99, 85, 76, 43, 2, 77, 100, 13, 12, 42, 99, -1, -100]"
      ]
    },
    {
      "cell_type": "markdown",
      "metadata": {
        "id": "zV4_y6n8mzL9"
      },
      "source": [
        "**Problem 11**\n",
        "\n",
        "\n",
        "\n",
        "\n",
        "*   Use the list below\n",
        "*   Create a new list\n",
        "*   Use a for loop or a whole loop to iterate through the list and append all the elements in the old list, to the new list UNLESS the element is an empty string\n",
        "\n",
        "\n"
      ]
    },
    {
      "cell_type": "code",
      "execution_count": null,
      "metadata": {
        "id": "vCGbxhKXnKjM"
      },
      "outputs": [],
      "source": [
        "list1= [\"McDonald's\", \"Wendy's\", \"\", \"Burger King\", \"\", \"Taco Bell\"]\n",
        "new_list = []\n",
        "for i in list1:\n",
        "  if i:\n",
        "    new_list.append(i)\n",
        "print(new_list)\n"
      ]
    },
    {
      "cell_type": "code",
      "execution_count": null,
      "metadata": {
        "id": "gYZOUFbprwPQ"
      },
      "outputs": [],
      "source": [
        "\n",
        "my_list = [1, 2, 3]\n",
        "another_list = [4, 5, 6]\n",
        "my_list.append(another_list)\n",
        "print(my_list)  # Output: [1, 2, 3, [4, 5, 6]]\n",
        "\n",
        "my_list = [1, 2, 3]\n",
        "another_list = [4, 5, 6]\n",
        "my_list.extend(another_list)\n",
        "  # Output: [1, 2, 3, 4, 5, 6]\n",
        "another_list.append(7)\n",
        "print(my_list,another_list)"
      ]
    },
    {
      "cell_type": "markdown",
      "metadata": {
        "id": "yPurohASnUVy"
      },
      "source": []
    }
  ],
  "metadata": {
    "colab": {
      "provenance": []
    },
    "kernelspec": {
      "display_name": "base",
      "language": "python",
      "name": "python3"
    },
    "language_info": {
      "codemirror_mode": {
        "name": "ipython",
        "version": 3
      },
      "file_extension": ".py",
      "mimetype": "text/x-python",
      "name": "python",
      "nbconvert_exporter": "python",
      "pygments_lexer": "ipython3",
      "version": "3.12.7"
    }
  },
  "nbformat": 4,
  "nbformat_minor": 0
}
