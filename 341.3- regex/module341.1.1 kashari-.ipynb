{
 "cells": [
  {
   "cell_type": "markdown",
   "metadata": {},
   "source": [
    "# Lesson 341.1 Practice"
   ]
  },
  {
   "cell_type": "markdown",
   "metadata": {},
   "source": [
    "## GLAB 341.1- The \"try\" & \"except\" block to handling exceptions "
   ]
  },
  {
   "cell_type": "code",
   "execution_count": null,
   "metadata": {},
   "outputs": [],
   "source": [
    "#                                                                    Notes/Comments\n",
    "# Basic Exception Handling: Code within the (try block) is monitored for errors. If an error (exception) occurs, the code within the except block is executed, preventing the program from crashing.\n",
    "\n",
    "# Handling Specific Exceptions: Instead of catching all exceptions (like ValueError and ZeroDivisionError) using multiple except blocks. This allows for tailored error messages and more robust code.\n",
    "\n",
    "# User Input and Error Handling: The provided examples illustrate how to handle potential errors arising from user input, such as when a user enters invalid data types or attempts to divide by zero.\n",
    "\n",
    "# Python uses try and except keywords to handle exceptions. Both keywords are followed by indented blocks. \n",
    "\n",
    "# For example, try:\n",
    "            # statements in try block\n",
    "# For example, executed: \n",
    "            # executed when error in try block\n"
   ]
  },
  {
   "cell_type": "code",
   "execution_count": null,
   "metadata": {},
   "outputs": [
    {
     "ename": "ZeroDivisionError",
     "evalue": "division by zero",
     "output_type": "error",
     "traceback": [
      "\u001b[1;31m---------------------------------------------------------------------------\u001b[0m",
      "\u001b[1;31mZeroDivisionError\u001b[0m                         Traceback (most recent call last)",
      "Cell \u001b[1;32mIn[1], line 3\u001b[0m\n\u001b[0;32m      1\u001b[0m a \u001b[38;5;241m=\u001b[39m \u001b[38;5;241m10\u001b[39m \n\u001b[0;32m      2\u001b[0m b \u001b[38;5;241m=\u001b[39m \u001b[38;5;241m0\u001b[39m \n\u001b[1;32m----> 3\u001b[0m c \u001b[38;5;241m=\u001b[39m a \u001b[38;5;241m/\u001b[39m b \n\u001b[0;32m      4\u001b[0m \u001b[38;5;28mprint\u001b[39m(\u001b[38;5;124m\"\u001b[39m\u001b[38;5;124ma/b = \u001b[39m\u001b[38;5;132;01m%d\u001b[39;00m\u001b[38;5;124m\"\u001b[39m \u001b[38;5;241m%\u001b[39m c)\n",
      "\u001b[1;31mZeroDivisionError\u001b[0m: division by zero"
     ]
    }
   ],
   "source": [
    "#If we divide any number by zero, try block will throw ZeroDivisionError for example, \n",
    "\n",
    "a = 10 \n",
    "b = 0 \n",
    "c = a / b \n",
    "print(\"a/b = %d\" % c) "
   ]
  },
  {
   "cell_type": "code",
   "execution_count": null,
   "metadata": {},
   "outputs": [
    {
     "ename": "ZeroDivisionError",
     "evalue": "division by zero",
     "output_type": "error",
     "traceback": [
      "\u001b[1;31m---------------------------------------------------------------------------\u001b[0m",
      "\u001b[1;31mZeroDivisionError\u001b[0m                         Traceback (most recent call last)",
      "Cell \u001b[1;32mIn[6], line 3\u001b[0m\n\u001b[0;32m      1\u001b[0m a \u001b[38;5;241m=\u001b[39m \u001b[38;5;241m8\u001b[39m \n\u001b[0;32m      2\u001b[0m b \u001b[38;5;241m=\u001b[39m \u001b[38;5;241m0\u001b[39m \n\u001b[1;32m----> 3\u001b[0m c \u001b[38;5;241m=\u001b[39m a\u001b[38;5;241m/\u001b[39mb \n\u001b[0;32m      4\u001b[0m \u001b[38;5;28mprint\u001b[39m(\u001b[38;5;124m\"\u001b[39m\u001b[38;5;124ma/b = \u001b[39m\u001b[38;5;132;01m%d\u001b[39;00m\u001b[38;5;124m\"\u001b[39m \u001b[38;5;241m%\u001b[39m c)\n",
      "\u001b[1;31mZeroDivisionError\u001b[0m: division by zero"
     ]
    }
   ],
   "source": [
    "# Here's my example\n",
    "a = 8 \n",
    "b = 0 \n",
    "c = a/b \n",
    "print(\"a/b = %d\" % c)"
   ]
  },
  {
   "cell_type": "code",
   "execution_count": null,
   "metadata": {},
   "outputs": [
    {
     "name": "stdout",
     "output_type": "stream",
     "text": [
      "Can't divide with zero. Provide different number\n"
     ]
    }
   ],
   "source": [
    "# We can handle the above exception using the try…except block. See the following code.\n",
    "try: \n",
    "    a = 10 \n",
    "    b = 0 \n",
    "    print(\"Can't divide with zero. Provide different number\") \n",
    "    c = a/b \n",
    "    print(\"The answer of a divide by b:\", c) \n",
    "except: "
   ]
  },
  {
   "cell_type": "code",
   "execution_count": null,
   "metadata": {},
   "outputs": [
    {
     "name": "stdout",
     "output_type": "stream",
     "text": [
      "Can't divide with zero. Provide different number\n"
     ]
    }
   ],
   "source": [
    "# Here's my example \n",
    "try: \n",
    "    a = 8 \n",
    "    b = 0 \n",
    "    c = a/b\n",
    "except:\n",
    "    print(\"Can't divide with zero. Provide different number\")"
   ]
  },
  {
   "cell_type": "code",
   "execution_count": null,
   "metadata": {},
   "outputs": [],
   "source": [
    "# Using class with iterator functions #\n",
    "class Recipes: \n",
    "    def __init__(self,Recipes): \n",
    "        self.Recipes = Recipes\n",
    "        self.index = 0 \n",
    "    def __iter__(self): \n",
    "        return self \n",
    "    def __next__(self): \n",
    "        if self.index >= len(self.Recipes):\n",
    "            raise StopIteration\n",
    "        current_recipe= self.recipes[self.index]\n",
    "        self.index += 1\n",
    "        return current_recipe\n",
    "    \n",
    "\n",
    "# To add a recipe\n",
    "def add_recipe(sel,recipes):\n",
    "    self.recipes.append(recipes) "
   ]
  },
  {
   "cell_type": "markdown",
   "metadata": {},
   "source": [
    "# 341.2.1 - Python- Generators Functions"
   ]
  },
  {
   "cell_type": "code",
   "execution_count": null,
   "metadata": {},
   "outputs": [],
   "source": [
    "# Python uses a generator to create a iterator function \n",
    "# A generator is a special type of function which does not return a single value, instead, it returns an iterator object with a sequence of values. \n",
    "# In a generator function, a yield statement is used rather than a return statement. "
   ]
  },
  {
   "cell_type": "code",
   "execution_count": null,
   "metadata": {},
   "outputs": [],
   "source": [
    "# This is a generator statement \n",
    "\n",
    "def mygenerator():\n",
    "    print('First item')\n",
    "    yield 10\n",
    "    \n",
    "# The mygenerator() function is a generator function\n",
    "\n",
    "    print('Second item')\n",
    "    yield 20\n",
    "\n",
    "    print('Last item')\n",
    "    yield 30\n"
   ]
  },
  {
   "cell_type": "code",
   "execution_count": 3,
   "metadata": {},
   "outputs": [
    {
     "name": "stdout",
     "output_type": "stream",
     "text": [
      "First item\n",
      "10\n",
      "Second item\n",
      "20\n",
      "Last item\n",
      "30\n"
     ]
    },
    {
     "ename": "StopIteration",
     "evalue": "",
     "output_type": "error",
     "traceback": [
      "\u001b[1;31m---------------------------------------------------------------------------\u001b[0m",
      "\u001b[1;31mStopIteration\u001b[0m                             Traceback (most recent call last)",
      "Cell \u001b[1;32mIn[3], line 13\u001b[0m\n\u001b[0;32m     10\u001b[0m val \u001b[38;5;241m=\u001b[39m \u001b[38;5;28mnext\u001b[39m(gen) \u001b[38;5;66;03m#Last item\u001b[39;00m\n\u001b[0;32m     11\u001b[0m \u001b[38;5;28mprint\u001b[39m(val) \u001b[38;5;66;03m#30\u001b[39;00m\n\u001b[1;32m---> 13\u001b[0m val \u001b[38;5;241m=\u001b[39m \u001b[38;5;28mnext\u001b[39m(gen)\n",
      "\u001b[1;31mStopIteration\u001b[0m: "
     ]
    }
   ],
   "source": [
    "# Example on how to create an iterator for a generator below\n",
    "\n",
    "gen = mygenerator()\n",
    "val = next(gen) #First item\n",
    "print(val) #10\n",
    "\n",
    "val = next(gen) #Second item\n",
    "print(val) #20\n",
    "\n",
    "val = next(gen) #Last item\n",
    "print(val) #30\n",
    "\n",
    "val = next(gen) #error"
   ]
  },
  {
   "cell_type": "code",
   "execution_count": null,
   "metadata": {},
   "outputs": [],
   "source": [
    "# The generator function- mygenerator() cannot include the \"return\" keyword if you include the keyword it, will terminate the function.\n",
    "# The difference between yield and return is that THE YIELD returns a value and pauses the execution while maintaining internal states.\n",
    "# THE RETURN statement returns a value and terminates the execution of the function. "
   ]
  },
  {
   "cell_type": "code",
   "execution_count": null,
   "metadata": {},
   "outputs": [],
   "source": [
    "# This is a return statement in mygenerator()\n",
    "\n",
    "def mygenerator():\n",
    "    print('First item')\n",
    "    yield 10\n",
    "\n",
    "    return\n",
    "\n",
    "    print('Second item')\n",
    "    yield 20\n",
    "\n",
    "    print('Last item')\n",
    "    yield 30\n",
    "\n",
    "    \n"
   ]
  },
  {
   "cell_type": "code",
   "execution_count": null,
   "metadata": {},
   "outputs": [],
   "source": []
  }
 ],
 "metadata": {
  "kernelspec": {
   "display_name": "base",
   "language": "python",
   "name": "python3"
  },
  "language_info": {
   "codemirror_mode": {
    "name": "ipython",
    "version": 3
   },
   "file_extension": ".py",
   "mimetype": "text/x-python",
   "name": "python",
   "nbconvert_exporter": "python",
   "pygments_lexer": "ipython3",
   "version": "3.12.7"
  }
 },
 "nbformat": 4,
 "nbformat_minor": 2
}
