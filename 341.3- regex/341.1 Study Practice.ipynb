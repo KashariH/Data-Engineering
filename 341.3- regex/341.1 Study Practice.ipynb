{
 "cells": [
  {
   "cell_type": "markdown",
   "id": "a0ea6853",
   "metadata": {},
   "source": [
    "# Lambda Practice"
   ]
  },
  {
   "cell_type": "code",
   "execution_count": 9,
   "id": "b8665176",
   "metadata": {},
   "outputs": [
    {
     "name": "stdout",
     "output_type": "stream",
     "text": [
      "15\n"
     ]
    }
   ],
   "source": [
    "x = lambda a : a + 10 \n",
    "print(x(5))"
   ]
  },
  {
   "cell_type": "code",
   "execution_count": 10,
   "id": "99a788e2",
   "metadata": {},
   "outputs": [
    {
     "name": "stdout",
     "output_type": "stream",
     "text": [
      "42\n"
     ]
    }
   ],
   "source": [
    "z = lambda e: e *6 \n",
    "print(z(7))"
   ]
  },
  {
   "cell_type": "code",
   "execution_count": 1,
   "id": "b43c2bea",
   "metadata": {},
   "outputs": [
    {
     "name": "stdout",
     "output_type": "stream",
     "text": [
      "907\n"
     ]
    }
   ],
   "source": [
    "m = lambda f, l, k : f * l + k \n",
    "print(m(25, 36, 7))"
   ]
  },
  {
   "cell_type": "markdown",
   "id": "f101b2a2",
   "metadata": {},
   "source": [
    "# Generators Practice"
   ]
  },
  {
   "cell_type": "code",
   "execution_count": null,
   "id": "0ccece66",
   "metadata": {},
   "outputs": [],
   "source": [
    "import itertools \n",
    "\n",
    "def prime_numbers():  # Handle the first prime \n",
    "    yield 2 \n",
    "    prime_cache = [2]  # Cache of prime\n",
    "    # Loop over positive, odd integers\n",
    "for n in itertools.count(3, 2):\n",
    "    is_prime = True \n",
    "\n",
    "# Check to see if any prime number divides n \n",
    "for p in prime_cache: \n",
    "    if n % p == 0:   #p divides n evenly \n",
    "        is_prime = False \n",
    "        break\n",
    "\n",
    "    # Is it prime? \n",
    "    if is_prime: \n",
    "        prime_cache.append(n)\n",
    "        yield n \n",
    "\n",
    "for p in prime_numbers():\n",
    "    print(p) \n",
    "    if p > 100: \n",
    "        break"
   ]
  },
  {
   "cell_type": "code",
   "execution_count": null,
   "id": "88c49f02",
   "metadata": {},
   "outputs": [],
   "source": [
    "\"\"\" List Comprehension uses [] square brackets \n",
    "Generator Expression: uses () curly brackets \"\"\""
   ]
  },
  {
   "cell_type": "code",
   "execution_count": null,
   "id": "2a3fa755",
   "metadata": {},
   "outputs": [],
   "source": [
    "def myFunc(): \n",
    "    yield \"Hello\"\n",
    "    yield 51 \n",
    "    yield \"Good Bye\"\n",
    "\n",
    "    x = myFunc() \n",
    "\n",
    "    for z in x print(z)"
   ]
  }
 ],
 "metadata": {
  "kernelspec": {
   "display_name": "base",
   "language": "python",
   "name": "python3"
  },
  "language_info": {
   "codemirror_mode": {
    "name": "ipython",
    "version": 3
   },
   "file_extension": ".py",
   "mimetype": "text/x-python",
   "name": "python",
   "nbconvert_exporter": "python",
   "pygments_lexer": "ipython3",
   "version": "3.12.7"
  }
 },
 "nbformat": 4,
 "nbformat_minor": 5
}
