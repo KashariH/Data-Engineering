{
 "cells": [
  {
   "cell_type": "markdown",
   "metadata": {},
   "source": [
    "## String Practice"
   ]
  },
  {
   "cell_type": "code",
   "execution_count": null,
   "metadata": {},
   "outputs": [
    {
     "name": "stdout",
     "output_type": "stream",
     "text": [
      "<class 'str'>\n",
      "H\n",
      "llo\n",
      "lo World!\n",
      "Hello World!Hello World!\n",
      "Hello World!Everyone!\n",
      "hello world!\n",
      "Hello World!\n",
      "Hesso Worsd!\n",
      "12\n",
      "Hello World!\n",
      "['Hello', 'World!']\n"
     ]
    }
   ],
   "source": [
    "str1= \"this is a string\"\n",
    "print(str)\n",
    "\n",
    "s = 'Hello World!'\n",
    "print(s[0])\n",
    "print(s[2:5])\n",
    "print(s[3:])\n",
    "print(s*2)\n",
    "print(s+'Everyone!')\n",
    "print(s.lower())\n",
    "print(s.replace('l','s'))\n",
    "print(len(s))\n",
    "print(s.strip())\n",
    "print(s.split(' '))\n"
   ]
  },
  {
   "cell_type": "code",
   "execution_count": 6,
   "metadata": {},
   "outputs": [
    {
     "name": "stdout",
     "output_type": "stream",
     "text": [
      "<class 'int'>\n",
      "Integer into String:  10\n",
      "<class 'str'>\n"
     ]
    }
   ],
   "source": [
    "MyInteger= 10\n",
    "print(type(MyInteger))\n",
    "# Converting integer to String\n",
    "integerToStr = str(MyInteger)\n",
    "print(\"Integer into String: \", integerToStr)\n",
    "print(type(integerToStr))\n"
   ]
  },
  {
   "cell_type": "code",
   "execution_count": 11,
   "metadata": {},
   "outputs": [
    {
     "ename": "SyntaxError",
     "evalue": "cannot assign to function call (2707330948.py, line 1)",
     "output_type": "error",
     "traceback": [
      "\u001b[1;36m  Cell \u001b[1;32mIn[11], line 1\u001b[1;36m\u001b[0m\n\u001b[1;33m    str.format()=\u001b[0m\n\u001b[1;37m    ^\u001b[0m\n\u001b[1;31mSyntaxError\u001b[0m\u001b[1;31m:\u001b[0m cannot assign to function call\n"
     ]
    }
   ],
   "source": [
    "str.format()=\n",
    "animal = \"cow\" \n",
    "item = \"moon\"\n",
    "#print(The \"+animal+\" jumped over the \"+item)\n",
    "print(\"The {} jumped over the {}\". format(animal, \"moon\"))\n",
    "\n",
    "name = \"girl\" \n",
    "print(\"Hello my name is {}\".format(name))\n"
   ]
  },
  {
   "cell_type": "code",
   "execution_count": 13,
   "metadata": {},
   "outputs": [
    {
     "data": {
      "text/plain": [
       "'Five plus ten is 15 and not 30.'"
      ]
     },
     "execution_count": 13,
     "metadata": {},
     "output_type": "execute_result"
    }
   ],
   "source": [
    "a = 5\n",
    "b = 10\n",
    "f'Five plus ten is {a+b} and not {2 * (a +b)}.'\n"
   ]
  },
  {
   "cell_type": "code",
   "execution_count": null,
   "metadata": {},
   "outputs": [],
   "source": [
    "year = 2008\n",
    "if year % 4 == 0\n",
    "if \n",
    "else  by 100"
   ]
  }
 ],
 "metadata": {
  "kernelspec": {
   "display_name": "base",
   "language": "python",
   "name": "python3"
  },
  "language_info": {
   "codemirror_mode": {
    "name": "ipython",
    "version": 3
   },
   "file_extension": ".py",
   "mimetype": "text/x-python",
   "name": "python",
   "nbconvert_exporter": "python",
   "pygments_lexer": "ipython3",
   "version": "3.12.7"
  }
 },
 "nbformat": 4,
 "nbformat_minor": 2
}
