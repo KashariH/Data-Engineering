{
 "cells": [
  {
   "cell_type": "markdown",
   "metadata": {},
   "source": [
    "# Kashari Practice.Assignment-Dictionary "
   ]
  },
  {
   "cell_type": "code",
   "execution_count": 10,
   "metadata": {},
   "outputs": [
    {
     "name": "stdout",
     "output_type": "stream",
     "text": [
      "Movie: The Dark Knight\n",
      "year: 2008\n",
      "genre: Action\n",
      "director: Christopher Nolan\n",
      "actors: ['Christian Bale', 'Heath Ledger', 'Aaron Eckhart']\n",
      "\n",
      "Movie: Inception\n",
      "year: 2010\n",
      "genre: Sci-Fi\n",
      "director: Christopher Nolan\n",
      "actors: ['Leonardo DiCaprio', 'Joseph Gordon-Levitt', 'Ellen Page']\n",
      "\n",
      "Movie: Pulp Fiction\n",
      "year: 1994\n",
      "genre: Crime\n",
      "director: Quentin Tarantino\n",
      "actors: ['John Travolta', 'Samuel L. Jackson', 'Uma Thurman']\n",
      "\n",
      "The genre of Inception is Sci-Fi.\n"
     ]
    }
   ],
   "source": [
    "# Define dictionary of movies and their information\n",
    "movies = {\n",
    "    \"The Dark Knight\": {\n",
    "        \"year\": 2008,\n",
    "        \"genre\": \"Action\",\n",
    "        \"director\": \"Christopher Nolan\",\n",
    "        \"actors\": [\"Christian Bale\", \"Heath Ledger\", \"Aaron Eckhart\"]\n",
    "    },\n",
    "    \"Inception\": {\n",
    "        \"year\": 2010,\n",
    "        \"genre\": \"Sci-Fi\",\n",
    "        \"director\": \"Christopher Nolan\",\n",
    "        \"actors\": [\"Leonardo DiCaprio\", \"Joseph Gordon-Levitt\", \"Ellen Page\"]\n",
    "    },\n",
    "    \"Pulp Fiction\": {\n",
    "        \"year\": 1994,\n",
    "        \"genre\": \"Crime\",\n",
    "        \"director\": \"Quentin Tarantino\",\n",
    "        \"actors\": [\"John Travolta\", \"Samuel L. Jackson\", \"Uma Thurman\"]\n",
    "    }\n",
    "}\n",
    "\n",
    "# Print out the movies and their information using square bracket syntax and .keys and .values\n",
    "for movie in movies:\n",
    "    print(f\"Movie: {movie}\")\n",
    "    for key, value in movies[movie].items():\n",
    "        print(f\"{key}: {value}\")\n",
    "    print()\n",
    "\n",
    "# Update an element in the dictionary\n",
    "movies[\"The Dark Knight\"][\"year\"] = 2009\n",
    "\n",
    "# Delete an element from the dictionary\n",
    "del movies[\"Pulp Fiction\"]\n",
    "\n",
    "# Get a value from the dictionary using .get\n",
    "genre = movies.get(\"Inception\").get(\"genre\")\n",
    "print(f\"The genre of Inception is {genre}.\")\n"
   ]
  },
  {
   "cell_type": "code",
   "execution_count": null,
   "metadata": {},
   "outputs": [
    {
     "ename": "IndentationError",
     "evalue": "unexpected indent (1841383976.py, line 15)",
     "output_type": "error",
     "traceback": [
      "\u001b[1;36m  Cell \u001b[1;32mIn[28], line 15\u001b[1;36m\u001b[0m\n\u001b[1;33m    },\u001b[0m\n\u001b[1;37m    ^\u001b[0m\n\u001b[1;31mIndentationError\u001b[0m\u001b[1;31m:\u001b[0m unexpected indent\n"
     ]
    }
   ],
   "source": [
    "# Define dictionary of movies and their information\n",
    "\n",
    "movies = {\n",
    "    #\"The Dark Knight\": {\n",
    "      #  \"year\": 2008,\n",
    "       # \"genre\": \"Action\",\n",
    "        #\"director\": \"Christopher Nolan\",\n",
    "        #\"actors\": [\"Christian Bale\", \"Heath Ledger\", \"Aaron Eckhart\"]\n",
    "    },\n",
    "    #\"Inception\": {\n",
    "     #   \"year\": 2010,\n",
    "      #  \"genre\": \"Sci-Fi\",\n",
    "       # \"director\": \"Christopher Nolan\",\n",
    "        #\"actors\": [\"Leonardo DiCaprio\", \"Joseph Gordon-Levitt\", \"Ellen Page\"]\n",
    "    },\n",
    "    #\"Pulp Fiction\": {\n",
    "    #    \"year\": 1994,\n",
    "     #   \"genre\": \"Crime\",\n",
    "      #  \"director\": \"Quentin Tarantino\",\n",
    "       # \"actors\": [\"John Travolta\", \"Samuel L. Jackson\", \"Uma Thurman\"]\n",
    "    }\n",
    "}\n",
    "\n"
   ]
  },
  {
   "cell_type": "code",
   "execution_count": 41,
   "metadata": {},
   "outputs": [
    {
     "name": "stdout",
     "output_type": "stream",
     "text": [
      "{'The Dark Knight': {'year': 2005, 'genre': 'Action', 'director': 'Christopher Nolan', 'actors': ['Christian Bale', 'Heath Ledger', 'Aaron Eckhart']}, 'Inception': {'year': 2010, 'genre': 'Sci-Fi', 'director': 'Christopher Nolan', 'actors': ['Leonardo DiCaprio', 'Joseph Gordon-Levitt', 'Ellen Page']}, 'Pulp Fiction': {'year': 1994, 'genre': 'Crime'}}\n",
      "The genre of Inception is Sci-Fi.\n",
      "{'year': 1994, 'genre': 'Crime'}\n"
     ]
    }
   ],
   "source": [
    "movies[\"The Dark Knight\"][\"year\"] = 2005\n",
    "print(movies)\n",
    "\n",
    "\n",
    "genre = movies.get(\"Inception\").get(\"genre\") \n",
    "print(f\"The genre of Inception is {genre}.\")\n",
    "\n",
    "\n",
    "movies[\"Pulp Fiction\"].pop(\"actor\", 'Ellen Page')\n",
    "\n",
    "print(movies[\"Pulp Fiction\"])"
   ]
  },
  {
   "cell_type": "code",
   "execution_count": null,
   "metadata": {},
   "outputs": [
    {
     "ename": "IndentationError",
     "evalue": "unexpected indent (818086169.py, line 20)",
     "output_type": "error",
     "traceback": [
      "\u001b[1;36m  Cell \u001b[1;32mIn[58], line 20\u001b[1;36m\u001b[0m\n\u001b[1;33m    result = '.join([char for char in input_string if char.lower() not in drive_consonants])'\u001b[0m\n\u001b[1;37m    ^\u001b[0m\n\u001b[1;31mIndentationError\u001b[0m\u001b[1;31m:\u001b[0m unexpected indent\n"
     ]
    }
   ],
   "source": [
    "def __init__(self, drive):\n",
    "\n",
    "    self.drive = drive\n",
    "\n",
    "# Create TWO METHODS that remove all the consonants or the vowels from the given word. \n",
    "# Must retain the original order of the characters in the returned strings. \n",
    "\n",
    "def filter_consonants(self):'drive'\n",
    "\n",
    "filter_consonants:'drive' \n",
    "\n",
    "# This printed out what I inputted within the (). \n",
    "print('drive filter_consonants')\n",
    "\n",
    "def filter_drive_consonants(input_string):\n",
    "\n",
    "    drive_consonants = 'drv'\n",
    "consonants= \n",
    " \n",
    "result ="
   ]
  },
  {
   "cell_type": "code",
   "execution_count": null,
   "metadata": {},
   "outputs": [],
   "source": [
    "class Libary:\n",
    "    lib_name = 'shari libary' \n",
    "    lib_location = '3020 N Howard St' \n",
    "    lib_members = '25' \n",
    "# Behavior (methods) \n",
    "\n",
    "def filter_vowels(self):\n",
    "    print(self.lib_name, ''\n",
    "\n"
   ]
  },
  {
   "cell_type": "code",
   "execution_count": 60,
   "metadata": {},
   "outputs": [
    {
     "name": "stdout",
     "output_type": "stream",
     "text": [
      "2\n"
     ]
    }
   ],
   "source": [
    "_a = 2  \n",
    "print(2)"
   ]
  }
 ],
 "metadata": {
  "kernelspec": {
   "display_name": "base",
   "language": "python",
   "name": "python3"
  },
  "language_info": {
   "codemirror_mode": {
    "name": "ipython",
    "version": 3
   },
   "file_extension": ".py",
   "mimetype": "text/x-python",
   "name": "python",
   "nbconvert_exporter": "python",
   "pygments_lexer": "ipython3",
   "version": "3.12.7"
  }
 },
 "nbformat": 4,
 "nbformat_minor": 2
}
